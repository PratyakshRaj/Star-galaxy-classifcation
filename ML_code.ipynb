{
 "cells": [
  {
   "cell_type": "code",
   "execution_count": 511,
   "metadata": {},
   "outputs": [],
   "source": [
    "import pandas as pd\n",
    "import numpy as np\n",
    "import matplotlib.pyplot as plt\n",
    "import seaborn as sns\n",
    "import sklearn\n",
    "import tensorflow\n",
    "import keras\n",
    "import seaborn as sns"
   ]
  },
  {
   "cell_type": "code",
   "execution_count": 531,
   "metadata": {},
   "outputs": [],
   "source": [
    "f1=pd.read_csv(\"final_raw_to_use.csv\")"
   ]
  },
  {
   "cell_type": "code",
   "execution_count": 532,
   "metadata": {},
   "outputs": [],
   "source": [
    "from cmath import nan\n",
    "\n",
    "\n",
    "f1=f1.replace(-99,nan)\n",
    "f1=f1.replace(99,nan)"
   ]
  },
  {
   "cell_type": "code",
   "execution_count": 533,
   "metadata": {},
   "outputs": [],
   "source": [
    "f1 = f1[f1.isnull().sum(axis=1) < 5] # taking only objects for which less than 5 band flux is unknown"
   ]
  },
  {
   "cell_type": "code",
   "execution_count": 534,
   "metadata": {},
   "outputs": [
    {
     "name": "stdout",
     "output_type": "stream",
     "text": [
      "<class 'pandas.core.frame.DataFrame'>\n",
      "Int64Index: 31870 entries, 0 to 38426\n",
      "Data columns (total 28 columns):\n",
      " #   Column        Non-Null Count  Dtype  \n",
      "---  ------        --------------  -----  \n",
      " 0   id            31870 non-null  int64  \n",
      " 1   f365w         24047 non-null  float64\n",
      " 2   f396w         25543 non-null  float64\n",
      " 3   f427w         30096 non-null  float64\n",
      " 4   f458w         27761 non-null  float64\n",
      " 5   f489w         31639 non-null  float64\n",
      " 6   f520w         31639 non-null  float64\n",
      " 7   f551w         29805 non-null  float64\n",
      " 8   f582w         31564 non-null  float64\n",
      " 9   f613w         31370 non-null  float64\n",
      " 10  f644w         31713 non-null  float64\n",
      " 11  f675w         31767 non-null  float64\n",
      " 12  f706w         31860 non-null  float64\n",
      " 13  f737w         31855 non-null  float64\n",
      " 14  f768w         31756 non-null  float64\n",
      " 15  f799w         31699 non-null  float64\n",
      " 16  f830w         31432 non-null  float64\n",
      " 17  f861w         31674 non-null  float64\n",
      " 18  f892w         29961 non-null  float64\n",
      " 19  f923w         31408 non-null  float64\n",
      " 20  f954w         29844 non-null  float64\n",
      " 21  j             30238 non-null  float64\n",
      " 22  h             28996 non-null  float64\n",
      " 23  ks            28775 non-null  float64\n",
      " 24  f814w         31870 non-null  float64\n",
      " 25  fwhm          31870 non-null  float64\n",
      " 26  stellar_flag  31870 non-null  float64\n",
      " 27  g/s           31870 non-null  int64  \n",
      "dtypes: float64(26), int64(2)\n",
      "memory usage: 7.1 MB\n"
     ]
    }
   ],
   "source": [
    "f1.info()"
   ]
  },
  {
   "cell_type": "code",
   "execution_count": 535,
   "metadata": {},
   "outputs": [],
   "source": [
    "f1.fillna(f1.median().round(3), inplace=True)"
   ]
  },
  {
   "cell_type": "code",
   "execution_count": 536,
   "metadata": {},
   "outputs": [
    {
     "data": {
      "text/plain": [
       "Index(['id', 'f365w', 'f396w', 'f427w', 'f458w', 'f489w', 'f520w', 'f551w',\n",
       "       'f582w', 'f613w', 'f644w', 'f675w', 'f706w', 'f737w', 'f768w', 'f799w',\n",
       "       'f830w', 'f861w', 'f892w', 'f923w', 'f954w', 'j', 'h', 'ks', 'f814w',\n",
       "       'fwhm', 'stellar_flag', 'g/s'],\n",
       "      dtype='object')"
      ]
     },
     "execution_count": 536,
     "metadata": {},
     "output_type": "execute_result"
    }
   ],
   "source": [
    "f1.columns"
   ]
  },
  {
   "cell_type": "code",
   "execution_count": 537,
   "metadata": {},
   "outputs": [
    {
     "data": {
      "text/plain": [
       "5991"
      ]
     },
     "execution_count": 537,
     "metadata": {},
     "output_type": "execute_result"
    }
   ],
   "source": [
    "len(f1[(f1[\"f814w\"]<22.5) & (f1[\"g/s\"]==0)])"
   ]
  },
  {
   "cell_type": "code",
   "execution_count": 538,
   "metadata": {},
   "outputs": [
    {
     "data": {
      "text/plain": [
       "2247"
      ]
     },
     "execution_count": 538,
     "metadata": {},
     "output_type": "execute_result"
    }
   ],
   "source": [
    "len(f1[(f1[\"f814w\"]<26) & (f1[\"g/s\"]==1)])"
   ]
  },
  {
   "cell_type": "code",
   "execution_count": 419,
   "metadata": {},
   "outputs": [],
   "source": [
    "f2=f1.copy(deep=True)\n",
    "f2=f2[f2['f814w']<22.5]\n",
    "\n",
    "X=f2.drop([\"id\",'g/s','stellar_flag'],axis=1)\n",
    "y=f2['g/s']"
   ]
  },
  {
   "cell_type": "code",
   "execution_count": 421,
   "metadata": {},
   "outputs": [
    {
     "data": {
      "text/plain": [
       "1764"
      ]
     },
     "execution_count": 421,
     "metadata": {},
     "output_type": "execute_result"
    }
   ],
   "source": [
    "len(y[y==1]) # no. of stars"
   ]
  },
  {
   "cell_type": "markdown",
   "metadata": {},
   "source": [
    "# checking best performing model "
   ]
  },
  {
   "cell_type": "markdown",
   "metadata": {},
   "source": [
    "## ANN"
   ]
  },
  {
   "cell_type": "code",
   "execution_count": 422,
   "metadata": {},
   "outputs": [],
   "source": [
    "from keras.layers import Dense, Activation,Dropout\n",
    "from keras.wrappers.scikit_learn import KerasClassifier\n",
    "from keras.models import Sequential\n",
    "from sklearn.preprocessing import MinMaxScaler\n",
    "from keras.optimizers import Adam\n",
    "from sklearn.metrics import accuracy_score\n",
    "from keras.layers import BatchNormalization\n",
    "from sklearn.model_selection import GridSearchCV\n",
    "from sklearn.metrics import roc_auc_score\n",
    "from sklearn.metrics import roc_curve\n",
    "from sklearn.metrics import auc"
   ]
  },
  {
   "cell_type": "code",
   "execution_count": 447,
   "metadata": {},
   "outputs": [],
   "source": [
    "from sklearn.model_selection import train_test_split\n",
    "x_train,x_test,y_train,y_test=train_test_split(X,y,test_size=0.15,random_state=1)"
   ]
  },
  {
   "cell_type": "code",
   "execution_count": 424,
   "metadata": {},
   "outputs": [],
   "source": [
    "def ANN(no_of_neurons,no_of_layers,dropout,activation,learning_rate):   # difining neural net\n",
    "    model=Sequential()\n",
    "    model.add(Dense(no_of_neurons,input_dim=x_train.shape[1],activation=activation))\n",
    "    model.add(BatchNormalization())\n",
    "    for i in range(no_of_layers):\n",
    "     model.add(Dense(no_of_neurons,activation))\n",
    "    model.add(Dropout(dropout))\n",
    "    model.add(Dense(1,activation=\"sigmoid\"))\n",
    "    model.compile(loss=\"binary_crossentropy\",optimizer= Adam(learning_rate=learning_rate),metrics=[\"accuracy\"])\n",
    "    return model"
   ]
  },
  {
   "cell_type": "code",
   "execution_count": 425,
   "metadata": {},
   "outputs": [],
   "source": [
    "def plot_training(training):               # function to check overfitting via graph\n",
    "    acc_values = training['accuracy']\n",
    "    val_acc_values = training['val_accuracy']\n",
    "    epochs = range(1, len(acc_values) + 1)\n",
    "\n",
    "    plt.plot(epochs, acc_values, 'bo', label='Training acc')\n",
    "    plt.plot(epochs, val_acc_values, 'b', label='Test accuracy')\n",
    "    plt.title('Training and validation accuracy')\n",
    "    plt.xlabel('Epochs')\n",
    "    plt.ylabel('Accuracy')\n",
    "    plt.legend()\n",
    "    plt.show()"
   ]
  },
  {
   "cell_type": "code",
   "execution_count": null,
   "metadata": {},
   "outputs": [],
   "source": [
    "test_model=KerasClassifier(build_fn=ANN)    # hyperparameterizing defined neural net\n",
    "param_grid={\n",
    "    'no_of_neurons':[25,40,75],\n",
    "    'no_of_layers':[2,3,4],\n",
    "    'dropout':[0.3,0.5,0.7],\n",
    "    \"activation\":['relu','LeakyRelu'],\n",
    "    \"learning_rate\":[0.003]\n",
    "}\n",
    "\n",
    "cv=GridSearchCV(estimator=test_model,param_grid=param_grid,cv=3,n_jobs=-1)\n",
    "cv.fit(x_train,y_train)\n",
    "print(cv.best_params_)"
   ]
  },
  {
   "cell_type": "code",
   "execution_count": 428,
   "metadata": {},
   "outputs": [],
   "source": [
    "model=ANN(no_of_neurons=25,no_of_layers=2,activation='relu',learning_rate=0.003,dropout=0.5)"
   ]
  },
  {
   "cell_type": "code",
   "execution_count": 429,
   "metadata": {},
   "outputs": [],
   "source": [
    "from keras.callbacks import ModelCheckpoint\n",
    "from keras.callbacks import EarlyStopping               # for getting the best accuracy in all epoches\n",
    "\n",
    "checkpoint= ModelCheckpoint(\"model_checkpoint.h5\",save_best_only=True)\n",
    "early_stopping = EarlyStopping( patience=200, restore_best_weights=True)"
   ]
  },
  {
   "cell_type": "code",
   "execution_count": 32,
   "metadata": {},
   "outputs": [],
   "source": [
    "training_history=model.fit(x_train,y_train,epochs=500,batch_size=500,verbose=0,validation_data=[x_test,y_test],callbacks=[checkpoint,early_stopping])"
   ]
  },
  {
   "cell_type": "code",
   "execution_count": 33,
   "metadata": {},
   "outputs": [
    {
     "data": {
      "image/png": "[encoded data removed]",
      "text/plain": [
       "<Figure size 432x288 with 1 Axes>"
      ]
     },
     "metadata": {
      "needs_background": "light"
     },
     "output_type": "display_data"
    },
    {
     "data": {
      "text/plain": [
       "dict_keys(['loss', 'accuracy', 'val_loss', 'val_accuracy'])"
      ]
     },
     "execution_count": 33,
     "metadata": {},
     "output_type": "execute_result"
    }
   ],
   "source": [
    "training_info=training_history.history\n",
    "plot_training(training_info)\n",
    "training_info.keys()"
   ]
  },
  {
   "cell_type": "markdown",
   "metadata": {},
   "source": [
    "we can see its highly prone to overfitting"
   ]
  },
  {
   "cell_type": "code",
   "execution_count": 68,
   "metadata": {},
   "outputs": [
    {
     "name": "stdout",
     "output_type": "stream",
     "text": [
      "37/37 [==============================] - 0s 2ms/step\n"
     ]
    }
   ],
   "source": [
    "predict=model.predict(x_test)"
   ]
  },
  {
   "cell_type": "markdown",
   "metadata": {},
   "source": [
    "auc score"
   ]
  },
  {
   "cell_type": "code",
   "execution_count": 69,
   "metadata": {},
   "outputs": [
    {
     "data": {
      "text/plain": [
       "0.9912940431575884"
      ]
     },
     "execution_count": 69,
     "metadata": {},
     "output_type": "execute_result"
    }
   ],
   "source": [
    "auc_score=roc_auc_score(y_test,predict)\n",
    "auc_score"
   ]
  },
  {
   "cell_type": "markdown",
   "metadata": {},
   "source": [
    "now classifying by gradually adding features.Starting from 20 optical bands "
   ]
  },
  {
   "cell_type": "code",
   "execution_count": 434,
   "metadata": {},
   "outputs": [
    {
     "name": "stdout",
     "output_type": "stream",
     "text": [
      "37/37 [==============================] - 0s 2ms/step\n",
      "37/37 [==============================] - 0s 2ms/step\n",
      "37/37 [==============================] - 0s 2ms/step\n",
      "37/37 [==============================] - 0s 2ms/step\n"
     ]
    }
   ],
   "source": [
    "score_ann=[]\n",
    "predicted_class_ann=[]\n",
    "\n",
    "for i in (0,3,4,5):\n",
    "    if i==0: \n",
    "        k=3\n",
    "    else: \n",
    "        k=5\n",
    "\n",
    "    x_train_new=x_train.iloc[:,0:20+i]\n",
    "    x_test_new=x_test.iloc[:,0:20+i]\n",
    "    \n",
    "    \n",
    "    model=Sequential()\n",
    "    model.add(Dense(25,input_dim=x_train_new.shape[1],activation='relu'))\n",
    "    model.add(BatchNormalization())\n",
    "    for i in range(2):\n",
    "     model.add(Dense(30,activation='relu'))\n",
    "    model.add(Dropout(0.4))\n",
    "    model.add(Dense(1,activation=\"sigmoid\"))\n",
    "    model.compile(loss=\"binary_crossentropy\",optimizer= Adam(learning_rate=0.003),metrics=[\"accuracy\"])\n",
    "    \n",
    "    checkpoint= ModelCheckpoint(\"model_checkpoint.h5\",save_best_only=True)\n",
    "    early_stopping = EarlyStopping( patience=200, restore_best_weights=True)\n",
    "   \n",
    "    model.fit(x_train_new,y_train,epochs=500,batch_size=500,verbose=0,validation_data=[x_test_new,y_test],callbacks=[checkpoint,early_stopping])\n",
    "\n",
    "    predict=model.predict(x_test_new)\n",
    "    score_ann.append(roc_auc_score(y_test,predict))\n",
    "    predict=pd.DataFrame(predict,columns=['pred_class']) \n",
    "    predict.loc[predict[\"pred_class\"]<0.5, \"pred_class\"] = 0\n",
    "    predict.loc[predict[\"pred_class\"]>0.5, \"pred_class\"] = 1\n",
    "    predicted_class_ann.append(predict)"
   ]
  },
  {
   "cell_type": "code",
   "execution_count": 435,
   "metadata": {},
   "outputs": [
    {
     "data": {
      "text/plain": [
       "[0.8981723907798141,\n",
       " 0.9785966083132263,\n",
       " 0.9828105481116416,\n",
       " 0.9868833102315314]"
      ]
     },
     "execution_count": 435,
     "metadata": {},
     "output_type": "execute_result"
    }
   ],
   "source": [
    "score_ann"
   ]
  },
  {
   "cell_type": "markdown",
   "metadata": {},
   "source": [
    "# RANDOMFOREST"
   ]
  },
  {
   "cell_type": "code",
   "execution_count": 44,
   "metadata": {},
   "outputs": [],
   "source": [
    "from sklearn.ensemble import RandomForestClassifier"
   ]
  },
  {
   "cell_type": "code",
   "execution_count": 46,
   "metadata": {},
   "outputs": [
    {
     "data": {
      "image/png": "[encoded data removed]",
      "text/plain": [
       "<Figure size 432x288 with 1 Axes>"
      ]
     },
     "metadata": {
      "needs_background": "light"
     },
     "output_type": "display_data"
    }
   ],
   "source": [
    "n_estimators=[50,100,150,200,250]      # getting best no. of trees \n",
    "test_area=[]\n",
    "for estimator in n_estimators:\n",
    "    rf=RandomForestClassifier(n_estimators=estimator,n_jobs=-1)\n",
    "    rf.fit(x_train,y_train)\n",
    "    predict=rf.predict(x_test)\n",
    "    roc_auc=roc_auc_score(y_test,predict)\n",
    "    test_area.append(roc_auc)\n",
    "\n",
    "from matplotlib.legend_handler import HandlerLine2D\n",
    "line=plt.plot(n_estimators,test_area)\n",
    "plt.ylabel(\"AUC score\")\n",
    "plt.xlabel(\"n_estimators\")\n",
    "plt.show()\n"
   ]
  },
  {
   "cell_type": "code",
   "execution_count": 51,
   "metadata": {},
   "outputs": [
    {
     "name": "stdout",
     "output_type": "stream",
     "text": [
      "{'min_samples_split': 2, 'n_estimators': 200}\n"
     ]
    }
   ],
   "source": [
    "param_grid={\n",
    "    'n_estimators':[50,100,200],\n",
    "    'min_samples_split':[2,4]\n",
    "}\n",
    "\n",
    "cv=GridSearchCV(estimator=RandomForestClassifier(),param_grid=param_grid,cv=5,n_jobs=-1)\n",
    "cv.fit(x_train,y_train)\n",
    "print(cv.best_params_)"
   ]
  },
  {
   "cell_type": "code",
   "execution_count": 74,
   "metadata": {},
   "outputs": [],
   "source": [
    "rf=RandomForestClassifier(n_estimators=200,min_samples_split=2,n_jobs=-1)\n",
    "rf.fit(x_train,y_train)\n",
    "predict=rf.predict_proba(x_test)"
   ]
  },
  {
   "cell_type": "code",
   "execution_count": 81,
   "metadata": {},
   "outputs": [],
   "source": [
    "predict=pd.DataFrame(data=predict)\n",
    "predict=predict[1].values"
   ]
  },
  {
   "cell_type": "markdown",
   "metadata": {},
   "source": [
    "auc score"
   ]
  },
  {
   "cell_type": "code",
   "execution_count": 87,
   "metadata": {},
   "outputs": [
    {
     "data": {
      "text/plain": [
       "0.9898929616510086"
      ]
     },
     "execution_count": 87,
     "metadata": {},
     "output_type": "execute_result"
    }
   ],
   "source": [
    "auc_score=roc_auc_score(y_test,predict)\n",
    "auc_score"
   ]
  },
  {
   "cell_type": "markdown",
   "metadata": {},
   "source": [
    "running while gradually adding features"
   ]
  },
  {
   "cell_type": "code",
   "execution_count": 443,
   "metadata": {},
   "outputs": [],
   "source": [
    "score_rf=[]\n",
    "predicted_class_rf=[]\n",
    "\n",
    "for i in (0,3,4,5):\n",
    "    if i==0: \n",
    "        k=3\n",
    "    else: \n",
    "        k=5\n",
    "\n",
    "    x_train_new=x_train.iloc[:,0:20+i]\n",
    "    x_test_new=x_test.iloc[:,0:20+i]\n",
    "    \n",
    "    \n",
    "    rf=RandomForestClassifier(n_estimators=150+10*i,min_samples_split=2,n_jobs=-1)\n",
    "    rf.fit(x_train_new,y_train)\n",
    "    predict=rf.predict_proba(x_test_new)\n",
    "    predict=pd.DataFrame(data=predict)\n",
    "    predict=predict[1].values\n",
    "   \n",
    "\n",
    "    score_rf.append(roc_auc_score(y_test,predict))\n",
    "    predict=pd.DataFrame(predict,columns=['pred_class']) \n",
    "    predict.loc[predict[\"pred_class\"]<0.5, \"pred_class\"] = 0\n",
    "    predict.loc[predict[\"pred_class\"]>0.5, \"pred_class\"] = 1\n",
    "    predicted_class_rf.append(predict)"
   ]
  },
  {
   "cell_type": "code",
   "execution_count": 444,
   "metadata": {},
   "outputs": [
    {
     "data": {
      "text/plain": [
       "[0.9691762068552459,\n",
       " 0.9847271420504133,\n",
       " 0.9829902287934014,\n",
       " 0.9890309221897086]"
      ]
     },
     "execution_count": 444,
     "metadata": {},
     "output_type": "execute_result"
    }
   ],
   "source": [
    "score_rf"
   ]
  },
  {
   "cell_type": "markdown",
   "metadata": {},
   "source": [
    "# CNN"
   ]
  },
  {
   "cell_type": "code",
   "execution_count": 88,
   "metadata": {},
   "outputs": [],
   "source": [
    "from keras.layers import Convolution2D\n",
    "from keras.layers import MaxPool2D\n",
    "from keras.layers import Flatten\n",
    "from keras.layers import Dense, Activation,Dropout\n",
    "from keras.wrappers.scikit_learn import KerasClassifier\n",
    "from keras.models import Sequential\n",
    "from sklearn.preprocessing import MinMaxScaler\n",
    "from keras.optimizers import Adam\n",
    "from sklearn.metrics import accuracy_score\n",
    "from keras.layers import BatchNormalization\n",
    "from sklearn.model_selection import GridSearchCV\n",
    "from sklearn.metrics import roc_auc_score\n",
    "from sklearn.metrics import roc_curve\n",
    "from sklearn.metrics import auc\n"
   ]
  },
  {
   "cell_type": "code",
   "execution_count": 125,
   "metadata": {},
   "outputs": [],
   "source": [
    "X=f2.drop([\"id\",'g/s','stellar_flag'],axis=1).values\n",
    "y=f2['g/s'].values"
   ]
  },
  {
   "cell_type": "code",
   "execution_count": 126,
   "metadata": {},
   "outputs": [],
   "source": [
    "X=MinMaxScaler(feature_range=(0,255)).fit_transform(X)\n",
    "x_train,x_test,y_train,y_test=train_test_split(X,y,test_size=0.15,random_state=1)"
   ]
  },
  {
   "cell_type": "code",
   "execution_count": 128,
   "metadata": {},
   "outputs": [
    {
     "data": {
      "text/plain": [
       "(1164, 25)"
      ]
     },
     "execution_count": 128,
     "metadata": {},
     "output_type": "execute_result"
    }
   ],
   "source": [
    "x_test.shape"
   ]
  },
  {
   "cell_type": "code",
   "execution_count": 129,
   "metadata": {},
   "outputs": [],
   "source": [
    "trainX = x_train.reshape(6591,25,1)           \n",
    "x_train = trainX / 255.0\n",
    "testX = x_test.reshape(1164,25,1)\n",
    "x_test = testX / 255.0"
   ]
  },
  {
   "cell_type": "code",
   "execution_count": 267,
   "metadata": {},
   "outputs": [],
   "source": [
    "model=Sequential()\n",
    "model.add(Convolution2D(32,kernel_size=(5, 1), input_shape=(25,1,1),activation= 'LeakyReLU' ))\n",
    "model.add(MaxPool2D(pool_size=(3,1)))\n",
    "model.add(Convolution2D(32,kernel_size=(3, 1),activation= 'LeakyReLU' ))\n",
    "model.add(MaxPool2D(pool_size=(2,1)))\n",
    "model.add(Convolution2D(64,kernel_size=(2, 1),activation= 'LeakyReLU' ))\n",
    "model.add(MaxPool2D(pool_size=(1,1)))\n",
    "model.add(Dropout(0.3))\n",
    "model.add(Flatten())\n",
    "model.add(Dense(1,activation=\"sigmoid\"))\n",
    "model.compile(loss=\"binary_crossentropy\",optimizer= Adam(learning_rate=0.03),metrics=[\"accuracy\"])\n"
   ]
  },
  {
   "cell_type": "code",
   "execution_count": 268,
   "metadata": {},
   "outputs": [],
   "source": [
    "from keras.callbacks import ModelCheckpoint\n",
    "from keras.callbacks import EarlyStopping\n",
    "\n",
    "checkpoint= ModelCheckpoint(\"model_checkpoint.h5\",save_best_only=True)\n",
    "early_stopping = EarlyStopping( patience=250, restore_best_weights=True)"
   ]
  },
  {
   "cell_type": "code",
   "execution_count": 269,
   "metadata": {},
   "outputs": [],
   "source": [
    "training_history=model.fit(x_train,y_train,epochs=1000,batch_size=500,verbose=0,validation_data=[x_test,y_test],callbacks=[checkpoint,early_stopping])"
   ]
  },
  {
   "cell_type": "code",
   "execution_count": 270,
   "metadata": {},
   "outputs": [
    {
     "data": {
      "image/png": "[encoded data removed]",
      "text/plain": [
       "<Figure size 432x288 with 1 Axes>"
      ]
     },
     "metadata": {
      "needs_background": "light"
     },
     "output_type": "display_data"
    },
    {
     "data": {
      "text/plain": [
       "dict_keys(['loss', 'accuracy', 'val_loss', 'val_accuracy'])"
      ]
     },
     "execution_count": 270,
     "metadata": {},
     "output_type": "execute_result"
    }
   ],
   "source": [
    "training_info=training_history.history\n",
    "plot_training(training_info)\n",
    "training_info.keys()"
   ]
  },
  {
   "cell_type": "code",
   "execution_count": 271,
   "metadata": {},
   "outputs": [
    {
     "name": "stdout",
     "output_type": "stream",
     "text": [
      "37/37 [==============================] - 0s 1ms/step\n"
     ]
    }
   ],
   "source": [
    "predict=model.predict(x_test)"
   ]
  },
  {
   "cell_type": "markdown",
   "metadata": {},
   "source": [
    "auc score"
   ]
  },
  {
   "cell_type": "code",
   "execution_count": 272,
   "metadata": {},
   "outputs": [
    {
     "data": {
      "text/plain": [
       "0.9822030562828346"
      ]
     },
     "execution_count": 272,
     "metadata": {},
     "output_type": "execute_result"
    }
   ],
   "source": [
    "auc_score=roc_auc_score(y_test,predict)\n",
    "auc_score"
   ]
  },
  {
   "cell_type": "code",
   "execution_count": 273,
   "metadata": {},
   "outputs": [],
   "source": [
    "predict=pd.DataFrame(predict,columns=['pred_class'])\n",
    "\n",
    "predict.loc[predict[\"pred_class\"]<0.5, \"pred_class\"] = 0\n",
    "predict.loc[predict[\"pred_class\"]>0.5, \"pred_class\"] = 1"
   ]
  },
  {
   "cell_type": "markdown",
   "metadata": {},
   "source": [
    "# Ada Boost"
   ]
  },
  {
   "cell_type": "code",
   "execution_count": 484,
   "metadata": {},
   "outputs": [],
   "source": [
    "from sklearn.ensemble import AdaBoostClassifier\n",
    "from sklearn.model_selection import GridSearchCV\n",
    "from sklearn.tree import DecisionTreeClassifier"
   ]
  },
  {
   "cell_type": "code",
   "execution_count": 485,
   "metadata": {},
   "outputs": [],
   "source": [
    "X=f2.drop([\"id\",'g/s','stellar_flag'],axis=1)\n",
    "y=f2['g/s']"
   ]
  },
  {
   "cell_type": "code",
   "execution_count": 486,
   "metadata": {},
   "outputs": [],
   "source": [
    "x_train,x_test,y_train,y_test=train_test_split(X,y,test_size=0.15,random_state=1)"
   ]
  },
  {
   "cell_type": "code",
   "execution_count": 120,
   "metadata": {},
   "outputs": [
    {
     "name": "stdout",
     "output_type": "stream",
     "text": [
      "{'base_estimator': DecisionTreeClassifier(max_depth=4), 'n_estimators': 100}\n"
     ]
    }
   ],
   "source": [
    "param_grid={\n",
    "    'n_estimators':[10,50,100],\n",
    "    'base_estimator':[DecisionTreeClassifier(max_depth=1),DecisionTreeClassifier(max_depth=2),DecisionTreeClassifier(max_depth=4)]\n",
    "}\n",
    "CV_etr = GridSearchCV(estimator=AdaBoostClassifier(), param_grid=param_grid, cv=5,n_jobs=-1)\n",
    "CV_etr.fit(x_train, y_train)\n",
    "print(CV_etr.best_params_)"
   ]
  },
  {
   "cell_type": "code",
   "execution_count": 121,
   "metadata": {},
   "outputs": [
    {
     "data": {
      "text/html": [
       "<style>#sk-container-id-2 {color: black;background-color: white;}#sk-container-id-2 pre{padding: 0;}#sk-container-id-2 div.sk-toggleable {background-color: white;}#sk-container-id-2 label.sk-toggleable__label {cursor: pointer;display: block;width: 100%;margin-bottom: 0;padding: 0.3em;box-sizing: border-box;text-align: center;}#sk-container-id-2 label.sk-toggleable__label-arrow:before {content: \"▸\";float: left;margin-right: 0.25em;color: #696969;}#sk-container-id-2 label.sk-toggleable__label-arrow:hover:before {color: black;}#sk-container-id-2 div.sk-estimator:hover label.sk-toggleable__label-arrow:before {color: black;}#sk-container-id-2 div.sk-toggleable__content {max-height: 0;max-width: 0;overflow: hidden;text-align: left;background-color: #f0f8ff;}#sk-container-id-2 div.sk-toggleable__content pre {margin: 0.2em;color: black;border-radius: 0.25em;background-color: #f0f8ff;}#sk-container-id-2 input.sk-toggleable__control:checked~div.sk-toggleable__content {max-height: 200px;max-width: 100%;overflow: auto;}#sk-container-id-2 input.sk-toggleable__control:checked~label.sk-toggleable__label-arrow:before {content: \"▾\";}#sk-container-id-2 div.sk-estimator input.sk-toggleable__control:checked~label.sk-toggleable__label {background-color: #d4ebff;}#sk-container-id-2 div.sk-label input.sk-toggleable__control:checked~label.sk-toggleable__label {background-color: #d4ebff;}#sk-container-id-2 input.sk-hidden--visually {border: 0;clip: rect(1px 1px 1px 1px);clip: rect(1px, 1px, 1px, 1px);height: 1px;margin: -1px;overflow: hidden;padding: 0;position: absolute;width: 1px;}#sk-container-id-2 div.sk-estimator {font-family: monospace;background-color: #f0f8ff;border: 1px dotted black;border-radius: 0.25em;box-sizing: border-box;margin-bottom: 0.5em;}#sk-container-id-2 div.sk-estimator:hover {background-color: #d4ebff;}#sk-container-id-2 div.sk-parallel-item::after {content: \"\";width: 100%;border-bottom: 1px solid gray;flex-grow: 1;}#sk-container-id-2 div.sk-label:hover label.sk-toggleable__label {background-color: #d4ebff;}#sk-container-id-2 div.sk-serial::before {content: \"\";position: absolute;border-left: 1px solid gray;box-sizing: border-box;top: 0;bottom: 0;left: 50%;z-index: 0;}#sk-container-id-2 div.sk-serial {display: flex;flex-direction: column;align-items: center;background-color: white;padding-right: 0.2em;padding-left: 0.2em;position: relative;}#sk-container-id-2 div.sk-item {position: relative;z-index: 1;}#sk-container-id-2 div.sk-parallel {display: flex;align-items: stretch;justify-content: center;background-color: white;position: relative;}#sk-container-id-2 div.sk-item::before, #sk-container-id-2 div.sk-parallel-item::before {content: \"\";position: absolute;border-left: 1px solid gray;box-sizing: border-box;top: 0;bottom: 0;left: 50%;z-index: -1;}#sk-container-id-2 div.sk-parallel-item {display: flex;flex-direction: column;z-index: 1;position: relative;background-color: white;}#sk-container-id-2 div.sk-parallel-item:first-child::after {align-self: flex-end;width: 50%;}#sk-container-id-2 div.sk-parallel-item:last-child::after {align-self: flex-start;width: 50%;}#sk-container-id-2 div.sk-parallel-item:only-child::after {width: 0;}#sk-container-id-2 div.sk-dashed-wrapped {border: 1px dashed gray;margin: 0 0.4em 0.5em 0.4em;box-sizing: border-box;padding-bottom: 0.4em;background-color: white;}#sk-container-id-2 div.sk-label label {font-family: monospace;font-weight: bold;display: inline-block;line-height: 1.2em;}#sk-container-id-2 div.sk-label-container {text-align: center;}#sk-container-id-2 div.sk-container {/* jupyter's `normalize.less` sets `[hidden] { display: none; }` but bootstrap.min.css set `[hidden] { display: none !important; }` so we also need the `!important` here to be able to override the default hidden behavior on the sphinx rendered scikit-learn.org. See: https://github.com/scikit-learn/scikit-learn/issues/21755 */display: inline-block !important;position: relative;}#sk-container-id-2 div.sk-text-repr-fallback {display: none;}</style><div id=\"sk-container-id-2\" class=\"sk-top-container\"><div class=\"sk-text-repr-fallback\"><pre>AdaBoostClassifier(base_estimator=DecisionTreeClassifier(max_depth=4),\n",
       "                   n_estimators=100)</pre><b>In a Jupyter environment, please rerun this cell to show the HTML representation or trust the notebook. <br />On GitHub, the HTML representation is unable to render, please try loading this page with nbviewer.org.</b></div><div class=\"sk-container\" hidden><div class=\"sk-item sk-dashed-wrapped\"><div class=\"sk-label-container\"><div class=\"sk-label sk-toggleable\"><input class=\"sk-toggleable__control sk-hidden--visually\" id=\"sk-estimator-id-4\" type=\"checkbox\" ><label for=\"sk-estimator-id-4\" class=\"sk-toggleable__label sk-toggleable__label-arrow\">AdaBoostClassifier</label><div class=\"sk-toggleable__content\"><pre>AdaBoostClassifier(base_estimator=DecisionTreeClassifier(max_depth=4),\n",
       "                   n_estimators=100)</pre></div></div></div><div class=\"sk-parallel\"><div class=\"sk-parallel-item\"><div class=\"sk-item\"><div class=\"sk-label-container\"><div class=\"sk-label sk-toggleable\"><input class=\"sk-toggleable__control sk-hidden--visually\" id=\"sk-estimator-id-5\" type=\"checkbox\" ><label for=\"sk-estimator-id-5\" class=\"sk-toggleable__label sk-toggleable__label-arrow\">base_estimator: DecisionTreeClassifier</label><div class=\"sk-toggleable__content\"><pre>DecisionTreeClassifier(max_depth=4)</pre></div></div></div><div class=\"sk-serial\"><div class=\"sk-item\"><div class=\"sk-estimator sk-toggleable\"><input class=\"sk-toggleable__control sk-hidden--visually\" id=\"sk-estimator-id-6\" type=\"checkbox\" ><label for=\"sk-estimator-id-6\" class=\"sk-toggleable__label sk-toggleable__label-arrow\">DecisionTreeClassifier</label><div class=\"sk-toggleable__content\"><pre>DecisionTreeClassifier(max_depth=4)</pre></div></div></div></div></div></div></div></div></div></div>"
      ],
      "text/plain": [
       "AdaBoostClassifier(base_estimator=DecisionTreeClassifier(max_depth=4),\n",
       "                   n_estimators=100)"
      ]
     },
     "execution_count": 121,
     "metadata": {},
     "output_type": "execute_result"
    }
   ],
   "source": [
    "ada=AdaBoostClassifier(n_estimators=100,base_estimator=(DecisionTreeClassifier(max_depth=4)) )\n",
    "ada.fit(x_train,y_train)"
   ]
  },
  {
   "cell_type": "code",
   "execution_count": 122,
   "metadata": {},
   "outputs": [],
   "source": [
    "predict=ada.predict_proba(x_test)"
   ]
  },
  {
   "cell_type": "code",
   "execution_count": 123,
   "metadata": {},
   "outputs": [],
   "source": [
    "predict=pd.DataFrame(data=predict)\n",
    "predict=predict[1].values"
   ]
  },
  {
   "cell_type": "markdown",
   "metadata": {},
   "source": [
    "auc"
   ]
  },
  {
   "cell_type": "code",
   "execution_count": 124,
   "metadata": {},
   "outputs": [
    {
     "data": {
      "text/plain": [
       "0.9893089994352894"
      ]
     },
     "execution_count": 124,
     "metadata": {},
     "output_type": "execute_result"
    }
   ],
   "source": [
    "auc_score=roc_auc_score(y_test,predict)\n",
    "auc_score"
   ]
  },
  {
   "cell_type": "markdown",
   "metadata": {},
   "source": [
    "running while adding features"
   ]
  },
  {
   "cell_type": "code",
   "execution_count": 490,
   "metadata": {},
   "outputs": [],
   "source": [
    "score_ada=[]\n",
    "predicted_class_ada=[]\n",
    "\n",
    "for i in (0,3,4,5):\n",
    "    if i==0: \n",
    "        k=3\n",
    "    else: \n",
    "        k=5\n",
    "\n",
    "    x_train_new=x_train.iloc[:,0:20+i]\n",
    "    x_test_new=x_test.iloc[:,0:20+i]\n",
    "    \n",
    "    \n",
    "    ada=AdaBoostClassifier(n_estimators=50+10*i,base_estimator=(DecisionTreeClassifier(max_depth=4)) )\n",
    "    ada.fit(x_train_new,y_train)\n",
    "\n",
    "    predict=ada.predict_proba(x_test_new)\n",
    "   \n",
    "    predict=pd.DataFrame(data=predict)\n",
    "    predict=predict[1].values\n",
    "\n",
    "    score_ada.append(roc_auc_score(y_test,predict))\n",
    "    predict=pd.DataFrame(predict,columns=['pred_class']) \n",
    "    predict.loc[predict[\"pred_class\"]<0.5, \"pred_class\"] = 0\n",
    "    predict.loc[predict[\"pred_class\"]>0.5, \"pred_class\"] = 1\n",
    "    predicted_class_ada.append(predict)"
   ]
  },
  {
   "cell_type": "code",
   "execution_count": 491,
   "metadata": {},
   "outputs": [
    {
     "data": {
      "text/plain": [
       "[0.9022579872341152, 0.972175162996047, 0.967276725362356, 0.986019131714496]"
      ]
     },
     "execution_count": 491,
     "metadata": {},
     "output_type": "execute_result"
    }
   ],
   "source": [
    "score_ada"
   ]
  },
  {
   "cell_type": "markdown",
   "metadata": {},
   "source": [
    "Therefore we can see that CNN is giving best performance with least overfitting, for F814W < 22.5"
   ]
  },
  {
   "cell_type": "markdown",
   "metadata": {},
   "source": [
    "# classifying by gradually adding features for F814<22.5"
   ]
  },
  {
   "cell_type": "code",
   "execution_count": 372,
   "metadata": {},
   "outputs": [],
   "source": [
    "f3=f1.copy(deep=True)\n",
    "\n",
    "f3=f3[f3['f814w']<22.5]\n",
    "\n",
    "X=f3.drop([\"id\",'g/s','stellar_flag'],axis=1)\n",
    "y=f3['g/s']\n",
    "\n",
    "c=X.columns\n",
    "X=MinMaxScaler(feature_range=(0,255)).fit_transform(X)\n",
    "X=pd.DataFrame(data=X)\n",
    "for i in range(25):\n",
    " X.rename(columns={i:c[i]},inplace=True)\n",
    "x_train,x_test,y_train,y_test=train_test_split(X,y,test_size=0.15,random_state=1)"
   ]
  },
  {
   "cell_type": "code",
   "execution_count": 373,
   "metadata": {},
   "outputs": [
    {
     "name": "stdout",
     "output_type": "stream",
     "text": [
      "37/37 [==============================] - 0s 1ms/step\n",
      "37/37 [==============================] - 0s 2ms/step\n",
      "37/37 [==============================] - 0s 2ms/step\n",
      "37/37 [==============================] - 0s 2ms/step\n"
     ]
    }
   ],
   "source": [
    "score_1=[]\n",
    "predicted_class_1=[]\n",
    "\n",
    "for i in (0,3,4,5):\n",
    "    if i==0: \n",
    "        k=3\n",
    "    else: \n",
    "        k=5\n",
    "    model=Sequential()\n",
    "    model.add(Convolution2D(32,kernel_size=(k, 1), input_shape=(20+i,1,1),activation= 'LeakyReLU' ))\n",
    "    model.add(MaxPool2D(pool_size=(3,1)))\n",
    "    model.add(Convolution2D(32,kernel_size=(3, 1),activation= 'LeakyReLU' ))\n",
    "    model.add(MaxPool2D(pool_size=(2,1)))\n",
    "    model.add(Convolution2D(64,kernel_size=(2, 1),activation= 'LeakyReLU' ))\n",
    "    model.add(MaxPool2D(pool_size=(1,1)))\n",
    "    model.add(Dropout(0.3))\n",
    "    model.add(Flatten())\n",
    "    model.add(Dense(1,activation=\"sigmoid\"))\n",
    "    model.compile(loss=\"binary_crossentropy\",optimizer= Adam(learning_rate=0.03),metrics=[\"accuracy\"])\n",
    "\n",
    "    checkpoint= ModelCheckpoint(\"model_checkpoint.h5\",save_best_only=True)\n",
    "    early_stopping = EarlyStopping( patience=250, restore_best_weights=True)\n",
    "\n",
    "    x_train_new=x_train.iloc[:,0:20+i].values\n",
    "    x_test_new=x_test.iloc[:,0:20+i].values\n",
    "    y_train_new=y_train.values\n",
    "    y_test_new=y_test.values\n",
    "\n",
    "    trainX = x_train_new.reshape(6591,20+i,1)\n",
    "    trainX = trainX / 255.0\n",
    "    testX = x_test_new.reshape(1164,20+i,1)\n",
    "    testX= testX / 255.0\n",
    "    \n",
    "    \n",
    "    \n",
    "    model.fit(trainX,y_train_new,epochs=1000,batch_size=500,verbose=0,validation_data=[testX,y_test_new],callbacks=[checkpoint,early_stopping])\n",
    "\n",
    "    predict=model.predict(testX)\n",
    "    score_1.append(roc_auc_score(y_test_new,predict))\n",
    "    predict=pd.DataFrame(predict,columns=['pred_class']) \n",
    "    predict.loc[predict[\"pred_class\"]<0.5, \"pred_class\"] = 0\n",
    "    predict.loc[predict[\"pred_class\"]>0.5, \"pred_class\"] = 1\n",
    "    predicted_class_1.append(predict)\n",
    "    \n"
   ]
  },
  {
   "cell_type": "code",
   "execution_count": 374,
   "metadata": {},
   "outputs": [
    {
     "data": {
      "text/plain": [
       "[0.983674726628677, 0.9834180399404486, 0.9857581669147971, 0.9864768896418366]"
      ]
     },
     "execution_count": 374,
     "metadata": {},
     "output_type": "execute_result"
    }
   ],
   "source": [
    "score_1"
   ]
  },
  {
   "cell_type": "markdown",
   "metadata": {},
   "source": [
    "# classifying by gradually adding features for F814<26"
   ]
  },
  {
   "cell_type": "code",
   "execution_count": 563,
   "metadata": {},
   "outputs": [],
   "source": [
    "f4=f1.copy(deep=True)\n",
    "\n",
    "f4=f4[f4['f814w']<26]\n",
    "\n",
    "X=f4.drop([\"id\",'g/s','stellar_flag'],axis=1)\n",
    "y=f4['g/s']\n",
    "\n",
    "c=X.columns\n",
    "X=MinMaxScaler(feature_range=(0,255)).fit_transform(X)\n",
    "X=pd.DataFrame(data=X)\n",
    "for i in range(25):\n",
    " X.rename(columns={i:c[i]},inplace=True)\n",
    "x_train,x_test,y_train,y_test=train_test_split(X,y,test_size=0.15,random_state=1)"
   ]
  },
  {
   "cell_type": "code",
   "execution_count": 376,
   "metadata": {},
   "outputs": [
    {
     "name": "stdout",
     "output_type": "stream",
     "text": [
      "150/150 [==============================] - 0s 2ms/step\n",
      "150/150 [==============================] - 0s 2ms/step\n",
      "150/150 [==============================] - 0s 2ms/step\n",
      "150/150 [==============================] - 0s 2ms/step\n"
     ]
    }
   ],
   "source": [
    "score_2=[]\n",
    "predicted_class_2=[]\n",
    "\n",
    "for i in (0,3,4,5):\n",
    "    if i==0: \n",
    "        k=3\n",
    "    else: \n",
    "        k=5\n",
    "    model=Sequential()\n",
    "    model.add(Convolution2D(32,kernel_size=(k, 1), input_shape=(20+i,1,1),activation= 'LeakyReLU' ))\n",
    "    model.add(MaxPool2D(pool_size=(3,1)))\n",
    "    model.add(Convolution2D(64,kernel_size=(3, 1),activation= 'LeakyReLU' ))\n",
    "    model.add(MaxPool2D(pool_size=(2,1)))\n",
    "    model.add(Convolution2D(64,kernel_size=(2, 1),activation= 'LeakyReLU' ))\n",
    "    model.add(MaxPool2D(pool_size=(1,1)))\n",
    "    model.add(Dropout(0.3))\n",
    "    model.add(Flatten())\n",
    "    model.add(Dense(1,activation=\"sigmoid\"))\n",
    "    model.compile(loss=\"binary_crossentropy\",optimizer= Adam(learning_rate=0.03),metrics=[\"accuracy\"])\n",
    "\n",
    "    checkpoint= ModelCheckpoint(\"model_checkpoint.h5\",save_best_only=True)\n",
    "    early_stopping = EarlyStopping( patience=250, restore_best_weights=True)\n",
    "\n",
    "    x_train_new=x_train.iloc[:,0:20+i].values\n",
    "    x_test_new=x_test.iloc[:,0:20+i].values\n",
    "    y_train_new=y_train.values\n",
    "    y_test_new=y_test.values\n",
    "\n",
    "    trainX = x_train_new.reshape(27082,20+i,1)\n",
    "    trainX = trainX / 255.0\n",
    "    testX = x_test_new.reshape(4780,20+i,1)\n",
    "    testX= testX / 255.0\n",
    "    \n",
    "    \n",
    "    \n",
    "    model.fit(trainX,y_train_new,epochs=1000,batch_size=500,verbose=0,validation_data=[testX,y_test_new],callbacks=[checkpoint,early_stopping])\n",
    "\n",
    "    predict=model.predict(testX)\n",
    "    score_2.append(roc_auc_score(y_test_new,predict))\n",
    "    predict=pd.DataFrame(predict,columns=['pred_class']) \n",
    "    predict.loc[predict[\"pred_class\"]<0.5, \"pred_class\"] = 0\n",
    "    predict.loc[predict[\"pred_class\"]>0.5, \"pred_class\"] = 1\n",
    "    predicted_class_2.append(predict)"
   ]
  },
  {
   "cell_type": "code",
   "execution_count": 377,
   "metadata": {},
   "outputs": [
    {
     "data": {
      "text/plain": [
       "[0.9616374538372648,\n",
       " 0.9662914387150126,\n",
       " 0.9665547447614893,\n",
       " 0.9664961574826056]"
      ]
     },
     "execution_count": 377,
     "metadata": {},
     "output_type": "execute_result"
    }
   ],
   "source": [
    "score_2"
   ]
  },
  {
   "cell_type": "markdown",
   "metadata": {},
   "source": [
    "# now classifying objects for various ranges of F814W"
   ]
  },
  {
   "cell_type": "code",
   "execution_count": 539,
   "metadata": {},
   "outputs": [
    {
     "name": "stdout",
     "output_type": "stream",
     "text": [
      "37/37 [==============================] - 0s 1ms/step\n",
      "15/15 [==============================] - 0s 2ms/step\n",
      "46/46 [==============================] - 0s 2ms/step\n",
      "45/45 [==============================] - 0s 2ms/step\n",
      "150/150 [==============================] - 0s 2ms/step\n"
     ]
    }
   ],
   "source": [
    "score_814=[]\n",
    "FPS_rate=[]\n",
    "TPS_rate=[]\n",
    "\n",
    "for i,j in zip([22.5,23,24,25,26],[0,22.5,23,24,0]):\n",
    "    \n",
    "    f5=f1.copy()\n",
    "    f5=f5[(f5['f814w']<=i)&(f5['f814w']>j)]\n",
    "\n",
    "    X=f5.drop([\"id\",'g/s','stellar_flag'],axis=1)\n",
    "    y=f5['g/s']\n",
    "    c=X.columns\n",
    "    X=MinMaxScaler(feature_range=(0,255)).fit_transform(X)\n",
    "    X=pd.DataFrame(data=X)\n",
    "    for i in range(25):\n",
    "       X.rename(columns={i:c[i]},inplace=True)\n",
    "    x_train,x_test,y_train,y_test=train_test_split(X,y,test_size=0.15,random_state=1)\n",
    "    \n",
    "    \n",
    "    model=Sequential()\n",
    "    model.add(Convolution2D(32,kernel_size=(5, 1), input_shape=(25,1,1),activation= 'LeakyReLU' ))\n",
    "    model.add(MaxPool2D(pool_size=(3,1)))\n",
    "    model.add(Convolution2D(32,kernel_size=(3, 1),activation= 'LeakyReLU' ))\n",
    "    model.add(MaxPool2D(pool_size=(2,1)))\n",
    "    model.add(Convolution2D(64,kernel_size=(2, 1),activation= 'LeakyReLU' ))\n",
    "    model.add(MaxPool2D(pool_size=(1,1)))\n",
    "    model.add(Dropout(0.3))\n",
    "    model.add(Flatten())\n",
    "    model.add(Dense(1,activation=\"sigmoid\"))\n",
    "    model.compile(loss=\"binary_crossentropy\",optimizer= Adam(learning_rate=0.03),metrics=[\"accuracy\"])\n",
    "\n",
    "    checkpoint= ModelCheckpoint(\"model_checkpoint.h5\",save_best_only=True)\n",
    "    early_stopping = EarlyStopping( patience=250, restore_best_weights=True)\n",
    "\n",
    "    x_train_new=x_train.values\n",
    "    x_test_new=x_test.values\n",
    "    y_train_new=y_train.values\n",
    "    y_test_new=y_test.values\n",
    "    \n",
    "    len_train=x_train_new.shape[0]\n",
    "    len_test=x_test_new.shape[0]\n",
    "\n",
    "    trainX = x_train_new.reshape(len_train,25,1)\n",
    "    trainX = trainX / 255.0\n",
    "    testX = x_test_new.reshape(len_test,25,1)\n",
    "    testX= testX / 255.0\n",
    "    \n",
    "    \n",
    "    \n",
    "    model.fit(trainX,y_train_new,epochs=1000,batch_size=500,verbose=0,validation_data=[testX,y_test_new],callbacks=[checkpoint,early_stopping])\n",
    "\n",
    "    predict=model.predict(testX)\n",
    "    score_814.append(roc_auc_score(y_test_new,predict))\n",
    "    false_positive_rate,true_positive_rate,thresholds= roc_curve(y_test,predict) \n",
    "    FPS_rate.append(false_positive_rate)\n",
    "    TPS_rate.append(true_positive_rate)\n",
    "\n",
    "    "
   ]
  },
  {
   "cell_type": "code",
   "execution_count": 540,
   "metadata": {},
   "outputs": [
    {
     "data": {
      "text/plain": [
       "[0.9812840215082316,\n",
       " 0.8778011875119709,\n",
       " 0.8301937370537347,\n",
       " 0.7146703296703297,\n",
       " 0.9625357921134787]"
      ]
     },
     "execution_count": 540,
     "metadata": {},
     "output_type": "execute_result"
    }
   ],
   "source": [
    "score_814"
   ]
  },
  {
   "cell_type": "markdown",
   "metadata": {},
   "source": [
    "# RESULTS"
   ]
  },
  {
   "cell_type": "code",
   "execution_count": 503,
   "metadata": {},
   "outputs": [
    {
     "data": {
      "image/png": "[encoded data removed]",
      "text/plain": [
       "<Figure size 432x288 with 1 Axes>"
      ]
     },
     "metadata": {
      "needs_background": "light"
     },
     "output_type": "display_data"
    }
   ],
   "source": [
    "data_0=pd.DataFrame(data={\"features\":['optical bands','optical bands+NIR','optical bands+NIR+F814','optical bands+NIR+F814+FWHM'],\"ANN\":score_ann,\"Random Forest\":score_rf,\"Ada boost\":score_ada,\"CNN\":score_1})\n",
    "plt.scatter(['optical bands','optical bands+NIR','optical bands+NIR+F814','optical bands+NIR+F814+FWHM'],score_ann,color=\"blue\",alpha=1,label=\"ANN\")\n",
    "plt.plot(['optical bands','optical bands+NIR','optical bands+NIR+F814','optical bands+NIR+F814+FWHM'],score_ann,color=\"blue\",alpha=1)\n",
    "plt.scatter(['optical bands','optical bands+NIR','optical bands+NIR+F814','optical bands+NIR+F814+FWHM'],score_rf,color=\"green\",alpha=1,label=\"random forest\")\n",
    "plt.plot(['optical bands','optical bands+NIR','optical bands+NIR+F814','optical bands+NIR+F814+FWHM'],score_rf,color=\"green\",alpha=1)\n",
    "plt.scatter(['optical bands','optical bands+NIR','optical bands+NIR+F814','optical bands+NIR+F814+FWHM'],score_ada,color=\"red\",alpha=1,label=\"ada boost\")\n",
    "plt.plot(['optical bands','optical bands+NIR','optical bands+NIR+F814','optical bands+NIR+F814+FWHM'],score_ada,color=\"red\",alpha=1)\n",
    "plt.scatter(['optical bands','optical bands+NIR','optical bands+NIR+F814','optical bands+NIR+F814+FWHM'],score_1,color=\"black\",alpha=1,label=\"CNN\")\n",
    "plt.plot(['optical bands','optical bands+NIR','optical bands+NIR+F814','optical bands+NIR+F814+FWHM'],score_1,color=\"black\",alpha=1)\n",
    "plt.ylabel('AUC score')\n",
    "plt.xlabel('Features')\n",
    "plt.xticks(rotation=20)\n",
    "plt.legend()\n",
    "plt.show()"
   ]
  },
  {
   "cell_type": "code",
   "execution_count": 558,
   "metadata": {},
   "outputs": [
    {
     "data": {
      "text/html": [
       "<div>\n",
       "<style scoped>\n",
       "    .dataframe tbody tr th:only-of-type {\n",
       "        vertical-align: middle;\n",
       "    }\n",
       "\n",
       "    .dataframe tbody tr th {\n",
       "        vertical-align: top;\n",
       "    }\n",
       "\n",
       "    .dataframe thead th {\n",
       "        text-align: right;\n",
       "    }\n",
       "</style>\n",
       "<table border=\"1\" class=\"dataframe\">\n",
       "  <thead>\n",
       "    <tr style=\"text-align: right;\">\n",
       "      <th></th>\n",
       "      <th>features</th>\n",
       "      <th>ANN</th>\n",
       "      <th>Random Forest</th>\n",
       "      <th>Ada boost</th>\n",
       "      <th>CNN</th>\n",
       "    </tr>\n",
       "  </thead>\n",
       "  <tbody>\n",
       "    <tr>\n",
       "      <th>0</th>\n",
       "      <td>optical bands</td>\n",
       "      <td>0.898172</td>\n",
       "      <td>0.969176</td>\n",
       "      <td>0.902258</td>\n",
       "      <td>0.983675</td>\n",
       "    </tr>\n",
       "    <tr>\n",
       "      <th>1</th>\n",
       "      <td>optical bands+NIR</td>\n",
       "      <td>0.978597</td>\n",
       "      <td>0.984727</td>\n",
       "      <td>0.972175</td>\n",
       "      <td>0.983418</td>\n",
       "    </tr>\n",
       "    <tr>\n",
       "      <th>2</th>\n",
       "      <td>optical bands+NIR+F814</td>\n",
       "      <td>0.982811</td>\n",
       "      <td>0.982990</td>\n",
       "      <td>0.967277</td>\n",
       "      <td>0.985758</td>\n",
       "    </tr>\n",
       "    <tr>\n",
       "      <th>3</th>\n",
       "      <td>optical bands+NIR+F814+FWHM</td>\n",
       "      <td>0.986883</td>\n",
       "      <td>0.989031</td>\n",
       "      <td>0.986019</td>\n",
       "      <td>0.986477</td>\n",
       "    </tr>\n",
       "  </tbody>\n",
       "</table>\n",
       "</div>"
      ],
      "text/plain": [
       "                      features       ANN  Random Forest  Ada boost       CNN\n",
       "0                optical bands  0.898172       0.969176   0.902258  0.983675\n",
       "1            optical bands+NIR  0.978597       0.984727   0.972175  0.983418\n",
       "2       optical bands+NIR+F814  0.982811       0.982990   0.967277  0.985758\n",
       "3  optical bands+NIR+F814+FWHM  0.986883       0.989031   0.986019  0.986477"
      ]
     },
     "execution_count": 558,
     "metadata": {},
     "output_type": "execute_result"
    }
   ],
   "source": [
    "data_0"
   ]
  },
  {
   "cell_type": "markdown",
   "metadata": {},
   "source": []
  },
  {
   "cell_type": "markdown",
   "metadata": {},
   "source": [
    "Auc score for different no. of features using CNN"
   ]
  },
  {
   "cell_type": "code",
   "execution_count": 521,
   "metadata": {},
   "outputs": [
    {
     "data": {
      "image/png": "[encoded data removed]",
      "text/plain": [
       "<Figure size 432x288 with 1 Axes>"
      ]
     },
     "metadata": {
      "needs_background": "light"
     },
     "output_type": "display_data"
    }
   ],
   "source": [
    "result_1=pd.DataFrame({'information used':['optical bands','optical bands+NIR','optical bands+NIR+F814','optical bands+NIR+F814+FWHM'],'F814<22.5':score_1,'F814<26':score_2})\n",
    "plt.scatter(['optical bands','optical bands+NIR','optical bands+NIR+F814','optical bands+NIR+F814+FWHM'],score_1,color=\"black\",alpha=1,label=\"F814<22.5\")\n",
    "plt.plot(['optical bands','optical bands+NIR','optical bands+NIR+F814','optical bands+NIR+F814+FWHM'],score_1,color=\"black\",alpha=1,ls='dashed')\n",
    "plt.scatter(['optical bands','optical bands+NIR','optical bands+NIR+F814','optical bands+NIR+F814+FWHM'],score_2,color=\"red\",alpha=1,label=\"F814<26\")\n",
    "plt.plot(['optical bands','optical bands+NIR','optical bands+NIR+F814','optical bands+NIR+F814+FWHM'],score_2,color=\"red\",alpha=1,ls='dashed')\n",
    "plt.ylim(ymin=0.95,ymax=1)\n",
    "plt.ylabel('AUC score')\n",
    "plt.xlabel('Features')\n",
    "plt.xticks(rotation=20)\n",
    "plt.legend()\n",
    "plt.show()"
   ]
  },
  {
   "cell_type": "code",
   "execution_count": 555,
   "metadata": {},
   "outputs": [
    {
     "data": {
      "text/html": [
       "<div>\n",
       "<style scoped>\n",
       "    .dataframe tbody tr th:only-of-type {\n",
       "        vertical-align: middle;\n",
       "    }\n",
       "\n",
       "    .dataframe tbody tr th {\n",
       "        vertical-align: top;\n",
       "    }\n",
       "\n",
       "    .dataframe thead th {\n",
       "        text-align: right;\n",
       "    }\n",
       "</style>\n",
       "<table border=\"1\" class=\"dataframe\">\n",
       "  <thead>\n",
       "    <tr style=\"text-align: right;\">\n",
       "      <th></th>\n",
       "      <th>information used</th>\n",
       "      <th>F814&lt;22.5</th>\n",
       "      <th>F814&lt;26</th>\n",
       "    </tr>\n",
       "  </thead>\n",
       "  <tbody>\n",
       "    <tr>\n",
       "      <th>0</th>\n",
       "      <td>optical bands</td>\n",
       "      <td>0.983675</td>\n",
       "      <td>0.961637</td>\n",
       "    </tr>\n",
       "    <tr>\n",
       "      <th>1</th>\n",
       "      <td>optical bands+NIR</td>\n",
       "      <td>0.983418</td>\n",
       "      <td>0.966291</td>\n",
       "    </tr>\n",
       "    <tr>\n",
       "      <th>2</th>\n",
       "      <td>optical bands+NIR+F814</td>\n",
       "      <td>0.985758</td>\n",
       "      <td>0.966555</td>\n",
       "    </tr>\n",
       "    <tr>\n",
       "      <th>3</th>\n",
       "      <td>optical bands+NIR+F814+FWHM</td>\n",
       "      <td>0.986477</td>\n",
       "      <td>0.966496</td>\n",
       "    </tr>\n",
       "  </tbody>\n",
       "</table>\n",
       "</div>"
      ],
      "text/plain": [
       "              information used  F814<22.5   F814<26\n",
       "0                optical bands   0.983675  0.961637\n",
       "1            optical bands+NIR   0.983418  0.966291\n",
       "2       optical bands+NIR+F814   0.985758  0.966555\n",
       "3  optical bands+NIR+F814+FWHM   0.986477  0.966496"
      ]
     },
     "execution_count": 555,
     "metadata": {},
     "output_type": "execute_result"
    }
   ],
   "source": [
    "result_1"
   ]
  },
  {
   "cell_type": "markdown",
   "metadata": {},
   "source": []
  },
  {
   "cell_type": "markdown",
   "metadata": {},
   "source": [
    "Roc curve for different ranges of F814 using CNN"
   ]
  },
  {
   "cell_type": "code",
   "execution_count": 545,
   "metadata": {},
   "outputs": [
    {
     "data": {
      "image/png": "[encoded data removed]",
      "text/plain": [
       "<Figure size 432x288 with 1 Axes>"
      ]
     },
     "metadata": {
      "needs_background": "light"
     },
     "output_type": "display_data"
    }
   ],
   "source": [
    "result_2=pd.DataFrame({'F814':[\"F814<22.5\",\"22.5<F814<23\",\"23<F814<24\",\"24<F814<25\",\"F814<26\"],'AUC score':score_814})\n",
    "plt.plot(FPS_rate[0],TPS_rate[0],color=\"black\",alpha=1,ls='dashed',label=\"F814<22.5\")\n",
    "plt.plot(FPS_rate[1],TPS_rate[1],color=\"purple\",alpha=1,ls='dashed',label=\"22.5<F814<23\")\n",
    "plt.plot(FPS_rate[2],TPS_rate[2],color=\"green\",alpha=1,ls='dashed',label=\"23<F814<24\")\n",
    "plt.plot(FPS_rate[3],TPS_rate[3],color=\"blue\",alpha=1,ls='dashed',label=\"24<F814<25\")\n",
    "plt.plot(FPS_rate[4],TPS_rate[4],color=\"red\",alpha=1,ls='dashed',label=\"F814<26\")\n",
    "plt.xlabel('False positive rate')\n",
    "plt.ylabel('True positive rate')\n",
    "\n",
    "plt.legend()\n",
    "plt.show()"
   ]
  },
  {
   "cell_type": "code",
   "execution_count": 556,
   "metadata": {},
   "outputs": [
    {
     "data": {
      "text/html": [
       "<div>\n",
       "<style scoped>\n",
       "    .dataframe tbody tr th:only-of-type {\n",
       "        vertical-align: middle;\n",
       "    }\n",
       "\n",
       "    .dataframe tbody tr th {\n",
       "        vertical-align: top;\n",
       "    }\n",
       "\n",
       "    .dataframe thead th {\n",
       "        text-align: right;\n",
       "    }\n",
       "</style>\n",
       "<table border=\"1\" class=\"dataframe\">\n",
       "  <thead>\n",
       "    <tr style=\"text-align: right;\">\n",
       "      <th></th>\n",
       "      <th>F814</th>\n",
       "      <th>AUC score</th>\n",
       "    </tr>\n",
       "  </thead>\n",
       "  <tbody>\n",
       "    <tr>\n",
       "      <th>0</th>\n",
       "      <td>F814&lt;22.5</td>\n",
       "      <td>0.981284</td>\n",
       "    </tr>\n",
       "    <tr>\n",
       "      <th>1</th>\n",
       "      <td>22.5&lt;F814&lt;23</td>\n",
       "      <td>0.877801</td>\n",
       "    </tr>\n",
       "    <tr>\n",
       "      <th>2</th>\n",
       "      <td>23&lt;F814&lt;24</td>\n",
       "      <td>0.830194</td>\n",
       "    </tr>\n",
       "    <tr>\n",
       "      <th>3</th>\n",
       "      <td>24&lt;F814&lt;25</td>\n",
       "      <td>0.714670</td>\n",
       "    </tr>\n",
       "    <tr>\n",
       "      <th>4</th>\n",
       "      <td>F814&lt;26</td>\n",
       "      <td>0.962536</td>\n",
       "    </tr>\n",
       "  </tbody>\n",
       "</table>\n",
       "</div>"
      ],
      "text/plain": [
       "           F814  AUC score\n",
       "0     F814<22.5   0.981284\n",
       "1  22.5<F814<23   0.877801\n",
       "2    23<F814<24   0.830194\n",
       "3    24<F814<25   0.714670\n",
       "4       F814<26   0.962536"
      ]
     },
     "execution_count": 556,
     "metadata": {},
     "output_type": "execute_result"
    }
   ],
   "source": [
    "result_2"
   ]
  },
  {
   "cell_type": "markdown",
   "metadata": {},
   "source": []
  },
  {
   "cell_type": "markdown",
   "metadata": {},
   "source": [
    "now comparing alhambras stellar flag and our predicted data"
   ]
  },
  {
   "cell_type": "code",
   "execution_count": 577,
   "metadata": {},
   "outputs": [],
   "source": [
    "f4=f1.copy(deep=True)\n",
    "f4=f4[f4['f814w']<26]\n",
    "X=f4.drop(['g/s'],axis=1)\n",
    "y=f4['g/s']\n",
    "x_train,x_test,y_train,y_test=train_test_split(X,y,test_size=0.15,random_state=1)\n",
    "x_test=pd.DataFrame(data=x_test['stellar_flag'],columns=['stellar_flag'])\n",
    "x_test=x_test.reset_index()\n",
    "x_test.drop('index',axis=1,inplace=True)\n",
    "all_class=predicted_class_2[0].merge(x_test,left_index=True,right_index=True)\n",
    "all_class.drop(all_class[all_class['stellar_flag']==0.5].index,inplace=True)\n",
    "all_class.loc[all_class[\"stellar_flag\"]<0.5, \"stellar_flag\"] = 0\n",
    "all_class.loc[all_class[\"stellar_flag\"]>0.5, \"stellar_flag\"] = 1\n",
    "\n",
    "from sklearn.metrics import accuracy_score"
   ]
  },
  {
   "cell_type": "code",
   "execution_count": 603,
   "metadata": {},
   "outputs": [
    {
     "data": {
      "text/html": [
       "<div>\n",
       "<style scoped>\n",
       "    .dataframe tbody tr th:only-of-type {\n",
       "        vertical-align: middle;\n",
       "    }\n",
       "\n",
       "    .dataframe tbody tr th {\n",
       "        vertical-align: top;\n",
       "    }\n",
       "\n",
       "    .dataframe thead th {\n",
       "        text-align: right;\n",
       "    }\n",
       "</style>\n",
       "<table border=\"1\" class=\"dataframe\">\n",
       "  <thead>\n",
       "    <tr style=\"text-align: right;\">\n",
       "      <th></th>\n",
       "      <th>pred_class</th>\n",
       "      <th>stellar_flag</th>\n",
       "    </tr>\n",
       "  </thead>\n",
       "  <tbody>\n",
       "    <tr>\n",
       "      <th>4</th>\n",
       "      <td>0.0</td>\n",
       "      <td>0.0</td>\n",
       "    </tr>\n",
       "    <tr>\n",
       "      <th>15</th>\n",
       "      <td>0.0</td>\n",
       "      <td>0.0</td>\n",
       "    </tr>\n",
       "    <tr>\n",
       "      <th>19</th>\n",
       "      <td>0.0</td>\n",
       "      <td>0.0</td>\n",
       "    </tr>\n",
       "    <tr>\n",
       "      <th>31</th>\n",
       "      <td>0.0</td>\n",
       "      <td>0.0</td>\n",
       "    </tr>\n",
       "    <tr>\n",
       "      <th>34</th>\n",
       "      <td>0.0</td>\n",
       "      <td>0.0</td>\n",
       "    </tr>\n",
       "    <tr>\n",
       "      <th>...</th>\n",
       "      <td>...</td>\n",
       "      <td>...</td>\n",
       "    </tr>\n",
       "    <tr>\n",
       "      <th>4767</th>\n",
       "      <td>0.0</td>\n",
       "      <td>0.0</td>\n",
       "    </tr>\n",
       "    <tr>\n",
       "      <th>4771</th>\n",
       "      <td>1.0</td>\n",
       "      <td>1.0</td>\n",
       "    </tr>\n",
       "    <tr>\n",
       "      <th>4774</th>\n",
       "      <td>0.0</td>\n",
       "      <td>0.0</td>\n",
       "    </tr>\n",
       "    <tr>\n",
       "      <th>4777</th>\n",
       "      <td>0.0</td>\n",
       "      <td>0.0</td>\n",
       "    </tr>\n",
       "    <tr>\n",
       "      <th>4778</th>\n",
       "      <td>1.0</td>\n",
       "      <td>1.0</td>\n",
       "    </tr>\n",
       "  </tbody>\n",
       "</table>\n",
       "<p>1151 rows × 2 columns</p>\n",
       "</div>"
      ],
      "text/plain": [
       "      pred_class  stellar_flag\n",
       "4            0.0           0.0\n",
       "15           0.0           0.0\n",
       "19           0.0           0.0\n",
       "31           0.0           0.0\n",
       "34           0.0           0.0\n",
       "...          ...           ...\n",
       "4767         0.0           0.0\n",
       "4771         1.0           1.0\n",
       "4774         0.0           0.0\n",
       "4777         0.0           0.0\n",
       "4778         1.0           1.0\n",
       "\n",
       "[1151 rows x 2 columns]"
      ]
     },
     "execution_count": 603,
     "metadata": {},
     "output_type": "execute_result"
    }
   ],
   "source": [
    "all_class"
   ]
  },
  {
   "cell_type": "markdown",
   "metadata": {},
   "source": [
    "accuracy"
   ]
  },
  {
   "cell_type": "code",
   "execution_count": 610,
   "metadata": {},
   "outputs": [
    {
     "data": {
      "text/plain": [
       "0.9556907037358818"
      ]
     },
     "execution_count": 610,
     "metadata": {},
     "output_type": "execute_result"
    }
   ],
   "source": [
    "accuracy_score(all_class['stellar_flag'],all_class['pred_class'],)"
   ]
  },
  {
   "cell_type": "markdown",
   "metadata": {},
   "source": [
    "therefore we can see that alhambras classification and our classification is pretty much same"
   ]
  }
 ],
 "metadata": {
  "kernelspec": {
   "display_name": "Python 3.10.4 64-bit",
   "language": "python",
   "name": "python3"
  },
  "language_info": {
   "codemirror_mode": {
    "name": "ipython",
    "version": 3
   },
   "file_extension": ".py",
   "mimetype": "text/x-python",
   "name": "python",
   "nbconvert_exporter": "python",
   "pygments_lexer": "ipython3",
   "version": "3.10.4"
  },
  "orig_nbformat": 4,
  "vscode": {
   "interpreter": {
    "hash": "916dbcbb3f70747c44a77c7bcd40155683ae19c65e1c03b4aa3499c5328201f1"
   }
  }
 },
 "nbformat": 4,
 "nbformat_minor": 2
}
