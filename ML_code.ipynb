{
 "cells": [
  {
   "cell_type": "code",
   "execution_count": 358,
   "metadata": {},
   "outputs": [],
   "source": [
    "import pandas as pd\n",
    "import numpy as np\n",
    "import matplotlib.pyplot as plt\n",
    "import seaborn as sns\n",
    "import sklearn\n",
    "import tensorflow\n",
    "import keras\n",
    "import seaborn as sns"
   ]
  },
  {
   "cell_type": "code",
   "execution_count": 847,
   "metadata": {},
   "outputs": [],
   "source": [
    "f1=pd.read_csv(\"final_raw_to_use.csv\")"
   ]
  },
  {
   "cell_type": "code",
   "execution_count": 848,
   "metadata": {},
   "outputs": [],
   "source": [
    "from cmath import nan\n",
    "\n",
    "\n",
    "f1=f1.replace(-99,nan)\n",
    "f1=f1.replace(99,nan)"
   ]
  },
  {
   "cell_type": "code",
   "execution_count": 849,
   "metadata": {},
   "outputs": [],
   "source": [
    "f1 = f1[f1.isnull().sum(axis=1) < 5] # taking only objects for which less than 5 band flux is unknown"
   ]
  },
  {
   "cell_type": "code",
   "execution_count": 850,
   "metadata": {},
   "outputs": [
    {
     "name": "stdout",
     "output_type": "stream",
     "text": [
      "<class 'pandas.core.frame.DataFrame'>\n",
      "Int64Index: 31870 entries, 0 to 38426\n",
      "Data columns (total 28 columns):\n",
      " #   Column        Non-Null Count  Dtype  \n",
      "---  ------        --------------  -----  \n",
      " 0   id            31870 non-null  int64  \n",
      " 1   f365w         24047 non-null  float64\n",
      " 2   f396w         25543 non-null  float64\n",
      " 3   f427w         30096 non-null  float64\n",
      " 4   f458w         27761 non-null  float64\n",
      " 5   f489w         31639 non-null  float64\n",
      " 6   f520w         31639 non-null  float64\n",
      " 7   f551w         29805 non-null  float64\n",
      " 8   f582w         31564 non-null  float64\n",
      " 9   f613w         31370 non-null  float64\n",
      " 10  f644w         31713 non-null  float64\n",
      " 11  f675w         31767 non-null  float64\n",
      " 12  f706w         31860 non-null  float64\n",
      " 13  f737w         31855 non-null  float64\n",
      " 14  f768w         31756 non-null  float64\n",
      " 15  f799w         31699 non-null  float64\n",
      " 16  f830w         31432 non-null  float64\n",
      " 17  f861w         31674 non-null  float64\n",
      " 18  f892w         29961 non-null  float64\n",
      " 19  f923w         31408 non-null  float64\n",
      " 20  f954w         29844 non-null  float64\n",
      " 21  j             30238 non-null  float64\n",
      " 22  h             28996 non-null  float64\n",
      " 23  ks            28775 non-null  float64\n",
      " 24  f814w         31870 non-null  float64\n",
      " 25  fwhm          31870 non-null  float64\n",
      " 26  stellar_flag  31870 non-null  float64\n",
      " 27  g/s           31870 non-null  int64  \n",
      "dtypes: float64(26), int64(2)\n",
      "memory usage: 7.1 MB\n"
     ]
    }
   ],
   "source": [
    "f1.info()"
   ]
  },
  {
   "cell_type": "code",
   "execution_count": 851,
   "metadata": {},
   "outputs": [],
   "source": [
    "f1.fillna(f1.median().round(3), inplace=True)"
   ]
  },
  {
   "cell_type": "code",
   "execution_count": 852,
   "metadata": {},
   "outputs": [
    {
     "data": {
      "text/plain": [
       "Index(['id', 'f365w', 'f396w', 'f427w', 'f458w', 'f489w', 'f520w', 'f551w',\n",
       "       'f582w', 'f613w', 'f644w', 'f675w', 'f706w', 'f737w', 'f768w', 'f799w',\n",
       "       'f830w', 'f861w', 'f892w', 'f923w', 'f954w', 'j', 'h', 'ks', 'f814w',\n",
       "       'fwhm', 'stellar_flag', 'g/s'],\n",
       "      dtype='object')"
      ]
     },
     "execution_count": 852,
     "metadata": {},
     "output_type": "execute_result"
    }
   ],
   "source": [
    "f1.columns"
   ]
  },
  {
   "cell_type": "code",
   "execution_count": 853,
   "metadata": {},
   "outputs": [
    {
     "data": {
      "text/plain": [
       "5999"
      ]
     },
     "execution_count": 853,
     "metadata": {},
     "output_type": "execute_result"
    }
   ],
   "source": [
    "len(f1[(f1[\"f814w\"]<=22.5) & (f1[\"g/s\"]==0)])"
   ]
  },
  {
   "cell_type": "code",
   "execution_count": 854,
   "metadata": {},
   "outputs": [
    {
     "data": {
      "text/plain": [
       "2247"
      ]
     },
     "execution_count": 854,
     "metadata": {},
     "output_type": "execute_result"
    }
   ],
   "source": [
    "len(f1[(f1[\"f814w\"]<=26) & (f1[\"g/s\"]==1)])"
   ]
  },
  {
   "cell_type": "code",
   "execution_count": 855,
   "metadata": {},
   "outputs": [
    {
     "data": {
      "text/plain": [
       "101"
      ]
     },
     "execution_count": 855,
     "metadata": {},
     "output_type": "execute_result"
    }
   ],
   "source": [
    "len(f1[((f1[\"f814w\"]>24)&(f1[\"f814w\"]<=25)) & (f1[\"g/s\"]==1)])"
   ]
  },
  {
   "cell_type": "code",
   "execution_count": 856,
   "metadata": {},
   "outputs": [
    {
     "data": {
      "text/plain": [
       "29615"
      ]
     },
     "execution_count": 856,
     "metadata": {},
     "output_type": "execute_result"
    }
   ],
   "source": [
    "len(f1[(f1[\"f814w\"]<=26) & (f1[\"g/s\"]==0)])"
   ]
  },
  {
   "cell_type": "code",
   "execution_count": 812,
   "metadata": {},
   "outputs": [],
   "source": [
    "f2=f1.copy(deep=True)\n",
    "f2=f2[f2['f814w']<=22.5]\n",
    "\n",
    "X=f2.drop([\"id\",'g/s','stellar_flag'],axis=1)\n",
    "y=f2['g/s']"
   ]
  },
  {
   "cell_type": "code",
   "execution_count": 631,
   "metadata": {},
   "outputs": [
    {
     "data": {
      "text/plain": [
       "1764"
      ]
     },
     "execution_count": 631,
     "metadata": {},
     "output_type": "execute_result"
    }
   ],
   "source": [
    "len(y[y==1]) # no. of stars"
   ]
  },
  {
   "cell_type": "markdown",
   "metadata": {},
   "source": [
    "# checking best performing model "
   ]
  },
  {
   "cell_type": "markdown",
   "metadata": {},
   "source": [
    "# XGBOOST"
   ]
  },
  {
   "cell_type": "code",
   "execution_count": 515,
   "metadata": {},
   "outputs": [],
   "source": [
    "import xgboost\n",
    "from xgboost import XGBClassifier as xgc\n",
    "from sklearn.model_selection import GridSearchCV\n",
    "from sklearn.metrics import roc_auc_score\n",
    "from sklearn.model_selection import train_test_split"
   ]
  },
  {
   "cell_type": "code",
   "execution_count": 516,
   "metadata": {},
   "outputs": [],
   "source": [
    "x_train,x_test,y_train,y_test=train_test_split(X,y,test_size=0.15,random_state=1)"
   ]
  },
  {
   "cell_type": "code",
   "execution_count": 291,
   "metadata": {},
   "outputs": [
    {
     "name": "stdout",
     "output_type": "stream",
     "text": [
      "{'gamma': 0.2, 'learning_rate': 0.3, 'max_depth': 4, 'n_estimators': 80, 'reg_alpha': 0, 'scale_pos_weight': 1}\n"
     ]
    }
   ],
   "source": [
    "param_grid={\n",
    "    'n_estimators':[80,100,120],\n",
    "    'max_depth':[4,6,8],\n",
    "    'learning_rate':[0.01,0.1,0.3],\n",
    "    'gamma':[0,0.01,0.2],\n",
    "    'scale_pos_weight':[1,3.5],\n",
    "    'reg_alpha':[0,1,5,10]\n",
    "}\n",
    "\n",
    "cv=GridSearchCV(estimator=xgc(),param_grid=param_grid,cv=5,n_jobs=-1)\n",
    "cv.fit(x_train,y_train)\n",
    "print(cv.best_params_)"
   ]
  },
  {
   "cell_type": "code",
   "execution_count": 299,
   "metadata": {},
   "outputs": [
    {
     "data": {
      "text/plain": [
       "0.9956435873605949"
      ]
     },
     "execution_count": 299,
     "metadata": {},
     "output_type": "execute_result"
    }
   ],
   "source": [
    "XGC=xgc(gamma= 0.2, learning_rate= 0.3, max_depth= 4, n_estimators =80, reg_alpha= 1, scale_pos_weight= 1)\n",
    "XGC.fit(x_train,y_train)\n",
    "predict=XGC.predict_proba(x_test)\n",
    "\n",
    "predict=pd.DataFrame(data=predict)\n",
    "predict=predict[1].values\n",
    "auc_score=roc_auc_score(y_test,predict)\n",
    "auc_score"
   ]
  },
  {
   "cell_type": "markdown",
   "metadata": {},
   "source": [
    "for different features, f814w<=22.5"
   ]
  },
  {
   "cell_type": "code",
   "execution_count": 579,
   "metadata": {},
   "outputs": [],
   "source": [
    "score_xg=[]\n",
    "predicted_class_xg=[]\n",
    "\n",
    "for i in (0,3,4,5):\n",
    "    if i==0: \n",
    "        k=3\n",
    "    else: \n",
    "        k=5\n",
    "\n",
    "    x_train_new=x_train.iloc[:,0:20+i]\n",
    "    x_test_new=x_test.iloc[:,0:20+i]\n",
    "    \n",
    "    \n",
    "    XGC=xgc(gamma= 0.2, learning_rate= 0.3, max_depth= 6, n_estimators =80, reg_alpha= 1, scale_pos_weight= 1)\n",
    "    XGC.fit(x_train_new,y_train)\n",
    "    predict=XGC.predict_proba(x_test_new)\n",
    "    predict=pd.DataFrame(data=predict)\n",
    "    predict=predict[1].values\n",
    "   \n",
    "\n",
    "    score_xg.append(roc_auc_score(y_test,predict))\n",
    "    predict=pd.DataFrame(predict,columns=['pred_class']) \n",
    "    predict.loc[predict[\"pred_class\"]<0.5, \"pred_class\"] = 0\n",
    "    predict.loc[predict[\"pred_class\"]>0.5, \"pred_class\"] = 1\n",
    "    predicted_class_xg.append(predict)"
   ]
  },
  {
   "cell_type": "code",
   "execution_count": 580,
   "metadata": {},
   "outputs": [
    {
     "data": {
      "text/plain": [
       "[0.9697664962825278,\n",
       " 0.9837028677642061,\n",
       " 0.9838854221986192,\n",
       " 0.9943657063197026]"
      ]
     },
     "execution_count": 580,
     "metadata": {},
     "output_type": "execute_result"
    }
   ],
   "source": [
    "score_xg"
   ]
  },
  {
   "cell_type": "markdown",
   "metadata": {},
   "source": [
    "for different ranges"
   ]
  },
  {
   "cell_type": "code",
   "execution_count": 306,
   "metadata": {},
   "outputs": [],
   "source": [
    "score_814_xg=[]\n",
    "FPS_rate_xg=[]\n",
    "TPS_rate_xg=[]\n",
    "\n",
    "for i,j in zip([22.5,23,24,25,26],[0,22.5,23,24,0]):\n",
    "    \n",
    "    f5=f1.copy()\n",
    "    f5=f5[(f5['f814w']<=i)&(f5['f814w']>j)]\n",
    "\n",
    "    X=f5.drop([\"id\",'g/s','stellar_flag'],axis=1)\n",
    "    y=f5['g/s']\n",
    "    \n",
    "    x_train,x_test,y_train,y_test=train_test_split(X,y,test_size=0.15,random_state=1)\n",
    "\n",
    "    XGC=xgc(gamma= 0.2, learning_rate= 0.3, max_depth= 4, n_estimators =80, reg_alpha= 1, scale_pos_weight= 1)\n",
    "    XGC.fit(x_train,y_train)\n",
    "    predict=XGC.predict_proba(x_test)\n",
    "    predict=pd.DataFrame(data=predict)\n",
    "    predict=predict[1].values\n",
    "    \n",
    "    score_814_xg.append(roc_auc_score(y_test,predict))\n",
    "    false_positive_rate,true_positive_rate,thresholds= roc_curve(y_test,predict) \n",
    "    FPS_rate_xg.append(false_positive_rate)\n",
    "    TPS_rate_xg.append(true_positive_rate)"
   ]
  },
  {
   "cell_type": "code",
   "execution_count": 307,
   "metadata": {},
   "outputs": [
    {
     "data": {
      "image/png": "[encoded data removed]",
      "text/plain": [
       "<Figure size 432x288 with 1 Axes>"
      ]
     },
     "metadata": {
      "needs_background": "light"
     },
     "output_type": "display_data"
    }
   ],
   "source": [
    "result=pd.DataFrame({'F814':[\"F814<22.5\",\"22.5<F814<23\",\"23<F814<24\",\"24<F814<25\",\"F814<26\"],'AUC score':score_814_xg})\n",
    "plt.plot(FPS_rate_xg[0],TPS_rate_xg[0],color=\"black\",alpha=1,ls='dashed',label=\"F814<22.5\")\n",
    "plt.plot(FPS_rate_xg[1],TPS_rate_xg[1],color=\"purple\",alpha=1,ls='dashed',label=\"22.5<F814<23\")\n",
    "plt.plot(FPS_rate_xg[2],TPS_rate_xg[2],color=\"green\",alpha=1,ls='dashed',label=\"23<F814<24\")\n",
    "plt.plot(FPS_rate_xg[3],TPS_rate_xg[3],color=\"blue\",alpha=1,ls='dashed',label=\"24<F814<25\")\n",
    "plt.plot(FPS_rate_xg[4],TPS_rate_xg[4],color=\"red\",alpha=1,ls='dashed',label=\"F814<26\")\n",
    "plt.xlabel('False positive rate')\n",
    "plt.ylabel('True positive rate')\n",
    "\n",
    "plt.legend()\n",
    "plt.show()"
   ]
  },
  {
   "cell_type": "code",
   "execution_count": 308,
   "metadata": {},
   "outputs": [
    {
     "data": {
      "text/html": [
       "<div>\n",
       "<style scoped>\n",
       "    .dataframe tbody tr th:only-of-type {\n",
       "        vertical-align: middle;\n",
       "    }\n",
       "\n",
       "    .dataframe tbody tr th {\n",
       "        vertical-align: top;\n",
       "    }\n",
       "\n",
       "    .dataframe thead th {\n",
       "        text-align: right;\n",
       "    }\n",
       "</style>\n",
       "<table border=\"1\" class=\"dataframe\">\n",
       "  <thead>\n",
       "    <tr style=\"text-align: right;\">\n",
       "      <th></th>\n",
       "      <th>F814</th>\n",
       "      <th>AUC score</th>\n",
       "    </tr>\n",
       "  </thead>\n",
       "  <tbody>\n",
       "    <tr>\n",
       "      <th>0</th>\n",
       "      <td>F814&lt;22.5</td>\n",
       "      <td>0.995644</td>\n",
       "    </tr>\n",
       "    <tr>\n",
       "      <th>1</th>\n",
       "      <td>22.5&lt;F814&lt;23</td>\n",
       "      <td>0.909787</td>\n",
       "    </tr>\n",
       "    <tr>\n",
       "      <th>2</th>\n",
       "      <td>23&lt;F814&lt;24</td>\n",
       "      <td>0.881833</td>\n",
       "    </tr>\n",
       "    <tr>\n",
       "      <th>3</th>\n",
       "      <td>24&lt;F814&lt;25</td>\n",
       "      <td>0.820495</td>\n",
       "    </tr>\n",
       "    <tr>\n",
       "      <th>4</th>\n",
       "      <td>F814&lt;26</td>\n",
       "      <td>0.975592</td>\n",
       "    </tr>\n",
       "  </tbody>\n",
       "</table>\n",
       "</div>"
      ],
      "text/plain": [
       "           F814  AUC score\n",
       "0     F814<22.5   0.995644\n",
       "1  22.5<F814<23   0.909787\n",
       "2    23<F814<24   0.881833\n",
       "3    24<F814<25   0.820495\n",
       "4       F814<26   0.975592"
      ]
     },
     "execution_count": 308,
     "metadata": {},
     "output_type": "execute_result"
    }
   ],
   "source": [
    "result"
   ]
  },
  {
   "cell_type": "markdown",
   "metadata": {},
   "source": [
    "## ANN"
   ]
  },
  {
   "cell_type": "code",
   "execution_count": 372,
   "metadata": {},
   "outputs": [],
   "source": [
    "from keras.layers import Dense, Activation,Dropout\n",
    "from keras.wrappers.scikit_learn import KerasClassifier\n",
    "from keras.models import Sequential\n",
    "from sklearn.preprocessing import MinMaxScaler\n",
    "from keras.optimizers import Adam\n",
    "from sklearn.metrics import accuracy_score\n",
    "from keras.layers import BatchNormalization\n",
    "from sklearn.model_selection import GridSearchCV\n",
    "from sklearn.metrics import roc_auc_score\n",
    "from sklearn.metrics import roc_curve\n",
    "from sklearn.metrics import auc"
   ]
  },
  {
   "cell_type": "code",
   "execution_count": 596,
   "metadata": {},
   "outputs": [],
   "source": [
    "from sklearn.model_selection import train_test_split\n",
    "x_train,x_test,y_train,y_test=train_test_split(X,y,test_size=0.15,random_state=1)"
   ]
  },
  {
   "cell_type": "code",
   "execution_count": 597,
   "metadata": {},
   "outputs": [],
   "source": [
    "def ANN(no_of_neurons,no_of_layers,dropout,activation,learning_rate):   # difining neural net\n",
    "    model=Sequential()\n",
    "    model.add(Dense(no_of_neurons,input_dim=x_train.shape[1],activation=activation))\n",
    "    model.add(BatchNormalization())\n",
    "    for i in range(no_of_layers):\n",
    "     model.add(Dense(no_of_neurons,activation))\n",
    "    model.add(Dropout(dropout))\n",
    "    model.add(Dense(1,activation=\"sigmoid\"))\n",
    "    model.compile(loss=\"binary_crossentropy\",optimizer= Adam(learning_rate=learning_rate),metrics=[\"accuracy\"])\n",
    "    return model"
   ]
  },
  {
   "cell_type": "code",
   "execution_count": 598,
   "metadata": {},
   "outputs": [],
   "source": [
    "def plot_training(training):               # function to check overfitting via graph\n",
    "    acc_values = training['accuracy']\n",
    "    val_acc_values = training['val_accuracy']\n",
    "    epochs = range(1, len(acc_values) + 1)\n",
    "\n",
    "    plt.plot(epochs, acc_values, 'bo', label='Training acc',)\n",
    "    plt.plot(epochs, val_acc_values, 'b', label='Test accuracy')\n",
    "    \n",
    "    plt.title('Training and validation accuracy')\n",
    "    plt.xlabel('Epochs')\n",
    "    plt.ylabel('Accuracy')\n",
    "    plt.legend()\n",
    "    plt.show()"
   ]
  },
  {
   "cell_type": "code",
   "execution_count": 351,
   "metadata": {},
   "outputs": [
    {
     "name": "stderr",
     "output_type": "stream",
     "text": [
      "/tmp/ipykernel_637147/2137459607.py:1: DeprecationWarning: KerasClassifier is deprecated, use Sci-Keras (https://github.com/adriangb/scikeras) instead. See https://www.adriangb.com/scikeras/stable/migration.html for help migrating.\n",
      "  test_model=KerasClassifier(build_fn=ANN)    # hyperparameterizing defined neural net\n",
      "2022-11-12 20:12:40.423595: W tensorflow/stream_executor/platform/default/dso_loader.cc:64] Could not load dynamic library 'libcudart.so.11.0'; dlerror: libcudart.so.11.0: cannot open shared object file: No such file or directory\n",
      "2022-11-12 20:12:40.423595: W tensorflow/stream_executor/platform/default/dso_loader.cc:64] Could not load dynamic library 'libcudart.so.11.0'; dlerror: libcudart.so.11.0: cannot open shared object file: No such file or directory\n",
      "2022-11-12 20:12:40.423597: W tensorflow/stream_executor/platform/default/dso_loader.cc:64] Could not load dynamic library 'libcudart.so.11.0'; dlerror: libcudart.so.11.0: cannot open shared object file: No such file or directory\n",
      "2022-11-12 20:12:40.423598: W tensorflow/stream_executor/platform/default/dso_loader.cc:64] Could not load dynamic library 'libcudart.so.11.0'; dlerror: libcudart.so.11.0: cannot open shared object file: No such file or directory\n",
      "2022-11-12 20:12:40.423683: I tensorflow/stream_executor/cuda/cudart_stub.cc:29] Ignore above cudart dlerror if you do not have a GPU set up on your machine.\n",
      "2022-11-12 20:12:40.423699: I tensorflow/stream_executor/cuda/cudart_stub.cc:29] Ignore above cudart dlerror if you do not have a GPU set up on your machine.\n",
      "2022-11-12 20:12:40.423697: I tensorflow/stream_executor/cuda/cudart_stub.cc:29] Ignore above cudart dlerror if you do not have a GPU set up on your machine.\n",
      "2022-11-12 20:12:40.425919: I tensorflow/stream_executor/cuda/cudart_stub.cc:29] Ignore above cudart dlerror if you do not have a GPU set up on your machine.\n",
      "2022-11-12 20:12:56.865522: W tensorflow/stream_executor/platform/default/dso_loader.cc:64] Could not load dynamic library 'libcuda.so.1'; dlerror: libcuda.so.1: cannot open shared object file: No such file or directory\n",
      "2022-11-12 20:12:56.865538: W tensorflow/stream_executor/platform/default/dso_loader.cc:64] Could not load dynamic library 'libcuda.so.1'; dlerror: libcuda.so.1: cannot open shared object file: No such file or directory\n",
      "2022-11-12 20:12:56.865594: W tensorflow/stream_executor/cuda/cuda_driver.cc:269] failed call to cuInit: UNKNOWN ERROR (303)\n",
      "2022-11-12 20:12:56.865655: I tensorflow/stream_executor/cuda/cuda_diagnostics.cc:156] kernel driver does not appear to be running on this host (pratyaksh-Lenovo-IdeaPad-S145-15IKB): /proc/driver/nvidia/version does not exist\n",
      "2022-11-12 20:12:56.865641: W tensorflow/stream_executor/platform/default/dso_loader.cc:64] Could not load dynamic library 'libcuda.so.1'; dlerror: libcuda.so.1: cannot open shared object file: No such file or directory\n",
      "2022-11-12 20:12:56.865689: W tensorflow/stream_executor/cuda/cuda_driver.cc:269] failed call to cuInit: UNKNOWN ERROR (303)\n",
      "2022-11-12 20:12:56.865740: I tensorflow/stream_executor/cuda/cuda_diagnostics.cc:156] kernel driver does not appear to be running on this host (pratyaksh-Lenovo-IdeaPad-S145-15IKB): /proc/driver/nvidia/version does not exist\n",
      "2022-11-12 20:12:56.866340: I tensorflow/core/platform/cpu_feature_guard.cc:193] This TensorFlow binary is optimized with oneAPI Deep Neural Network Library (oneDNN) to use the following CPU instructions in performance-critical operations:  AVX2 FMA\n",
      "To enable them in other operations, rebuild TensorFlow with the appropriate compiler flags.\n",
      "2022-11-12 20:12:56.866468: W tensorflow/stream_executor/cuda/cuda_driver.cc:269] failed call to cuInit: UNKNOWN ERROR (303)\n",
      "2022-11-12 20:12:56.866596: I tensorflow/stream_executor/cuda/cuda_diagnostics.cc:156] kernel driver does not appear to be running on this host (pratyaksh-Lenovo-IdeaPad-S145-15IKB): /proc/driver/nvidia/version does not exist\n",
      "2022-11-12 20:12:56.867298: I tensorflow/core/platform/cpu_feature_guard.cc:193] This TensorFlow binary is optimized with oneAPI Deep Neural Network Library (oneDNN) to use the following CPU instructions in performance-critical operations:  AVX2 FMA\n",
      "To enable them in other operations, rebuild TensorFlow with the appropriate compiler flags.\n",
      "2022-11-12 20:12:56.868545: W tensorflow/stream_executor/platform/default/dso_loader.cc:64] Could not load dynamic library 'libcuda.so.1'; dlerror: libcuda.so.1: cannot open shared object file: No such file or directory\n",
      "2022-11-12 20:12:56.868751: W tensorflow/stream_executor/cuda/cuda_driver.cc:269] failed call to cuInit: UNKNOWN ERROR (303)\n",
      "2022-11-12 20:12:56.868894: I tensorflow/stream_executor/cuda/cuda_diagnostics.cc:156] kernel driver does not appear to be running on this host (pratyaksh-Lenovo-IdeaPad-S145-15IKB): /proc/driver/nvidia/version does not exist\n",
      "2022-11-12 20:12:56.868692: I tensorflow/core/platform/cpu_feature_guard.cc:193] This TensorFlow binary is optimized with oneAPI Deep Neural Network Library (oneDNN) to use the following CPU instructions in performance-critical operations:  AVX2 FMA\n",
      "To enable them in other operations, rebuild TensorFlow with the appropriate compiler flags.\n",
      "2022-11-12 20:12:56.869768: I tensorflow/core/platform/cpu_feature_guard.cc:193] This TensorFlow binary is optimized with oneAPI Deep Neural Network Library (oneDNN) to use the following CPU instructions in performance-critical operations:  AVX2 FMA\n",
      "To enable them in other operations, rebuild TensorFlow with the appropriate compiler flags.\n"
     ]
    },
    {
     "name": "stdout",
     "output_type": "stream",
     "text": [
      "138/138 [==============================] - 2s 5ms/step - loss: 0.2998 - accuracy: 0.8872\n",
      "138/138 [==============================] - 3s 5ms/step - loss: 0.3146 - accuracy: 0.8802\n",
      "138/138 [==============================] - 3s 5ms/step - loss: 0.3146 - accuracy: 0.8804\n",
      "138/138 [==============================] - 3s 6ms/step - loss: 0.2537 - accuracy: 0.9031\n",
      "69/69 [==============================] - 0s 2ms/step - loss: 0.8111 - accuracy: 0.5553\n",
      "69/69 [==============================] - 0s 2ms/step - loss: 0.3485 - accuracy: 0.8714\n",
      "69/69 [==============================] - 0s 3ms/step - loss: 1.7389 - accuracy: 0.4918\n",
      "69/69 [==============================] - 0s 2ms/step - loss: 8.6063 - accuracy: 0.2433\n",
      "138/138 [==============================] - 2s 4ms/step - loss: 0.2561 - accuracy: 0.9059\n",
      "138/138 [==============================] - 2s 5ms/step - loss: 0.2160 - accuracy: 0.9266\n",
      "138/138 [==============================] - 2s 5ms/step - loss: 0.2662 - accuracy: 0.9000\n",
      "69/69 [==============================] - 0s 2ms/step - loss: 0.3284 - accuracy: 0.8317\n",
      "138/138 [==============================] - 2s 4ms/step - loss: 0.2323 - accuracy: 0.9177\n",
      "69/69 [==============================] - 0s 2ms/step - loss: 0.6437 - accuracy: 0.6377\n",
      "69/69 [==============================] - 0s 3ms/step - loss: 4.3362 - accuracy: 0.2678\n",
      "69/69 [==============================] - 0s 2ms/step - loss: 0.1755 - accuracy: 0.9723\n",
      "138/138 [==============================] - 2s 5ms/step - loss: 0.2373 - accuracy: 0.9102\n",
      "69/69 [==============================] - 1s 4ms/step - loss: 1.0004 - accuracy: 0.7681\n",
      "138/138 [==============================] - 2s 5ms/step - loss: 0.3343 - accuracy: 0.8688\n",
      "138/138 [==============================] - 2s 4ms/step - loss: 0.2850 - accuracy: 0.8934\n",
      "138/138 [==============================] - 2s 3ms/step - loss: 0.2647 - accuracy: 0.9025\n",
      "69/69 [==============================] - 0s 2ms/step - loss: 1.3438 - accuracy: 0.7973\n",
      "69/69 [==============================] - 0s 3ms/step - loss: 0.3282 - accuracy: 0.8649\n",
      "69/69 [==============================] - 1s 3ms/step - loss: 0.8428 - accuracy: 0.4916\n",
      "138/138 [==============================] - 2s 5ms/step - loss: 0.2692 - accuracy: 0.8931\n",
      "69/69 [==============================] - 1s 3ms/step - loss: 0.7268 - accuracy: 0.5905\n",
      "138/138 [==============================] - 2s 5ms/step - loss: 0.2761 - accuracy: 0.9004\n",
      "138/138 [==============================] - 2s 4ms/step - loss: 0.2242 - accuracy: 0.9254\n",
      "138/138 [==============================] - 2s 5ms/step - loss: 0.2029 - accuracy: 0.9320\n",
      "69/69 [==============================] - 1s 3ms/step - loss: 1.4413 - accuracy: 0.7904\n",
      "69/69 [==============================] - 0s 2ms/step - loss: 0.1870 - accuracy: 0.9573\n",
      "69/69 [==============================] - 0s 3ms/step - loss: 0.3332 - accuracy: 0.8532\n",
      "138/138 [==============================] - 2s 5ms/step - loss: 0.2553 - accuracy: 0.9063\n",
      "69/69 [==============================] - 0s 2ms/step - loss: 6.4715 - accuracy: 0.7776\n",
      "138/138 [==============================] - 2s 6ms/step - loss: 0.2099 - accuracy: 0.9277\n",
      "138/138 [==============================] - 2s 5ms/step - loss: 0.2811 - accuracy: 0.8938\n",
      "138/138 [==============================] - 2s 5ms/step - loss: 0.2642 - accuracy: 0.9038\n",
      "69/69 [==============================] - 0s 2ms/step - loss: 3.8162 - accuracy: 0.7772\n",
      "69/69 [==============================] - 1s 3ms/step - loss: 0.2298 - accuracy: 0.9163\n",
      "69/69 [==============================] - 0s 3ms/step - loss: 5.1891 - accuracy: 0.7745\n",
      "138/138 [==============================] - 2s 4ms/step - loss: 0.2314 - accuracy: 0.9268\n",
      "69/69 [==============================] - 1s 3ms/step - loss: 1.4904 - accuracy: 0.7681\n",
      "138/138 [==============================] - 2s 5ms/step - loss: 0.2277 - accuracy: 0.9152\n",
      "138/138 [==============================] - 2s 4ms/step - loss: 0.2477 - accuracy: 0.9079\n",
      "138/138 [==============================] - 2s 4ms/step - loss: 0.2696 - accuracy: 0.8997\n",
      "69/69 [==============================] - 1s 3ms/step - loss: 0.8576 - accuracy: 0.8041\n",
      "69/69 [==============================] - 1s 4ms/step - loss: 0.1294 - accuracy: 0.9686\n",
      "69/69 [==============================] - 0s 2ms/step - loss: 3.7563 - accuracy: 0.7681\n",
      "138/138 [==============================] - 3s 5ms/step - loss: 0.2481 - accuracy: 0.9147\n",
      "138/138 [==============================] - 3s 5ms/step - loss: 0.2146 - accuracy: 0.9361\n",
      "69/69 [==============================] - 1s 3ms/step - loss: 0.2407 - accuracy: 0.9395\n",
      "138/138 [==============================] - 2s 5ms/step - loss: 0.2004 - accuracy: 0.9334\n",
      "138/138 [==============================] - 2s 3ms/step - loss: 0.3290 - accuracy: 0.8693\n",
      "69/69 [==============================] - 1s 4ms/step - loss: 1.7157 - accuracy: 0.7681\n",
      "69/69 [==============================] - 0s 3ms/step - loss: 0.9584 - accuracy: 0.5725\n",
      "69/69 [==============================] - 0s 3ms/step - loss: 0.4704 - accuracy: 0.7286\n",
      "138/138 [==============================] - 2s 4ms/step - loss: 0.3143 - accuracy: 0.8818\n",
      "138/138 [==============================] - 2s 4ms/step - loss: 0.3321 - accuracy: 0.8627\n",
      "69/69 [==============================] - 1s 2ms/step - loss: 2.0592 - accuracy: 0.3242\n",
      "138/138 [==============================] - 2s 4ms/step - loss: 0.2992 - accuracy: 0.8911\n",
      "138/138 [==============================] - 2s 4ms/step - loss: 0.2609 - accuracy: 0.9100\n",
      "69/69 [==============================] - 0s 3ms/step - loss: 0.4522 - accuracy: 0.7681\n",
      "69/69 [==============================] - 1s 3ms/step - loss: 0.4346 - accuracy: 0.8264\n",
      "69/69 [==============================] - 0s 2ms/step - loss: 0.2950 - accuracy: 0.8545\n",
      "138/138 [==============================] - 2s 4ms/step - loss: 0.2703 - accuracy: 0.8961\n",
      "138/138 [==============================] - 2s 5ms/step - loss: 0.2161 - accuracy: 0.9216\n",
      "69/69 [==============================] - 1s 3ms/step - loss: 4.3050 - accuracy: 0.7681\n",
      "138/138 [==============================] - 2s 4ms/step - loss: 0.2388 - accuracy: 0.9084\n",
      "138/138 [==============================] - 2s 4ms/step - loss: 0.2517 - accuracy: 0.9075\n",
      "69/69 [==============================] - 0s 3ms/step - loss: 0.2899 - accuracy: 0.8686\n",
      "69/69 [==============================] - 1s 3ms/step - loss: 1.0071 - accuracy: 0.7968\n",
      "69/69 [==============================] - 0s 3ms/step - loss: 0.8411 - accuracy: 0.5862\n",
      "138/138 [==============================] - 2s 4ms/step - loss: 0.3109 - accuracy: 0.8834\n",
      "69/69 [==============================] - 1s 4ms/step - loss: 1.2192 - accuracy: 0.7745\n",
      "138/138 [==============================] - 2s 5ms/step - loss: 0.2857 - accuracy: 0.8932\n",
      "138/138 [==============================] - 2s 6ms/step - loss: 0.3311 - accuracy: 0.8691\n",
      "138/138 [==============================] - 2s 4ms/step - loss: 0.2636 - accuracy: 0.8979\n",
      "69/69 [==============================] - 0s 3ms/step - loss: 4.3465 - accuracy: 0.7745\n",
      "69/69 [==============================] - 0s 3ms/step - loss: 6.8186 - accuracy: 0.2360\n",
      "69/69 [==============================] - 1s 3ms/step - loss: 0.2574 - accuracy: 0.9095\n",
      "138/138 [==============================] - 2s 4ms/step - loss: 0.2764 - accuracy: 0.8984\n",
      "69/69 [==============================] - 0s 2ms/step - loss: 4.1520 - accuracy: 0.2665\n",
      "138/138 [==============================] - 2s 6ms/step - loss: 0.2590 - accuracy: 0.9043\n",
      "138/138 [==============================] - 2s 6ms/step - loss: 0.2218 - accuracy: 0.9220\n",
      "138/138 [==============================] - 2s 5ms/step - loss: 0.2234 - accuracy: 0.9216\n",
      "138/138 [==============================] - 2s 4ms/step - loss: 0.2448 - accuracy: 0.9136\n",
      "69/69 [==============================] - 1s 4ms/step - loss: 1.1544 - accuracy: 0.7785\n",
      "69/69 [==============================] - 1s 3ms/step - loss: 0.6024 - accuracy: 0.7836\n",
      "69/69 [==============================] - 1s 3ms/step - loss: 3.0689 - accuracy: 0.7776\n",
      "69/69 [==============================] - 1s 3ms/step - loss: 0.3574 - accuracy: 0.8599\n",
      "138/138 [==============================] - 2s 5ms/step - loss: 0.2791 - accuracy: 0.8995\n",
      "138/138 [==============================] - 3s 6ms/step - loss: 0.2973 - accuracy: 0.8856\n",
      "138/138 [==============================] - 3s 4ms/step - loss: 0.2624 - accuracy: 0.9070\n",
      "69/69 [==============================] - 1s 3ms/step - loss: 1.7877 - accuracy: 0.7694\n",
      "138/138 [==============================] - 3s 4ms/step - loss: 0.2933 - accuracy: 0.8915\n",
      "69/69 [==============================] - 0s 3ms/step - loss: 10.2128 - accuracy: 0.2423\n",
      "69/69 [==============================] - 1s 4ms/step - loss: 4.4970 - accuracy: 0.2883\n",
      "69/69 [==============================] - 1s 3ms/step - loss: 0.4149 - accuracy: 0.8091\n",
      "138/138 [==============================] - 3s 6ms/step - loss: 0.2559 - accuracy: 0.9093\n",
      "138/138 [==============================] - 3s 6ms/step - loss: 0.2548 - accuracy: 0.9061\n",
      "138/138 [==============================] - 2s 6ms/step - loss: 0.2476 - accuracy: 0.9123\n",
      "138/138 [==============================] - 3s 5ms/step - loss: 0.2033 - accuracy: 0.9359\n",
      "69/69 [==============================] - 0s 3ms/step - loss: 5.5413 - accuracy: 0.7745\n",
      "69/69 [==============================] - 1s 3ms/step - loss: 0.7067 - accuracy: 0.6726\n",
      "69/69 [==============================] - 1s 4ms/step - loss: 0.6364 - accuracy: 0.7690\n",
      "69/69 [==============================] - 0s 3ms/step - loss: 0.5553 - accuracy: 0.7995\n",
      "138/138 [==============================] - 2s 6ms/step - loss: 0.3941 - accuracy: 0.8363\n",
      "138/138 [==============================] - 2s 5ms/step - loss: 0.3748 - accuracy: 0.8554\n",
      "138/138 [==============================] - 2s 5ms/step - loss: 0.4207 - accuracy: 0.8252\n",
      "138/138 [==============================] - 3s 5ms/step - loss: 0.2327 - accuracy: 0.9204\n",
      "69/69 [==============================] - 0s 2ms/step - loss: 0.5349 - accuracy: 0.7681\n",
      "69/69 [==============================] - 0s 2ms/step - loss: 2.0606 - accuracy: 0.7844\n",
      "69/69 [==============================] - 0s 3ms/step - loss: 0.3512 - accuracy: 0.7827\n",
      "69/69 [==============================] - 1s 3ms/step - loss: 0.7554 - accuracy: 0.7881\n",
      "138/138 [==============================] - 2s 4ms/step - loss: 0.3304 - accuracy: 0.8688\n",
      "138/138 [==============================] - 2s 6ms/step - loss: 0.3129 - accuracy: 0.8840\n",
      "69/69 [==============================] - 0s 3ms/step - loss: 1.0542 - accuracy: 0.5221\n",
      "138/138 [==============================] - 2s 4ms/step - loss: 0.2515 - accuracy: 0.9131\n",
      "138/138 [==============================] - 2s 4ms/step - loss: 0.3291 - accuracy: 0.8736\n",
      "69/69 [==============================] - 1s 3ms/step - loss: 0.5154 - accuracy: 0.7277\n",
      "69/69 [==============================] - 1s 3ms/step - loss: 5.2107 - accuracy: 0.2695\n",
      "69/69 [==============================] - 1s 3ms/step - loss: 1.8487 - accuracy: 0.7681\n",
      "138/138 [==============================] - 2s 5ms/step - loss: 0.2234 - accuracy: 0.9282\n",
      "138/138 [==============================] - 2s 5ms/step - loss: 0.2831 - accuracy: 0.8897\n",
      "138/138 [==============================] - 2s 4ms/step - loss: 0.3698 - accuracy: 0.8543\n",
      "138/138 [==============================] - 2s 5ms/step - loss: 0.3656 - accuracy: 0.8516\n",
      "69/69 [==============================] - 1s 3ms/step - loss: 0.8291 - accuracy: 0.5530\n",
      "69/69 [==============================] - 1s 3ms/step - loss: 0.2804 - accuracy: 0.8491\n",
      "69/69 [==============================] - 0s 2ms/step - loss: 0.2298 - accuracy: 0.9195\n",
      "69/69 [==============================] - 0s 3ms/step - loss: 0.6657 - accuracy: 0.7794\n",
      "138/138 [==============================] - 2s 5ms/step - loss: 0.2799 - accuracy: 0.8968\n",
      "138/138 [==============================] - 2s 4ms/step - loss: 0.3307 - accuracy: 0.8713\n",
      "138/138 [==============================] - 2s 6ms/step - loss: 0.3040 - accuracy: 0.8684\n",
      "69/69 [==============================] - 0s 3ms/step - loss: 13.1346 - accuracy: 0.2265\n",
      "69/69 [==============================] - 1s 4ms/step - loss: 3.2507 - accuracy: 0.7681\n",
      "69/69 [==============================] - 1s 4ms/step - loss: 7.1528 - accuracy: 0.7745\n",
      "138/138 [==============================] - 2s 5ms/step - loss: 0.3697 - accuracy: 0.8479\n",
      "69/69 [==============================] - 1s 3ms/step - loss: 0.6882 - accuracy: 0.7799\n",
      "138/138 [==============================] - 2s 5ms/step - loss: 0.2995 - accuracy: 0.8920\n",
      "138/138 [==============================] - 2s 5ms/step - loss: 0.2385 - accuracy: 0.9170\n",
      "138/138 [==============================] - 3s 4ms/step - loss: 0.2313 - accuracy: 0.9229\n",
      "69/69 [==============================] - 0s 2ms/step - loss: 0.2878 - accuracy: 0.9100\n",
      "69/69 [==============================] - 0s 2ms/step - loss: 3.0926 - accuracy: 0.3101\n",
      "69/69 [==============================] - 1s 4ms/step - loss: 6.3792 - accuracy: 0.7681\n",
      "138/138 [==============================] - 2s 4ms/step - loss: 0.3415 - accuracy: 0.8531\n",
      "69/69 [==============================] - 0s 3ms/step - loss: 0.8456 - accuracy: 0.7755\n",
      "138/138 [==============================] - 3s 6ms/step - loss: 0.3750 - accuracy: 0.8491\n",
      "138/138 [==============================] - 3s 6ms/step - loss: 0.3134 - accuracy: 0.8768\n",
      "138/138 [==============================] - 3s 4ms/step - loss: 0.3225 - accuracy: 0.8695\n",
      "69/69 [==============================] - 1s 4ms/step - loss: 0.3040 - accuracy: 0.9018\n",
      "138/138 [==============================] - 3s 5ms/step - loss: 0.2775 - accuracy: 0.8970\n",
      "69/69 [==============================] - 1s 3ms/step - loss: 1.6032 - accuracy: 0.4407\n",
      "69/69 [==============================] - 0s 3ms/step - loss: 1.6857 - accuracy: 0.3959\n",
      "69/69 [==============================] - 1s 4ms/step - loss: 2.0725 - accuracy: 0.7776\n",
      "138/138 [==============================] - 3s 6ms/step - loss: 0.2915 - accuracy: 0.8866\n",
      "138/138 [==============================] - 2s 6ms/step - loss: 0.2398 - accuracy: 0.9100\n",
      "138/138 [==============================] - 3s 6ms/step - loss: 0.2494 - accuracy: 0.9125\n",
      "69/69 [==============================] - 0s 4ms/step - loss: 0.2120 - accuracy: 0.9159\n",
      "69/69 [==============================] - 0s 2ms/step - loss: 10.1936 - accuracy: 0.2415\n",
      "138/138 [==============================] - 3s 5ms/step - loss: 0.2831 - accuracy: 0.9032\n",
      "69/69 [==============================] - 0s 1ms/step - loss: 0.1873 - accuracy: 0.9336\n",
      "69/69 [==============================] - 0s 1ms/step - loss: 0.9001 - accuracy: 0.7945\n"
     ]
    },
    {
     "name": "stderr",
     "output_type": "stream",
     "text": [
      "/home/pratyaksh/.local/lib/python3.10/site-packages/sklearn/model_selection/_validation.py:378: FitFailedWarning: \n",
      "81 fits failed out of a total of 162.\n",
      "The score on these train-test partitions for these parameters will be set to nan.\n",
      "If these failures are not expected, you can try to debug them by setting error_score='raise'.\n",
      "\n",
      "Below are more details about the failures:\n",
      "--------------------------------------------------------------------------------\n",
      "81 fits failed with the following error:\n",
      "Traceback (most recent call last):\n",
      "  File \"/home/pratyaksh/.local/lib/python3.10/site-packages/sklearn/model_selection/_validation.py\", line 686, in _fit_and_score\n",
      "    estimator.fit(X_train, y_train, **fit_params)\n",
      "  File \"/home/pratyaksh/.local/lib/python3.10/site-packages/keras/wrappers/scikit_learn.py\", line 236, in fit\n",
      "    return super(KerasClassifier, self).fit(x, y, **kwargs)\n",
      "  File \"/home/pratyaksh/.local/lib/python3.10/site-packages/keras/wrappers/scikit_learn.py\", line 155, in fit\n",
      "    self.model = self.build_fn(**self.filter_sk_params(self.build_fn))\n",
      "  File \"/tmp/ipykernel_637147/3099064428.py\", line 3, in ANN\n",
      "  File \"/home/pratyaksh/.local/lib/python3.10/site-packages/keras/dtensor/utils.py\", line 95, in _wrap_function\n",
      "    init_method(layer_instance, *args, **kwargs)\n",
      "  File \"/home/pratyaksh/.local/lib/python3.10/site-packages/keras/layers/core/dense.py\", line 120, in __init__\n",
      "    self.activation = activations.get(activation)\n",
      "  File \"/home/pratyaksh/.local/lib/python3.10/site-packages/tensorflow/python/util/traceback_utils.py\", line 153, in error_handler\n",
      "    raise e.with_traceback(filtered_tb) from None\n",
      "  File \"/home/pratyaksh/.local/lib/python3.10/site-packages/keras/activations.py\", line 595, in get\n",
      "    return deserialize(identifier)\n",
      "  File \"/home/pratyaksh/.local/lib/python3.10/site-packages/keras/activations.py\", line 555, in deserialize\n",
      "    return deserialize_keras_object(\n",
      "  File \"/home/pratyaksh/.local/lib/python3.10/site-packages/keras/utils/generic_utils.py\", line 709, in deserialize_keras_object\n",
      "    raise ValueError(\n",
      "ValueError: Unknown activation function: LeakyRelu. Please ensure this object is passed to the `custom_objects` argument. See https://www.tensorflow.org/guide/keras/save_and_serialize#registering_the_custom_object for details.\n",
      "\n",
      "  warnings.warn(some_fits_failed_message, FitFailedWarning)\n",
      "/home/pratyaksh/.local/lib/python3.10/site-packages/sklearn/model_selection/_search.py:953: UserWarning: One or more of the test scores are non-finite: [0.43012099 0.89178848 0.55788424 0.71793281 0.77935568 0.84904456\n",
      " 0.77326443 0.84692981 0.76005161 0.6069837  0.81630645 0.75052347\n",
      " 0.64002203 0.60652197 0.80706632 0.43334209 0.75021843 0.78614906\n",
      " 0.77962975 0.67261974 0.58067766 0.79887086 0.59363732 0.66273914\n",
      " 0.70596096 0.47166957 0.88131974        nan        nan        nan\n",
      "        nan        nan        nan        nan        nan        nan\n",
      "        nan        nan        nan        nan        nan        nan\n",
      "        nan        nan        nan        nan        nan        nan\n",
      "        nan        nan        nan        nan        nan        nan]\n",
      "  warnings.warn(\n"
     ]
    },
    {
     "name": "stdout",
     "output_type": "stream",
     "text": [
      "207/207 [==============================] - 1s 2ms/step - loss: 0.2750 - accuracy: 0.8954\n",
      "{'activation': 'relu', 'dropout': 0.3, 'learning_rate': 0.003, 'no_of_layers': 2, 'no_of_neurons': 40}\n"
     ]
    }
   ],
   "source": [
    "test_model=KerasClassifier(build_fn=ANN)    # hyperparameterizing defined neural net\n",
    "param_grid={\n",
    "    'no_of_neurons':[25,40,75],\n",
    "    'no_of_layers':[2,3,4],\n",
    "    'dropout':[0.3,0.5,0.7],\n",
    "    \"activation\":['relu','LeakyRelu'],\n",
    "    \"learning_rate\":[0.003]\n",
    "}\n",
    "\n",
    "cv=GridSearchCV(estimator=test_model,param_grid=param_grid,cv=3,n_jobs=-1)\n",
    "cv.fit(x_train,y_train)\n",
    "print(cv.best_params_)"
   ]
  },
  {
   "cell_type": "code",
   "execution_count": 599,
   "metadata": {},
   "outputs": [],
   "source": [
    "model=ANN(no_of_neurons=40,no_of_layers=2,activation='relu',learning_rate=0.003,dropout=0.3)"
   ]
  },
  {
   "cell_type": "code",
   "execution_count": 600,
   "metadata": {},
   "outputs": [],
   "source": [
    "from keras.callbacks import ModelCheckpoint\n",
    "from keras.callbacks import EarlyStopping               # for getting the best accuracy in all epoches\n",
    "\n",
    "checkpoint= ModelCheckpoint(\"model_checkpoint.h5\",save_best_only=True)\n",
    "early_stopping = EarlyStopping( patience=200, restore_best_weights=True)"
   ]
  },
  {
   "cell_type": "code",
   "execution_count": 601,
   "metadata": {},
   "outputs": [],
   "source": [
    "training_history=model.fit(x_train,y_train,epochs=500,batch_size=500,verbose=0,validation_data=[x_test,y_test],callbacks=[checkpoint,early_stopping])"
   ]
  },
  {
   "cell_type": "code",
   "execution_count": 602,
   "metadata": {},
   "outputs": [
    {
     "data": {
      "image/png": "[encoded data removed]",
      "text/plain": [
       "<Figure size 432x288 with 1 Axes>"
      ]
     },
     "metadata": {
      "needs_background": "light"
     },
     "output_type": "display_data"
    },
    {
     "data": {
      "text/plain": [
       "dict_keys(['loss', 'accuracy', 'val_loss', 'val_accuracy'])"
      ]
     },
     "execution_count": 602,
     "metadata": {},
     "output_type": "execute_result"
    }
   ],
   "source": [
    "training_info=training_history.history\n",
    "plot_training(training_info)\n",
    "training_info.keys()"
   ]
  },
  {
   "cell_type": "markdown",
   "metadata": {},
   "source": [
    "we can see its highly prone to overfitting"
   ]
  },
  {
   "cell_type": "markdown",
   "metadata": {},
   "source": [
    "auc score"
   ]
  },
  {
   "cell_type": "code",
   "execution_count": 603,
   "metadata": {},
   "outputs": [
    {
     "name": "stdout",
     "output_type": "stream",
     "text": [
      "37/37 [==============================] - 0s 1ms/step\n"
     ]
    },
    {
     "data": {
      "text/plain": [
       "0.9935068706850769"
      ]
     },
     "execution_count": 603,
     "metadata": {},
     "output_type": "execute_result"
    }
   ],
   "source": [
    "predict=model.predict(x_test)\n",
    "auc_score=roc_auc_score(y_test,predict)\n",
    "auc_score"
   ]
  },
  {
   "cell_type": "markdown",
   "metadata": {},
   "source": [
    "now classifying by gradually adding features.Starting from 20 optical bands "
   ]
  },
  {
   "cell_type": "code",
   "execution_count": 610,
   "metadata": {},
   "outputs": [
    {
     "name": "stdout",
     "output_type": "stream",
     "text": [
      "37/37 [==============================] - 0s 1ms/step\n",
      "37/37 [==============================] - 0s 2ms/step\n",
      "37/37 [==============================] - 0s 2ms/step\n",
      "37/37 [==============================] - 0s 2ms/step\n"
     ]
    }
   ],
   "source": [
    "score_ann=[]\n",
    "predicted_class_ann=[]\n",
    "\n",
    "for i in (0,3,4,5):\n",
    "    if i==0: \n",
    "        k=3\n",
    "    else: \n",
    "        k=5\n",
    "\n",
    "    x_train_new=x_train.iloc[:,0:20+i]\n",
    "    x_test_new=x_test.iloc[:,0:20+i]\n",
    "    \n",
    "    \n",
    "    model=Sequential()\n",
    "    model.add(Dense(30,input_dim=x_train_new.shape[1],activation='relu'))\n",
    "    model.add(BatchNormalization())\n",
    "    for i in range(2):\n",
    "     model.add(Dense(30,activation='relu'))\n",
    "    model.add(Dropout(0.3))\n",
    "    model.add(Dense(1,activation=\"sigmoid\"))\n",
    "    model.compile(loss=\"binary_crossentropy\",optimizer= Adam(learning_rate=0.003),metrics=[\"accuracy\"])\n",
    "    \n",
    "    checkpoint= ModelCheckpoint(\"model_checkpoint.h5\",save_best_only=True)\n",
    "    early_stopping = EarlyStopping( patience=200, restore_best_weights=True)\n",
    "   \n",
    "    model.fit(x_train_new,y_train,epochs=500,batch_size=500,verbose=0,validation_data=[x_test_new,y_test],callbacks=[checkpoint,early_stopping])\n",
    "\n",
    "    predict=model.predict(x_test_new)\n",
    "    score_ann.append(roc_auc_score(y_test,predict))\n",
    "    predict=pd.DataFrame(predict,columns=['pred_class']) \n",
    "    predict.loc[predict[\"pred_class\"]<0.5, \"pred_class\"] = 0\n",
    "    predict.loc[predict[\"pred_class\"]>0.5, \"pred_class\"] = 1\n",
    "    predicted_class_ann.append(predict)"
   ]
  },
  {
   "cell_type": "code",
   "execution_count": 611,
   "metadata": {},
   "outputs": [
    {
     "data": {
      "text/plain": [
       "[0.9532121282527881, 0.9747037639405204, 0.982823287307488, 0.9917809014869888]"
      ]
     },
     "execution_count": 611,
     "metadata": {},
     "output_type": "execute_result"
    }
   ],
   "source": [
    "score_ann"
   ]
  },
  {
   "cell_type": "code",
   "execution_count": 378,
   "metadata": {},
   "outputs": [
    {
     "name": "stdout",
     "output_type": "stream",
     "text": [
      "37/37 [==============================] - 0s 2ms/step\n",
      "15/15 [==============================] - 0s 1ms/step\n",
      "46/46 [==============================] - 0s 1ms/step\n",
      "45/45 [==============================] - 0s 2ms/step\n",
      "150/150 [==============================] - 0s 1ms/step\n"
     ]
    }
   ],
   "source": [
    "score_814_ann=[]\n",
    "FPS_rate_ann=[]\n",
    "TPS_rate_ann=[]\n",
    "\n",
    "for i,j in zip([22.5,23,24,25,26],[0,22.5,23,24,0]):\n",
    "    \n",
    "    f5=f1.copy()\n",
    "    f5=f5[(f5['f814w']<=i)&(f5['f814w']>j)]\n",
    "\n",
    "    X=f5.drop([\"id\",'g/s','stellar_flag'],axis=1)\n",
    "    y=f5['g/s']\n",
    "    \n",
    "    x_train,x_test,y_train,y_test=train_test_split(X,y,test_size=0.15,random_state=1)\n",
    "    \n",
    "    model=ANN(no_of_neurons=25,no_of_layers=2,activation='relu',learning_rate=0.003,dropout=0.5)\n",
    "    \n",
    "    training_history=model.fit(x_train,y_train,epochs=500,batch_size=500,verbose=0,validation_data=[x_test,y_test],callbacks=[checkpoint,early_stopping])\n",
    "    \n",
    "    \n",
    "\n",
    "    predict=model.predict(x_test)\n",
    "    score_814_ann.append(roc_auc_score(y_test,predict))\n",
    "    false_positive_rate,true_positive_rate,thresholds= roc_curve(y_test,predict) \n",
    "    FPS_rate_ann.append(false_positive_rate)\n",
    "    TPS_rate_ann.append(true_positive_rate)"
   ]
  },
  {
   "cell_type": "code",
   "execution_count": 379,
   "metadata": {},
   "outputs": [
    {
     "data": {
      "image/png": "[encoded data removed]",
      "text/plain": [
       "<Figure size 432x288 with 1 Axes>"
      ]
     },
     "metadata": {
      "needs_background": "light"
     },
     "output_type": "display_data"
    }
   ],
   "source": [
    "result=pd.DataFrame({'F814':[\"F814<22.5\",\"22.5<F814<23\",\"23<F814<24\",\"24<F814<25\",\"F814<26\"],'AUC score':score_814_ann})\n",
    "plt.plot(FPS_rate_ann[0],TPS_rate_ann[0],color=\"black\",alpha=1,ls='dashed',label=\"F814<22.5\")\n",
    "plt.plot(FPS_rate_ann[1],TPS_rate_ann[1],color=\"purple\",alpha=1,ls='dashed',label=\"22.5<F814<23\")\n",
    "plt.plot(FPS_rate_ann[2],TPS_rate_ann[2],color=\"green\",alpha=1,ls='dashed',label=\"23<F814<24\")\n",
    "plt.plot(FPS_rate_ann[3],TPS_rate_ann[3],color=\"blue\",alpha=1,ls='dashed',label=\"24<F814<25\")\n",
    "plt.plot(FPS_rate_ann[4],TPS_rate_ann[4],color=\"red\",alpha=1,ls='dashed',label=\"F814<26\")\n",
    "plt.xlabel('False positive rate')\n",
    "plt.ylabel('True positive rate')\n",
    "\n",
    "plt.legend()\n",
    "plt.show()"
   ]
  },
  {
   "cell_type": "code",
   "execution_count": 380,
   "metadata": {},
   "outputs": [
    {
     "data": {
      "text/html": [
       "<div>\n",
       "<style scoped>\n",
       "    .dataframe tbody tr th:only-of-type {\n",
       "        vertical-align: middle;\n",
       "    }\n",
       "\n",
       "    .dataframe tbody tr th {\n",
       "        vertical-align: top;\n",
       "    }\n",
       "\n",
       "    .dataframe thead th {\n",
       "        text-align: right;\n",
       "    }\n",
       "</style>\n",
       "<table border=\"1\" class=\"dataframe\">\n",
       "  <thead>\n",
       "    <tr style=\"text-align: right;\">\n",
       "      <th></th>\n",
       "      <th>F814</th>\n",
       "      <th>AUC score</th>\n",
       "    </tr>\n",
       "  </thead>\n",
       "  <tbody>\n",
       "    <tr>\n",
       "      <th>0</th>\n",
       "      <td>F814&lt;22.5</td>\n",
       "      <td>0.994816</td>\n",
       "    </tr>\n",
       "    <tr>\n",
       "      <th>1</th>\n",
       "      <td>22.5&lt;F814&lt;23</td>\n",
       "      <td>0.925206</td>\n",
       "    </tr>\n",
       "    <tr>\n",
       "      <th>2</th>\n",
       "      <td>23&lt;F814&lt;24</td>\n",
       "      <td>0.797953</td>\n",
       "    </tr>\n",
       "    <tr>\n",
       "      <th>3</th>\n",
       "      <td>24&lt;F814&lt;25</td>\n",
       "      <td>0.842582</td>\n",
       "    </tr>\n",
       "    <tr>\n",
       "      <th>4</th>\n",
       "      <td>F814&lt;26</td>\n",
       "      <td>0.975812</td>\n",
       "    </tr>\n",
       "  </tbody>\n",
       "</table>\n",
       "</div>"
      ],
      "text/plain": [
       "           F814  AUC score\n",
       "0     F814<22.5   0.994816\n",
       "1  22.5<F814<23   0.925206\n",
       "2    23<F814<24   0.797953\n",
       "3    24<F814<25   0.842582\n",
       "4       F814<26   0.975812"
      ]
     },
     "execution_count": 380,
     "metadata": {},
     "output_type": "execute_result"
    }
   ],
   "source": [
    "result"
   ]
  },
  {
   "cell_type": "markdown",
   "metadata": {},
   "source": [
    "# RANDOMFOREST"
   ]
  },
  {
   "cell_type": "code",
   "execution_count": 381,
   "metadata": {},
   "outputs": [],
   "source": [
    "from sklearn.ensemble import RandomForestClassifier"
   ]
  },
  {
   "cell_type": "code",
   "execution_count": 46,
   "metadata": {},
   "outputs": [
    {
     "data": {
      "image/png": "[encoded data removed]",
      "text/plain": [
       "<Figure size 432x288 with 1 Axes>"
      ]
     },
     "metadata": {
      "needs_background": "light"
     },
     "output_type": "display_data"
    }
   ],
   "source": [
    "n_estimators=[50,100,150,200,250]      # getting best no. of trees \n",
    "test_area=[]\n",
    "for estimator in n_estimators:\n",
    "    rf=RandomForestClassifier(n_estimators=estimator,n_jobs=-1)\n",
    "    rf.fit(x_train,y_train)\n",
    "    predict=rf.predict(x_test)\n",
    "    roc_auc=roc_auc_score(y_test,predict)\n",
    "    test_area.append(roc_auc)\n",
    "\n",
    "from matplotlib.legend_handler import HandlerLine2D\n",
    "line=plt.plot(n_estimators,test_area)\n",
    "plt.ylabel(\"AUC score\")\n",
    "plt.xlabel(\"n_estimators\")\n",
    "plt.show()\n"
   ]
  },
  {
   "cell_type": "code",
   "execution_count": 51,
   "metadata": {},
   "outputs": [
    {
     "name": "stdout",
     "output_type": "stream",
     "text": [
      "{'min_samples_split': 2, 'n_estimators': 200}\n"
     ]
    }
   ],
   "source": [
    "param_grid={\n",
    "    'n_estimators':[50,100,200],\n",
    "    'min_samples_split':[2,4]\n",
    "}\n",
    "\n",
    "cv=GridSearchCV(estimator=RandomForestClassifier(),param_grid=param_grid,cv=5,n_jobs=-1)\n",
    "cv.fit(x_train,y_train)\n",
    "print(cv.best_params_)"
   ]
  },
  {
   "cell_type": "code",
   "execution_count": 387,
   "metadata": {},
   "outputs": [],
   "source": [
    "rf=RandomForestClassifier(n_estimators=200,min_samples_split=2,n_jobs=-1)\n",
    "rf.fit(x_train,y_train)\n",
    "predict=rf.predict_proba(x_test)"
   ]
  },
  {
   "cell_type": "code",
   "execution_count": 388,
   "metadata": {},
   "outputs": [],
   "source": [
    "predict=pd.DataFrame(data=predict)\n",
    "predict=predict[1].values"
   ]
  },
  {
   "cell_type": "markdown",
   "metadata": {},
   "source": [
    "auc score"
   ]
  },
  {
   "cell_type": "code",
   "execution_count": 389,
   "metadata": {},
   "outputs": [
    {
     "data": {
      "text/plain": [
       "0.9902229653478493"
      ]
     },
     "execution_count": 389,
     "metadata": {},
     "output_type": "execute_result"
    }
   ],
   "source": [
    "auc_score=roc_auc_score(y_test,predict)\n",
    "auc_score"
   ]
  },
  {
   "cell_type": "markdown",
   "metadata": {},
   "source": [
    "running while gradually adding features"
   ]
  },
  {
   "cell_type": "code",
   "execution_count": 390,
   "metadata": {},
   "outputs": [],
   "source": [
    "score_rf=[]\n",
    "predicted_class_rf=[]\n",
    "\n",
    "for i in (0,3,4,5):\n",
    "    if i==0: \n",
    "        k=3\n",
    "    else: \n",
    "        k=5\n",
    "\n",
    "    x_train_new=x_train.iloc[:,0:20+i]\n",
    "    x_test_new=x_test.iloc[:,0:20+i]\n",
    "    \n",
    "    \n",
    "    rf=RandomForestClassifier(n_estimators=150+10*i,min_samples_split=2,n_jobs=-1)\n",
    "    rf.fit(x_train_new,y_train)\n",
    "    predict=rf.predict_proba(x_test_new)\n",
    "    predict=pd.DataFrame(data=predict)\n",
    "    predict=predict[1].values\n",
    "   \n",
    "\n",
    "    score_rf.append(roc_auc_score(y_test,predict))\n",
    "    predict=pd.DataFrame(predict,columns=['pred_class']) \n",
    "    predict.loc[predict[\"pred_class\"]<0.5, \"pred_class\"] = 0\n",
    "    predict.loc[predict[\"pred_class\"]>0.5, \"pred_class\"] = 1\n",
    "    predicted_class_rf.append(predict)"
   ]
  },
  {
   "cell_type": "code",
   "execution_count": 391,
   "metadata": {},
   "outputs": [
    {
     "data": {
      "text/plain": [
       "[0.9572656664896442, 0.980848380244291, 0.9806492299522038, 0.992963356346256]"
      ]
     },
     "execution_count": 391,
     "metadata": {},
     "output_type": "execute_result"
    }
   ],
   "source": [
    "score_rf"
   ]
  },
  {
   "cell_type": "code",
   "execution_count": 392,
   "metadata": {},
   "outputs": [],
   "source": [
    "score_814_rf=[]\n",
    "FPS_rate_rf=[]\n",
    "TPS_rate_rf=[]\n",
    "\n",
    "for i,j in zip([22.5,23,24,25,26],[0,22.5,23,24,0]):\n",
    "    \n",
    "    f5=f1.copy()\n",
    "    f5=f5[(f5['f814w']<=i)&(f5['f814w']>j)]\n",
    "\n",
    "    X=f5.drop([\"id\",'g/s','stellar_flag'],axis=1)\n",
    "    y=f5['g/s']\n",
    "    \n",
    "    x_train,x_test,y_train,y_test=train_test_split(X,y,test_size=0.15,random_state=1)\n",
    "\n",
    "    rf=RandomForestClassifier(min_samples_split=2,n_jobs=-1)\n",
    "    rf.fit(x_train,y_train)\n",
    "    predict=rf.predict_proba(x_test)\n",
    "    predict=pd.DataFrame(data=predict)\n",
    "    predict=predict[1].values\n",
    "    \n",
    "    score_814_rf.append(roc_auc_score(y_test,predict))\n",
    "    false_positive_rate,true_positive_rate,thresholds= roc_curve(y_test,predict) \n",
    "    FPS_rate_rf.append(false_positive_rate)\n",
    "    TPS_rate_rf.append(true_positive_rate)"
   ]
  },
  {
   "cell_type": "code",
   "execution_count": 393,
   "metadata": {},
   "outputs": [
    {
     "data": {
      "image/png": "[encoded data removed]",
      "text/plain": [
       "<Figure size 432x288 with 1 Axes>"
      ]
     },
     "metadata": {
      "needs_background": "light"
     },
     "output_type": "display_data"
    }
   ],
   "source": [
    "result=pd.DataFrame({'F814':[\"F814<22.5\",\"22.5<F814<23\",\"23<F814<24\",\"24<F814<25\",\"F814<26\"],'AUC score':score_814_rf})\n",
    "plt.plot(FPS_rate_rf[0],TPS_rate_rf[0],color=\"black\",alpha=1,ls='dashed',label=\"F814<22.5\")\n",
    "plt.plot(FPS_rate_rf[1],TPS_rate_rf[1],color=\"purple\",alpha=1,ls='dashed',label=\"22.5<F814<23\")\n",
    "plt.plot(FPS_rate_rf[2],TPS_rate_rf[2],color=\"green\",alpha=1,ls='dashed',label=\"23<F814<24\")\n",
    "plt.plot(FPS_rate_rf[3],TPS_rate_rf[3],color=\"blue\",alpha=1,ls='dashed',label=\"24<F814<25\")\n",
    "plt.plot(FPS_rate_rf[4],TPS_rate_rf[4],color=\"red\",alpha=1,ls='dashed',label=\"F814<26\")\n",
    "plt.xlabel('False positive rate')\n",
    "plt.ylabel('True positive rate')\n",
    "\n",
    "plt.legend()\n",
    "plt.show()"
   ]
  },
  {
   "cell_type": "code",
   "execution_count": 394,
   "metadata": {},
   "outputs": [
    {
     "data": {
      "text/html": [
       "<div>\n",
       "<style scoped>\n",
       "    .dataframe tbody tr th:only-of-type {\n",
       "        vertical-align: middle;\n",
       "    }\n",
       "\n",
       "    .dataframe tbody tr th {\n",
       "        vertical-align: top;\n",
       "    }\n",
       "\n",
       "    .dataframe thead th {\n",
       "        text-align: right;\n",
       "    }\n",
       "</style>\n",
       "<table border=\"1\" class=\"dataframe\">\n",
       "  <thead>\n",
       "    <tr style=\"text-align: right;\">\n",
       "      <th></th>\n",
       "      <th>F814</th>\n",
       "      <th>AUC score</th>\n",
       "    </tr>\n",
       "  </thead>\n",
       "  <tbody>\n",
       "    <tr>\n",
       "      <th>0</th>\n",
       "      <td>F814&lt;22.5</td>\n",
       "      <td>0.992316</td>\n",
       "    </tr>\n",
       "    <tr>\n",
       "      <th>1</th>\n",
       "      <td>22.5&lt;F814&lt;23</td>\n",
       "      <td>0.907824</td>\n",
       "    </tr>\n",
       "    <tr>\n",
       "      <th>2</th>\n",
       "      <td>23&lt;F814&lt;24</td>\n",
       "      <td>0.881747</td>\n",
       "    </tr>\n",
       "    <tr>\n",
       "      <th>3</th>\n",
       "      <td>24&lt;F814&lt;25</td>\n",
       "      <td>0.708132</td>\n",
       "    </tr>\n",
       "    <tr>\n",
       "      <th>4</th>\n",
       "      <td>F814&lt;26</td>\n",
       "      <td>0.967374</td>\n",
       "    </tr>\n",
       "  </tbody>\n",
       "</table>\n",
       "</div>"
      ],
      "text/plain": [
       "           F814  AUC score\n",
       "0     F814<22.5   0.992316\n",
       "1  22.5<F814<23   0.907824\n",
       "2    23<F814<24   0.881747\n",
       "3    24<F814<25   0.708132\n",
       "4       F814<26   0.967374"
      ]
     },
     "execution_count": 394,
     "metadata": {},
     "output_type": "execute_result"
    }
   ],
   "source": [
    "result"
   ]
  },
  {
   "cell_type": "code",
   "execution_count": 395,
   "metadata": {},
   "outputs": [
    {
     "data": {
      "image/png": "[encoded data removed]",
      "text/plain": [
       "<Figure size 432x288 with 1 Axes>"
      ]
     },
     "metadata": {
      "needs_background": "light"
     },
     "output_type": "display_data"
    }
   ],
   "source": [
    "X=f1.drop([\"id\",'g/s','stellar_flag'],axis=1)\n",
    "y=f1['g/s']\n",
    "x_train,x_test,y_train,y_test=train_test_split(X,y,test_size=0.15,random_state=1)\n",
    "\n",
    "rf=RandomForestClassifier(min_samples_split=2,n_jobs=-1).fit(x_train,y_train)\n",
    "feature_importances = pd.DataFrame(rf.feature_importances_, index =x_train.columns,  columns=['importance']).sort_values('importance', ascending=False)\n",
    "feature_importances.plot.bar()    # plotting ranking based on their importance   \n",
    "plt.show()"
   ]
  },
  {
   "cell_type": "markdown",
   "metadata": {},
   "source": [
    "# CNN"
   ]
  },
  {
   "cell_type": "code",
   "execution_count": 398,
   "metadata": {},
   "outputs": [],
   "source": [
    "from keras.layers import Convolution2D\n",
    "from keras.layers import MaxPool2D\n",
    "from keras.layers import Flatten\n",
    "from keras.layers import Dense, Activation,Dropout\n",
    "from keras.wrappers.scikit_learn import KerasClassifier\n",
    "from keras.models import Sequential\n",
    "from sklearn.preprocessing import MinMaxScaler\n",
    "from keras.optimizers import Adam\n",
    "from sklearn.metrics import accuracy_score\n",
    "from keras.layers import BatchNormalization\n",
    "from sklearn.model_selection import GridSearchCV\n",
    "from sklearn.metrics import roc_auc_score\n",
    "from sklearn.metrics import roc_curve\n",
    "from sklearn.metrics import auc\n"
   ]
  },
  {
   "cell_type": "code",
   "execution_count": 499,
   "metadata": {},
   "outputs": [],
   "source": [
    "X=f2.drop([\"id\",'g/s','stellar_flag'],axis=1).values\n",
    "y=f2['g/s'].values"
   ]
  },
  {
   "cell_type": "code",
   "execution_count": 502,
   "metadata": {},
   "outputs": [],
   "source": [
    "X=MinMaxScaler(feature_range=(0,255)).fit_transform(X)\n",
    "x_train,x_test,y_train,y_test=train_test_split(X,y,test_size=0.15,random_state=1)"
   ]
  },
  {
   "cell_type": "code",
   "execution_count": 503,
   "metadata": {},
   "outputs": [
    {
     "data": {
      "text/plain": [
       "(1165, 25)"
      ]
     },
     "execution_count": 503,
     "metadata": {},
     "output_type": "execute_result"
    }
   ],
   "source": [
    "x_test.shape"
   ]
  },
  {
   "cell_type": "code",
   "execution_count": 504,
   "metadata": {},
   "outputs": [
    {
     "data": {
      "text/plain": [
       "(6598, 25)"
      ]
     },
     "execution_count": 504,
     "metadata": {},
     "output_type": "execute_result"
    }
   ],
   "source": [
    "x_train.shape"
   ]
  },
  {
   "cell_type": "code",
   "execution_count": 505,
   "metadata": {},
   "outputs": [],
   "source": [
    "trainX = x_train.reshape(6598,25,1)           \n",
    "x_train = trainX / 255.0\n",
    "testX = x_test.reshape(1165,25,1)\n",
    "x_test = testX / 255.0"
   ]
  },
  {
   "cell_type": "code",
   "execution_count": 478,
   "metadata": {},
   "outputs": [],
   "source": [
    "model=Sequential()\n",
    "model.add(Convolution2D(16,kernel_size=(5, 1), input_shape=(25,1,1),activation= 'LeakyReLU' ))\n",
    "model.add(MaxPool2D(pool_size=(3,1)))\n",
    "model.add(Convolution2D(32,kernel_size=(3, 1),activation= 'LeakyReLU' ))\n",
    "model.add(MaxPool2D(pool_size=(2,1)))\n",
    "model.add(Convolution2D(64,kernel_size=(2, 1),activation= 'LeakyReLU' ))\n",
    "model.add(MaxPool2D(pool_size=(1,1)))\n",
    "model.add(Dropout(0.3))\n",
    "model.add(Flatten())\n",
    "model.add(Dense(1,activation=\"sigmoid\"))\n",
    "model.compile(loss=\"binary_crossentropy\",optimizer= Adam(learning_rate=0.03),metrics=[\"accuracy\"])\n"
   ]
  },
  {
   "cell_type": "code",
   "execution_count": 479,
   "metadata": {},
   "outputs": [],
   "source": [
    "from keras.callbacks import ModelCheckpoint\n",
    "from keras.callbacks import EarlyStopping\n",
    "\n",
    "checkpoint= ModelCheckpoint(\"model_checkpoint.h5\",save_best_only=True)\n",
    "early_stopping = EarlyStopping( patience=250, restore_best_weights=True)"
   ]
  },
  {
   "cell_type": "code",
   "execution_count": 480,
   "metadata": {},
   "outputs": [],
   "source": [
    "training_history=model.fit(x_train,y_train,epochs=1000,batch_size=500,verbose=0,validation_data=[x_test,y_test],callbacks=[checkpoint,early_stopping])"
   ]
  },
  {
   "cell_type": "code",
   "execution_count": 481,
   "metadata": {},
   "outputs": [
    {
     "data": {
      "image/png": "[encoded data removed]",
      "text/plain": [
       "<Figure size 432x288 with 1 Axes>"
      ]
     },
     "metadata": {
      "needs_background": "light"
     },
     "output_type": "display_data"
    },
    {
     "data": {
      "text/plain": [
       "dict_keys(['loss', 'accuracy', 'val_loss', 'val_accuracy'])"
      ]
     },
     "execution_count": 481,
     "metadata": {},
     "output_type": "execute_result"
    }
   ],
   "source": [
    "training_info=training_history.history\n",
    "plot_training(training_info)\n",
    "training_info.keys()"
   ]
  },
  {
   "cell_type": "code",
   "execution_count": 482,
   "metadata": {},
   "outputs": [
    {
     "name": "stdout",
     "output_type": "stream",
     "text": [
      "37/37 [==============================] - 0s 1ms/step\n"
     ]
    }
   ],
   "source": [
    "predict=model.predict(x_test)"
   ]
  },
  {
   "cell_type": "markdown",
   "metadata": {},
   "source": [
    "auc score"
   ]
  },
  {
   "cell_type": "code",
   "execution_count": 483,
   "metadata": {},
   "outputs": [
    {
     "data": {
      "text/plain": [
       "0.9889513077535846"
      ]
     },
     "execution_count": 483,
     "metadata": {},
     "output_type": "execute_result"
    }
   ],
   "source": [
    "auc_score=roc_auc_score(y_test,predict)\n",
    "auc_score"
   ]
  },
  {
   "cell_type": "code",
   "execution_count": 484,
   "metadata": {},
   "outputs": [],
   "source": [
    "predict=pd.DataFrame(predict,columns=['pred_class'])\n",
    "\n",
    "predict.loc[predict[\"pred_class\"]<0.5, \"pred_class\"] = 0\n",
    "predict.loc[predict[\"pred_class\"]>0.5, \"pred_class\"] = 1"
   ]
  },
  {
   "cell_type": "markdown",
   "metadata": {},
   "source": [
    "# Ada Boost"
   ]
  },
  {
   "cell_type": "code",
   "execution_count": 433,
   "metadata": {},
   "outputs": [],
   "source": [
    "from sklearn.ensemble import AdaBoostClassifier\n",
    "from sklearn.model_selection import GridSearchCV\n",
    "from sklearn.tree import ExtraTreeClassifier\n",
    "from sklearn.tree import DecisionTreeClassifier"
   ]
  },
  {
   "cell_type": "code",
   "execution_count": 446,
   "metadata": {},
   "outputs": [],
   "source": [
    "X=f2.drop([\"id\",'g/s','stellar_flag'],axis=1)\n",
    "y=f2['g/s']"
   ]
  },
  {
   "cell_type": "code",
   "execution_count": 447,
   "metadata": {},
   "outputs": [],
   "source": [
    "x_train,x_test,y_train,y_test=train_test_split(X,y,test_size=0.15,random_state=1)"
   ]
  },
  {
   "cell_type": "code",
   "execution_count": 437,
   "metadata": {},
   "outputs": [
    {
     "name": "stdout",
     "output_type": "stream",
     "text": [
      "{'base_estimator': DecisionTreeClassifier(max_depth=4), 'n_estimators': 100}\n"
     ]
    }
   ],
   "source": [
    "param_grid={\n",
    "    'n_estimators':[10,50,100],\n",
    "    'base_estimator':[DecisionTreeClassifier(max_depth=1),DecisionTreeClassifier(max_depth=2),DecisionTreeClassifier(max_depth=4)]\n",
    "}\n",
    "CV_etr = GridSearchCV(estimator=AdaBoostClassifier(), param_grid=param_grid, cv=5,n_jobs=-1)\n",
    "CV_etr.fit(x_train, y_train)\n",
    "print(CV_etr.best_params_)"
   ]
  },
  {
   "cell_type": "code",
   "execution_count": 438,
   "metadata": {},
   "outputs": [
    {
     "data": {
      "text/html": [
       "<style>#sk-container-id-1 {color: black;background-color: white;}#sk-container-id-1 pre{padding: 0;}#sk-container-id-1 div.sk-toggleable {background-color: white;}#sk-container-id-1 label.sk-toggleable__label {cursor: pointer;display: block;width: 100%;margin-bottom: 0;padding: 0.3em;box-sizing: border-box;text-align: center;}#sk-container-id-1 label.sk-toggleable__label-arrow:before {content: \"▸\";float: left;margin-right: 0.25em;color: #696969;}#sk-container-id-1 label.sk-toggleable__label-arrow:hover:before {color: black;}#sk-container-id-1 div.sk-estimator:hover label.sk-toggleable__label-arrow:before {color: black;}#sk-container-id-1 div.sk-toggleable__content {max-height: 0;max-width: 0;overflow: hidden;text-align: left;background-color: #f0f8ff;}#sk-container-id-1 div.sk-toggleable__content pre {margin: 0.2em;color: black;border-radius: 0.25em;background-color: #f0f8ff;}#sk-container-id-1 input.sk-toggleable__control:checked~div.sk-toggleable__content {max-height: 200px;max-width: 100%;overflow: auto;}#sk-container-id-1 input.sk-toggleable__control:checked~label.sk-toggleable__label-arrow:before {content: \"▾\";}#sk-container-id-1 div.sk-estimator input.sk-toggleable__control:checked~label.sk-toggleable__label {background-color: #d4ebff;}#sk-container-id-1 div.sk-label input.sk-toggleable__control:checked~label.sk-toggleable__label {background-color: #d4ebff;}#sk-container-id-1 input.sk-hidden--visually {border: 0;clip: rect(1px 1px 1px 1px);clip: rect(1px, 1px, 1px, 1px);height: 1px;margin: -1px;overflow: hidden;padding: 0;position: absolute;width: 1px;}#sk-container-id-1 div.sk-estimator {font-family: monospace;background-color: #f0f8ff;border: 1px dotted black;border-radius: 0.25em;box-sizing: border-box;margin-bottom: 0.5em;}#sk-container-id-1 div.sk-estimator:hover {background-color: #d4ebff;}#sk-container-id-1 div.sk-parallel-item::after {content: \"\";width: 100%;border-bottom: 1px solid gray;flex-grow: 1;}#sk-container-id-1 div.sk-label:hover label.sk-toggleable__label {background-color: #d4ebff;}#sk-container-id-1 div.sk-serial::before {content: \"\";position: absolute;border-left: 1px solid gray;box-sizing: border-box;top: 0;bottom: 0;left: 50%;z-index: 0;}#sk-container-id-1 div.sk-serial {display: flex;flex-direction: column;align-items: center;background-color: white;padding-right: 0.2em;padding-left: 0.2em;position: relative;}#sk-container-id-1 div.sk-item {position: relative;z-index: 1;}#sk-container-id-1 div.sk-parallel {display: flex;align-items: stretch;justify-content: center;background-color: white;position: relative;}#sk-container-id-1 div.sk-item::before, #sk-container-id-1 div.sk-parallel-item::before {content: \"\";position: absolute;border-left: 1px solid gray;box-sizing: border-box;top: 0;bottom: 0;left: 50%;z-index: -1;}#sk-container-id-1 div.sk-parallel-item {display: flex;flex-direction: column;z-index: 1;position: relative;background-color: white;}#sk-container-id-1 div.sk-parallel-item:first-child::after {align-self: flex-end;width: 50%;}#sk-container-id-1 div.sk-parallel-item:last-child::after {align-self: flex-start;width: 50%;}#sk-container-id-1 div.sk-parallel-item:only-child::after {width: 0;}#sk-container-id-1 div.sk-dashed-wrapped {border: 1px dashed gray;margin: 0 0.4em 0.5em 0.4em;box-sizing: border-box;padding-bottom: 0.4em;background-color: white;}#sk-container-id-1 div.sk-label label {font-family: monospace;font-weight: bold;display: inline-block;line-height: 1.2em;}#sk-container-id-1 div.sk-label-container {text-align: center;}#sk-container-id-1 div.sk-container {/* jupyter's `normalize.less` sets `[hidden] { display: none; }` but bootstrap.min.css set `[hidden] { display: none !important; }` so we also need the `!important` here to be able to override the default hidden behavior on the sphinx rendered scikit-learn.org. See: https://github.com/scikit-learn/scikit-learn/issues/21755 */display: inline-block !important;position: relative;}#sk-container-id-1 div.sk-text-repr-fallback {display: none;}</style><div id=\"sk-container-id-1\" class=\"sk-top-container\"><div class=\"sk-text-repr-fallback\"><pre>AdaBoostClassifier(base_estimator=DecisionTreeClassifier(max_depth=4),\n",
       "                   n_estimators=100)</pre><b>In a Jupyter environment, please rerun this cell to show the HTML representation or trust the notebook. <br />On GitHub, the HTML representation is unable to render, please try loading this page with nbviewer.org.</b></div><div class=\"sk-container\" hidden><div class=\"sk-item sk-dashed-wrapped\"><div class=\"sk-label-container\"><div class=\"sk-label sk-toggleable\"><input class=\"sk-toggleable__control sk-hidden--visually\" id=\"sk-estimator-id-1\" type=\"checkbox\" ><label for=\"sk-estimator-id-1\" class=\"sk-toggleable__label sk-toggleable__label-arrow\">AdaBoostClassifier</label><div class=\"sk-toggleable__content\"><pre>AdaBoostClassifier(base_estimator=DecisionTreeClassifier(max_depth=4),\n",
       "                   n_estimators=100)</pre></div></div></div><div class=\"sk-parallel\"><div class=\"sk-parallel-item\"><div class=\"sk-item\"><div class=\"sk-label-container\"><div class=\"sk-label sk-toggleable\"><input class=\"sk-toggleable__control sk-hidden--visually\" id=\"sk-estimator-id-2\" type=\"checkbox\" ><label for=\"sk-estimator-id-2\" class=\"sk-toggleable__label sk-toggleable__label-arrow\">base_estimator: DecisionTreeClassifier</label><div class=\"sk-toggleable__content\"><pre>DecisionTreeClassifier(max_depth=4)</pre></div></div></div><div class=\"sk-serial\"><div class=\"sk-item\"><div class=\"sk-estimator sk-toggleable\"><input class=\"sk-toggleable__control sk-hidden--visually\" id=\"sk-estimator-id-3\" type=\"checkbox\" ><label for=\"sk-estimator-id-3\" class=\"sk-toggleable__label sk-toggleable__label-arrow\">DecisionTreeClassifier</label><div class=\"sk-toggleable__content\"><pre>DecisionTreeClassifier(max_depth=4)</pre></div></div></div></div></div></div></div></div></div></div>"
      ],
      "text/plain": [
       "AdaBoostClassifier(base_estimator=DecisionTreeClassifier(max_depth=4),\n",
       "                   n_estimators=100)"
      ]
     },
     "execution_count": 438,
     "metadata": {},
     "output_type": "execute_result"
    }
   ],
   "source": [
    "ada=AdaBoostClassifier(n_estimators=100,base_estimator=(DecisionTreeClassifier(max_depth=4)) )\n",
    "ada.fit(x_train,y_train)"
   ]
  },
  {
   "cell_type": "code",
   "execution_count": 439,
   "metadata": {},
   "outputs": [],
   "source": [
    "predict=ada.predict_proba(x_test)"
   ]
  },
  {
   "cell_type": "code",
   "execution_count": 440,
   "metadata": {},
   "outputs": [],
   "source": [
    "predict=pd.DataFrame(data=predict)\n",
    "predict=predict[1].values"
   ]
  },
  {
   "cell_type": "markdown",
   "metadata": {},
   "source": [
    "auc"
   ]
  },
  {
   "cell_type": "code",
   "execution_count": 441,
   "metadata": {},
   "outputs": [
    {
     "data": {
      "text/plain": [
       "0.9927476101964949"
      ]
     },
     "execution_count": 441,
     "metadata": {},
     "output_type": "execute_result"
    }
   ],
   "source": [
    "auc_score=roc_auc_score(y_test,predict)\n",
    "auc_score"
   ]
  },
  {
   "cell_type": "markdown",
   "metadata": {},
   "source": [
    "running while adding features"
   ]
  },
  {
   "cell_type": "code",
   "execution_count": 444,
   "metadata": {},
   "outputs": [],
   "source": [
    "score_ada=[]\n",
    "predicted_class_ada=[]\n",
    "\n",
    "for i in (0,3,4,5):\n",
    "    if i==0: \n",
    "        k=3\n",
    "    else: \n",
    "        k=5\n",
    "\n",
    "    x_train_new=x_train.iloc[:,0:20+i]\n",
    "    x_test_new=x_test.iloc[:,0:20+i]\n",
    "    \n",
    "    \n",
    "    ada=AdaBoostClassifier(n_estimators=50+10*i,base_estimator=(DecisionTreeClassifier(max_depth=4)) )\n",
    "    ada.fit(x_train_new,y_train)\n",
    "\n",
    "    predict=ada.predict_proba(x_test_new)\n",
    "   \n",
    "    predict=pd.DataFrame(data=predict)\n",
    "    predict=predict[1].values\n",
    "\n",
    "    score_ada.append(roc_auc_score(y_test,predict))\n",
    "    predict=pd.DataFrame(predict,columns=['pred_class']) \n",
    "    predict.loc[predict[\"pred_class\"]<0.5, \"pred_class\"] = 0\n",
    "    predict.loc[predict[\"pred_class\"]>0.5, \"pred_class\"] = 1\n",
    "    predicted_class_ada.append(predict)"
   ]
  },
  {
   "cell_type": "code",
   "execution_count": 445,
   "metadata": {},
   "outputs": [
    {
     "data": {
      "text/plain": [
       "[0.9179106644981415, 0.9662481744556559, 0.9699075610727562, 0.993386550716941]"
      ]
     },
     "execution_count": 445,
     "metadata": {},
     "output_type": "execute_result"
    }
   ],
   "source": [
    "score_ada"
   ]
  },
  {
   "cell_type": "code",
   "execution_count": 448,
   "metadata": {},
   "outputs": [],
   "source": [
    "score_814_ada=[]\n",
    "FPS_rate_ada=[]\n",
    "TPS_rate_ada=[]\n",
    "\n",
    "for i,j in zip([22.5,23,24,25,26],[0,22.5,23,24,0]):\n",
    "    \n",
    "    f5=f1.copy()\n",
    "    f5=f5[(f5['f814w']<=i)&(f5['f814w']>j)]\n",
    "\n",
    "    X=f5.drop([\"id\",'g/s','stellar_flag'],axis=1)\n",
    "    y=f5['g/s']\n",
    "    \n",
    "    x_train,x_test,y_train,y_test=train_test_split(X,y,test_size=0.15,random_state=1)\n",
    "\n",
    "    ada=AdaBoostClassifier(base_estimator=(DecisionTreeClassifier(max_depth=4)))\n",
    "    ada.fit(x_train,y_train)\n",
    "   \n",
    "    predict=ada.predict_proba(x_test)\n",
    "    predict=pd.DataFrame(data=predict)\n",
    "    predict=predict[1].values\n",
    "    \n",
    "    score_814_ada.append(roc_auc_score(y_test,predict))\n",
    "    false_positive_rate,true_positive_rate,thresholds= roc_curve(y_test,predict) \n",
    "    FPS_rate_ada.append(false_positive_rate)\n",
    "    TPS_rate_ada.append(true_positive_rate)"
   ]
  },
  {
   "cell_type": "code",
   "execution_count": 449,
   "metadata": {},
   "outputs": [
    {
     "data": {
      "image/png": "[encoded data removed]",
      "text/plain": [
       "<Figure size 432x288 with 1 Axes>"
      ]
     },
     "metadata": {
      "needs_background": "light"
     },
     "output_type": "display_data"
    }
   ],
   "source": [
    "result=pd.DataFrame({'F814':[\"F814<22.5\",\"22.5<F814<23\",\"23<F814<24\",\"24<F814<25\",\"F814<26\"],'AUC score':score_814_ada})\n",
    "plt.plot(FPS_rate_ada[0],TPS_rate_ada[0],color=\"black\",alpha=1,ls='dashed',label=\"F814<22.5\")\n",
    "plt.plot(FPS_rate_ada[1],TPS_rate_ada[1],color=\"purple\",alpha=1,ls='dashed',label=\"22.5<F814<23\")\n",
    "plt.plot(FPS_rate_ada[2],TPS_rate_ada[2],color=\"green\",alpha=1,ls='dashed',label=\"23<F814<24\")\n",
    "plt.plot(FPS_rate_ada[3],TPS_rate_ada[3],color=\"blue\",alpha=1,ls='dashed',label=\"24<F814<25\")\n",
    "plt.plot(FPS_rate_ada[4],TPS_rate_ada[4],color=\"red\",alpha=1,ls='dashed',label=\"F814<26\")\n",
    "plt.xlabel('False positive rate')\n",
    "plt.ylabel('True positive rate')\n",
    "\n",
    "plt.legend()\n",
    "plt.show()"
   ]
  },
  {
   "cell_type": "code",
   "execution_count": 450,
   "metadata": {},
   "outputs": [
    {
     "data": {
      "text/html": [
       "<div>\n",
       "<style scoped>\n",
       "    .dataframe tbody tr th:only-of-type {\n",
       "        vertical-align: middle;\n",
       "    }\n",
       "\n",
       "    .dataframe tbody tr th {\n",
       "        vertical-align: top;\n",
       "    }\n",
       "\n",
       "    .dataframe thead th {\n",
       "        text-align: right;\n",
       "    }\n",
       "</style>\n",
       "<table border=\"1\" class=\"dataframe\">\n",
       "  <thead>\n",
       "    <tr style=\"text-align: right;\">\n",
       "      <th></th>\n",
       "      <th>F814</th>\n",
       "      <th>AUC score</th>\n",
       "    </tr>\n",
       "  </thead>\n",
       "  <tbody>\n",
       "    <tr>\n",
       "      <th>0</th>\n",
       "      <td>F814&lt;22.5</td>\n",
       "      <td>0.989036</td>\n",
       "    </tr>\n",
       "    <tr>\n",
       "      <th>1</th>\n",
       "      <td>22.5&lt;F814&lt;23</td>\n",
       "      <td>0.903946</td>\n",
       "    </tr>\n",
       "    <tr>\n",
       "      <th>2</th>\n",
       "      <td>23&lt;F814&lt;24</td>\n",
       "      <td>0.725868</td>\n",
       "    </tr>\n",
       "    <tr>\n",
       "      <th>3</th>\n",
       "      <td>24&lt;F814&lt;25</td>\n",
       "      <td>0.561868</td>\n",
       "    </tr>\n",
       "    <tr>\n",
       "      <th>4</th>\n",
       "      <td>F814&lt;26</td>\n",
       "      <td>0.929579</td>\n",
       "    </tr>\n",
       "  </tbody>\n",
       "</table>\n",
       "</div>"
      ],
      "text/plain": [
       "           F814  AUC score\n",
       "0     F814<22.5   0.989036\n",
       "1  22.5<F814<23   0.903946\n",
       "2    23<F814<24   0.725868\n",
       "3    24<F814<25   0.561868\n",
       "4       F814<26   0.929579"
      ]
     },
     "execution_count": 450,
     "metadata": {},
     "output_type": "execute_result"
    }
   ],
   "source": [
    "result"
   ]
  },
  {
   "cell_type": "code",
   "execution_count": 451,
   "metadata": {},
   "outputs": [
    {
     "data": {
      "image/png": "[encoded data removed]",
      "text/plain": [
       "<Figure size 432x288 with 1 Axes>"
      ]
     },
     "metadata": {
      "needs_background": "light"
     },
     "output_type": "display_data"
    }
   ],
   "source": [
    "X=f1.drop([\"id\",'g/s','stellar_flag'],axis=1)\n",
    "y=f1['g/s']\n",
    "x_train,x_test,y_train,y_test=train_test_split(X,y,test_size=0.15,random_state=1)\n",
    "\n",
    "ada=AdaBoostClassifier(n_estimators=100,base_estimator=(DecisionTreeClassifier(max_depth=4))).fit(x_train,y_train)\n",
    "feature_importances = pd.DataFrame(ada.feature_importances_, index =x_train.columns,  columns=['importance']).sort_values('importance', ascending=False)\n",
    "feature_importances.plot.bar()    # plotting ranking based on their importance   \n",
    "plt.show()"
   ]
  },
  {
   "cell_type": "markdown",
   "metadata": {},
   "source": [
    "# correlation heatmap and feature reduction"
   ]
  },
  {
   "cell_type": "code",
   "execution_count": 15,
   "metadata": {},
   "outputs": [
    {
     "data": {
      "text/plain": [
       "<AxesSubplot:>"
      ]
     },
     "execution_count": 15,
     "metadata": {},
     "output_type": "execute_result"
    },
    {
     "data": {
      "image/png": "[encoded data removed]",
      "text/plain": [
       "<Figure size 1440x720 with 2 Axes>"
      ]
     },
     "metadata": {
      "needs_background": "light"
     },
     "output_type": "display_data"
    }
   ],
   "source": [
    "fcor=f1.drop([\"id\",'g/s','stellar_flag'],axis=1)\n",
    "# Correlation between different variables\n",
    "#\n",
    "corr = fcor.corr()\n",
    "#\n",
    "# Set up the matplotlib plot configuration\n",
    "#\n",
    "f, ax = plt.subplots(figsize=(20, 10))\n",
    "#\n",
    "# Generate a mask for upper traingle\n",
    "#\n",
    "mask = np.triu(np.ones_like(corr, dtype=bool))\n",
    "#\n",
    "# Configure a custom diverging colormap\n",
    "#\n",
    "cmap = sns.diverging_palette(230, 20, as_cmap=True)\n",
    "#\n",
    "# Draw the heatmap\n",
    "#\n",
    "sns.heatmap(corr, annot=True, mask = mask, cmap=cmap)"
   ]
  },
  {
   "cell_type": "code",
   "execution_count": 712,
   "metadata": {},
   "outputs": [],
   "source": [
    "f2=f1.copy(deep=True)\n",
    "\n",
    "f2=f2[f2['f814w']<=22.5]\n",
    "\n",
    "\n",
    "X=f2.drop([\"id\",'g/s','stellar_flag','f923w','f892w','f861w','f830w','f799w','f768w','f737w','f706w','f675w','f644w','f613w','f489w'],axis=1)\n",
    "y=f2['g/s']"
   ]
  },
  {
   "cell_type": "code",
   "execution_count": 713,
   "metadata": {},
   "outputs": [],
   "source": [
    "from sklearn.model_selection import train_test_split\n",
    "x_train,x_test,y_train,y_test=train_test_split(X,y,test_size=0.15,random_state=1)"
   ]
  },
  {
   "cell_type": "markdown",
   "metadata": {},
   "source": [
    "# XGboost"
   ]
  },
  {
   "cell_type": "code",
   "execution_count": 768,
   "metadata": {},
   "outputs": [],
   "source": [
    "XGC=xgc()\n",
    "XGC.fit(x_train,y_train)\n",
    "predict=XGC.predict_proba(x_test)"
   ]
  },
  {
   "cell_type": "code",
   "execution_count": 769,
   "metadata": {},
   "outputs": [
    {
     "data": {
      "text/plain": [
       "0.9955564591078068"
      ]
     },
     "execution_count": 769,
     "metadata": {},
     "output_type": "execute_result"
    }
   ],
   "source": [
    "predict=pd.DataFrame(data=predict)\n",
    "predict=predict[1].values\n",
    "auc_score=roc_auc_score(y_test,predict)\n",
    "auc_score"
   ]
  },
  {
   "cell_type": "markdown",
   "metadata": {},
   "source": [
    "# CNN"
   ]
  },
  {
   "cell_type": "code",
   "execution_count": 703,
   "metadata": {},
   "outputs": [
    {
     "data": {
      "text/plain": [
       "(1165, 13)"
      ]
     },
     "execution_count": 703,
     "metadata": {},
     "output_type": "execute_result"
    }
   ],
   "source": [
    "f2=f1.copy(deep=True)\n",
    "f2=f2[f2['f814w']<=22.5]\n",
    "\n",
    "X=f2.drop([\"id\",'g/s','stellar_flag','f923w','f892w','f861w','f830w','f799w','f768w','f737w','f706w','f675w','f644w','f613w','f489w'],axis=1).values\n",
    "y=f2['g/s'].values\n",
    "\n",
    "X=MinMaxScaler(feature_range=(0,255)).fit_transform(X)\n",
    "x_train,x_test,y_train,y_test=train_test_split(X,y,test_size=0.15,random_state=1)\n",
    "\n",
    "x_test.shape"
   ]
  },
  {
   "cell_type": "code",
   "execution_count": 704,
   "metadata": {},
   "outputs": [
    {
     "data": {
      "text/plain": [
       "(6598, 13)"
      ]
     },
     "execution_count": 704,
     "metadata": {},
     "output_type": "execute_result"
    }
   ],
   "source": [
    "x_train.shape"
   ]
  },
  {
   "cell_type": "code",
   "execution_count": 705,
   "metadata": {},
   "outputs": [],
   "source": [
    "trainX = x_train.reshape(6598,13,1)           \n",
    "x_train = trainX / 255.0\n",
    "testX = x_test.reshape(1165, 13,1)\n",
    "x_test = testX / 255.0"
   ]
  },
  {
   "cell_type": "code",
   "execution_count": 706,
   "metadata": {},
   "outputs": [],
   "source": [
    "model=Sequential()\n",
    "model.add(Convolution2D(32,kernel_size=(5, 1), input_shape=(13,1,1),activation= 'LeakyReLU' ))\n",
    "model.add(MaxPool2D(pool_size=(3,1)))\n",
    "model.add(Convolution2D(32,kernel_size=(3, 1),activation= 'LeakyReLU' ))\n",
    "model.add(MaxPool2D(pool_size=(1,1)))\n",
    "model.add(Convolution2D(64,kernel_size=(1, 1),activation= 'LeakyReLU' ))\n",
    "model.add(MaxPool2D(pool_size=(1,1)))\n",
    "model.add(Dropout(0.3))\n",
    "model.add(Flatten())\n",
    "model.add(Dense(1,activation=\"sigmoid\"))\n",
    "model.compile(loss=\"binary_crossentropy\",optimizer= Adam(learning_rate=0.03),metrics=[\"accuracy\"])\n"
   ]
  },
  {
   "cell_type": "code",
   "execution_count": 707,
   "metadata": {},
   "outputs": [],
   "source": [
    "from keras.callbacks import ModelCheckpoint\n",
    "from keras.callbacks import EarlyStopping\n",
    "\n",
    "checkpoint= ModelCheckpoint(\"model_checkpoint.h5\",save_best_only=True)\n",
    "early_stopping = EarlyStopping( patience=250, restore_best_weights=True)"
   ]
  },
  {
   "cell_type": "code",
   "execution_count": 708,
   "metadata": {},
   "outputs": [],
   "source": [
    "training_history=model.fit(x_train,y_train,epochs=1000,batch_size=500,verbose=0,validation_data=[x_test,y_test],callbacks=[checkpoint,early_stopping])"
   ]
  },
  {
   "cell_type": "code",
   "execution_count": 709,
   "metadata": {},
   "outputs": [
    {
     "data": {
      "image/png": "[encoded data removed]",
      "text/plain": [
       "<Figure size 432x288 with 1 Axes>"
      ]
     },
     "metadata": {
      "needs_background": "light"
     },
     "output_type": "display_data"
    },
    {
     "data": {
      "text/plain": [
       "dict_keys(['loss', 'accuracy', 'val_loss', 'val_accuracy'])"
      ]
     },
     "execution_count": 709,
     "metadata": {},
     "output_type": "execute_result"
    }
   ],
   "source": [
    "training_info=training_history.history\n",
    "plot_training(training_info)\n",
    "training_info.keys()"
   ]
  },
  {
   "cell_type": "code",
   "execution_count": 710,
   "metadata": {},
   "outputs": [
    {
     "name": "stdout",
     "output_type": "stream",
     "text": [
      "37/37 [==============================] - 0s 1ms/step\n"
     ]
    },
    {
     "data": {
      "text/plain": [
       "0.996801148433351"
      ]
     },
     "execution_count": 710,
     "metadata": {},
     "output_type": "execute_result"
    }
   ],
   "source": [
    "predict=model.predict(x_test)\n",
    "auc_score=roc_auc_score(y_test,predict)\n",
    "auc_score"
   ]
  },
  {
   "cell_type": "markdown",
   "metadata": {},
   "source": [
    "therefore we can see that nearly 10-12 narrow bands can be removed to get even better prediction.These bands are highly correlated with F814w(correlation coefficient >0.95), therefore only one is enough. also from the ranking of features from randomforest and ada boost we can conclude that most of these 20 narrow bands or (flux vs wavelength graph) do not possess much different characterstics for star and galaxy. theres only (may be) a little difference which CNN captured very successfully"
   ]
  },
  {
   "cell_type": "markdown",
   "metadata": {},
   "source": [
    "# Therefore we can see that CNN is giving best performance with least overfitting"
   ]
  },
  {
   "cell_type": "markdown",
   "metadata": {},
   "source": [
    "# classifying by gradually adding features for F814<22.5"
   ]
  },
  {
   "cell_type": "code",
   "execution_count": 490,
   "metadata": {},
   "outputs": [],
   "source": [
    "f3=f1.copy(deep=True)\n",
    "\n",
    "f3=f3[f3['f814w']<=22.5]\n",
    "\n",
    "X=f3.drop([\"id\",'g/s','stellar_flag'],axis=1)\n",
    "y=f3['g/s']\n",
    "\n",
    "c=X.columns\n",
    "X=MinMaxScaler(feature_range=(0,255)).fit_transform(X)\n",
    "X=pd.DataFrame(data=X)\n",
    "for i in range(25):\n",
    " X.rename(columns={i:c[i]},inplace=True)\n",
    "x_train,x_test,y_train,y_test=train_test_split(X,y,test_size=0.15,random_state=1)"
   ]
  },
  {
   "cell_type": "code",
   "execution_count": 491,
   "metadata": {},
   "outputs": [
    {
     "name": "stdout",
     "output_type": "stream",
     "text": [
      "37/37 [==============================] - 0s 1ms/step\n",
      "37/37 [==============================] - 0s 2ms/step\n",
      "37/37 [==============================] - 0s 2ms/step\n",
      "37/37 [==============================] - 0s 2ms/step\n"
     ]
    }
   ],
   "source": [
    "score_1=[]\n",
    "predicted_class_1=[]\n",
    "\n",
    "for i in (0,3,4,5):\n",
    "    if i==0: \n",
    "        k=3\n",
    "    else: \n",
    "        k=5\n",
    "    model=Sequential()\n",
    "    model.add(Convolution2D(32,kernel_size=(k, 1), input_shape=(20+i,1,1),activation= 'LeakyReLU' ))\n",
    "    model.add(MaxPool2D(pool_size=(3,1)))\n",
    "    model.add(Convolution2D(32,kernel_size=(3, 1),activation= 'LeakyReLU' ))\n",
    "    model.add(MaxPool2D(pool_size=(2,1)))\n",
    "    model.add(Convolution2D(64,kernel_size=(2, 1),activation= 'LeakyReLU' ))\n",
    "    model.add(MaxPool2D(pool_size=(1,1)))\n",
    "    model.add(Dropout(0.3))\n",
    "    model.add(Flatten())\n",
    "    model.add(Dense(1,activation=\"sigmoid\"))\n",
    "    model.compile(loss=\"binary_crossentropy\",optimizer= Adam(learning_rate=0.03),metrics=[\"accuracy\"])\n",
    "\n",
    "    checkpoint= ModelCheckpoint(\"model_checkpoint.h5\",save_best_only=True)\n",
    "    early_stopping = EarlyStopping( patience=250, restore_best_weights=True)\n",
    "\n",
    "    x_train_new=x_train.iloc[:,0:20+i].values\n",
    "    x_test_new=x_test.iloc[:,0:20+i].values\n",
    "    y_train_new=y_train.values\n",
    "    y_test_new=y_test.values\n",
    "\n",
    "    trainX = x_train_new.reshape(6598,20+i,1)\n",
    "    trainX = trainX / 255.0\n",
    "    testX = x_test_new.reshape(1164,20+i,1)\n",
    "    testX= testX / 255.0\n",
    "    \n",
    "    \n",
    "    \n",
    "    model.fit(trainX,y_train_new,epochs=1000,batch_size=500,verbose=0,validation_data=[testX,y_test_new],callbacks=[checkpoint,early_stopping])\n",
    "\n",
    "    predict=model.predict(testX)\n",
    "    score_1.append(roc_auc_score(y_test_new,predict))\n",
    "    predict=pd.DataFrame(predict,columns=['pred_class']) \n",
    "    predict.loc[predict[\"pred_class\"]<0.5, \"pred_class\"] = 0\n",
    "    predict.loc[predict[\"pred_class\"]>0.5, \"pred_class\"] = 1\n",
    "    predicted_class_1.append(predict)\n",
    "    \n"
   ]
  },
  {
   "cell_type": "code",
   "execution_count": 492,
   "metadata": {},
   "outputs": [
    {
     "data": {
      "text/plain": [
       "[0.9832174389272438, 0.9883870485926713, 0.98746182952735, 0.9878684280403611]"
      ]
     },
     "execution_count": 492,
     "metadata": {},
     "output_type": "execute_result"
    }
   ],
   "source": [
    "score_1"
   ]
  },
  {
   "cell_type": "markdown",
   "metadata": {},
   "source": [
    "# classifying by gradually adding features for F814<26"
   ]
  },
  {
   "cell_type": "markdown",
   "metadata": {},
   "source": [
    "# XGboost"
   ]
  },
  {
   "cell_type": "code",
   "execution_count": 632,
   "metadata": {},
   "outputs": [],
   "source": [
    "f2_2=f1.copy(deep=True)\n",
    "f2_2=f2_2[f2_2['f814w']<=26]\n",
    "\n",
    "X=f2_2.drop([\"id\",'g/s','stellar_flag'],axis=1)\n",
    "y=f2_2['g/s']\n",
    "\n",
    "x_train,x_test,y_train,y_test=train_test_split(X,y,test_size=0.15,random_state=1)"
   ]
  },
  {
   "cell_type": "code",
   "execution_count": 633,
   "metadata": {},
   "outputs": [],
   "source": [
    "score_xg_2=[]\n",
    "predicted_class_xg_2=[]\n",
    "\n",
    "for i in (0,3,4,5):\n",
    "    if i==0: \n",
    "        k=3\n",
    "    else: \n",
    "        k=5\n",
    "\n",
    "    x_train_new=x_train.iloc[:,0:20+i]\n",
    "    x_test_new=x_test.iloc[:,0:20+i]\n",
    "    \n",
    "    \n",
    "    XGC=xgc(gamma= 0.2, learning_rate= 0.3, max_depth= 6, n_estimators =80, reg_alpha= 1, scale_pos_weight= 1)\n",
    "    XGC.fit(x_train_new,y_train)\n",
    "    predict=XGC.predict_proba(x_test_new)\n",
    "    predict=pd.DataFrame(data=predict)\n",
    "    predict=predict[1].values\n",
    "   \n",
    "\n",
    "    score_xg_2.append(roc_auc_score(y_test,predict))\n",
    "    predict=pd.DataFrame(predict,columns=['pred_class']) \n",
    "    predict.loc[predict[\"pred_class\"]<0.5, \"pred_class\"] = 0\n",
    "    predict.loc[predict[\"pred_class\"]>0.5, \"pred_class\"] = 1\n",
    "    predicted_class_xg_2.append(predict)"
   ]
  },
  {
   "cell_type": "code",
   "execution_count": 634,
   "metadata": {},
   "outputs": [
    {
     "data": {
      "text/plain": [
       "[0.9506701845970675,\n",
       " 0.9596784837881591,\n",
       " 0.9610158899475004,\n",
       " 0.9748835662009314]"
      ]
     },
     "execution_count": 634,
     "metadata": {},
     "output_type": "execute_result"
    }
   ],
   "source": [
    "score_xg_2"
   ]
  },
  {
   "cell_type": "code",
   "execution_count": 635,
   "metadata": {},
   "outputs": [
    {
     "data": {
      "image/png": "[encoded data removed]",
      "text/plain": [
       "<Figure size 432x288 with 1 Axes>"
      ]
     },
     "metadata": {
      "needs_background": "light"
     },
     "output_type": "display_data"
    }
   ],
   "source": [
    "result_1=pd.DataFrame({'information used':['optical bands','optical bands+NIR','optical bands+NIR+F814','optical bands+NIR+F814+FWHM'],'F814<22.5':score_xg,'F814<26':score_xg_2})\n",
    "plt.scatter(['optical bands','optical bands+NIR','optical bands+NIR+F814','optical bands+NIR+F814+FWHM'],score_xg,color=\"black\",alpha=1,label=\"F814<22.5\")\n",
    "plt.plot(['optical bands','optical bands+NIR','optical bands+NIR+F814','optical bands+NIR+F814+FWHM'],score_xg,color=\"black\",alpha=1,ls='dashed')\n",
    "plt.scatter(['optical bands','optical bands+NIR','optical bands+NIR+F814','optical bands+NIR+F814+FWHM'],score_xg_2,color=\"red\",alpha=1,label=\"F814<26\")\n",
    "plt.plot(['optical bands','optical bands+NIR','optical bands+NIR+F814','optical bands+NIR+F814+FWHM'],score_xg_2,color=\"red\",alpha=1,ls='dashed')\n",
    "plt.ylim(ymin=0.95,ymax=1)\n",
    "plt.ylabel('AUC score')\n",
    "plt.xlabel('Features')\n",
    "plt.xticks(rotation=20)\n",
    "plt.legend()\n",
    "plt.show()"
   ]
  },
  {
   "cell_type": "code",
   "execution_count": 636,
   "metadata": {},
   "outputs": [
    {
     "data": {
      "text/html": [
       "<div>\n",
       "<style scoped>\n",
       "    .dataframe tbody tr th:only-of-type {\n",
       "        vertical-align: middle;\n",
       "    }\n",
       "\n",
       "    .dataframe tbody tr th {\n",
       "        vertical-align: top;\n",
       "    }\n",
       "\n",
       "    .dataframe thead th {\n",
       "        text-align: right;\n",
       "    }\n",
       "</style>\n",
       "<table border=\"1\" class=\"dataframe\">\n",
       "  <thead>\n",
       "    <tr style=\"text-align: right;\">\n",
       "      <th></th>\n",
       "      <th>information used</th>\n",
       "      <th>F814&lt;22.5</th>\n",
       "      <th>F814&lt;26</th>\n",
       "    </tr>\n",
       "  </thead>\n",
       "  <tbody>\n",
       "    <tr>\n",
       "      <th>0</th>\n",
       "      <td>optical bands</td>\n",
       "      <td>0.969766</td>\n",
       "      <td>0.950670</td>\n",
       "    </tr>\n",
       "    <tr>\n",
       "      <th>1</th>\n",
       "      <td>optical bands+NIR</td>\n",
       "      <td>0.983703</td>\n",
       "      <td>0.959678</td>\n",
       "    </tr>\n",
       "    <tr>\n",
       "      <th>2</th>\n",
       "      <td>optical bands+NIR+F814</td>\n",
       "      <td>0.983885</td>\n",
       "      <td>0.961016</td>\n",
       "    </tr>\n",
       "    <tr>\n",
       "      <th>3</th>\n",
       "      <td>optical bands+NIR+F814+FWHM</td>\n",
       "      <td>0.994366</td>\n",
       "      <td>0.974884</td>\n",
       "    </tr>\n",
       "  </tbody>\n",
       "</table>\n",
       "</div>"
      ],
      "text/plain": [
       "              information used  F814<22.5   F814<26\n",
       "0                optical bands   0.969766  0.950670\n",
       "1            optical bands+NIR   0.983703  0.959678\n",
       "2       optical bands+NIR+F814   0.983885  0.961016\n",
       "3  optical bands+NIR+F814+FWHM   0.994366  0.974884"
      ]
     },
     "execution_count": 636,
     "metadata": {},
     "output_type": "execute_result"
    }
   ],
   "source": [
    "result_1"
   ]
  },
  {
   "cell_type": "markdown",
   "metadata": {},
   "source": [
    "# CNN"
   ]
  },
  {
   "cell_type": "code",
   "execution_count": 615,
   "metadata": {},
   "outputs": [],
   "source": [
    "f4=f1.copy(deep=True)\n",
    "\n",
    "f4=f4[f4['f814w']<=26]\n",
    "\n",
    "X=f4.drop([\"id\",'g/s','stellar_flag'],axis=1)\n",
    "y=f4['g/s']\n",
    "\n",
    "c=X.columns\n",
    "X=MinMaxScaler(feature_range=(0,255)).fit_transform(X)\n",
    "X=pd.DataFrame(data=X)\n",
    "for i in range(25):\n",
    " X.rename(columns={i:c[i]},inplace=True)\n",
    "x_train,x_test,y_train,y_test=train_test_split(X,y,test_size=0.15,random_state=1)"
   ]
  },
  {
   "cell_type": "code",
   "execution_count": 616,
   "metadata": {},
   "outputs": [
    {
     "name": "stdout",
     "output_type": "stream",
     "text": [
      "150/150 [==============================] - 0s 1ms/step\n",
      "150/150 [==============================] - 0s 1ms/step\n",
      "150/150 [==============================] - 0s 1ms/step\n",
      "150/150 [==============================] - 0s 2ms/step\n"
     ]
    }
   ],
   "source": [
    "score_2=[]\n",
    "predicted_class_2=[]\n",
    "\n",
    "for i in (0,3,4,5):\n",
    "    if i==0: \n",
    "        k=3\n",
    "    else: \n",
    "        k=5\n",
    "    model=Sequential()\n",
    "    model.add(Convolution2D(32,kernel_size=(k, 1), input_shape=(20+i,1,1),activation= 'LeakyReLU' ))\n",
    "    model.add(MaxPool2D(pool_size=(3,1)))\n",
    "    model.add(Convolution2D(32,kernel_size=(3, 1),activation= 'LeakyReLU' ))\n",
    "    model.add(MaxPool2D(pool_size=(2,1)))\n",
    "    model.add(Convolution2D(64,kernel_size=(2, 1),activation= 'LeakyReLU' ))\n",
    "    model.add(MaxPool2D(pool_size=(1,1)))\n",
    "    model.add(Dropout(0.3))\n",
    "    model.add(Flatten())\n",
    "    model.add(Dense(1,activation=\"sigmoid\"))\n",
    "    model.compile(loss=\"binary_crossentropy\",optimizer= Adam(learning_rate=0.03),metrics=[\"accuracy\"])\n",
    "\n",
    "    checkpoint= ModelCheckpoint(\"model_checkpoint.h5\",save_best_only=True)\n",
    "    early_stopping = EarlyStopping( patience=250, restore_best_weights=True)\n",
    "\n",
    "    x_train_new=x_train.iloc[:,0:20+i].values\n",
    "    x_test_new=x_test.iloc[:,0:20+i].values\n",
    "    y_train_new=y_train.values\n",
    "    y_test_new=y_test.values\n",
    "\n",
    "    trainX = x_train_new.reshape(x_train_new.shape[0],20+i,1)\n",
    "    trainX = trainX / 255.0\n",
    "    testX = x_test_new.reshape(x_test_new.shape[0],20+i,1)\n",
    "    testX= testX / 255.0\n",
    "    \n",
    "    \n",
    "    \n",
    "    model.fit(trainX,y_train_new,epochs=1000,batch_size=500,verbose=0,validation_data=[testX,y_test_new],callbacks=[checkpoint,early_stopping])\n",
    "\n",
    "    predict=model.predict(testX)\n",
    "    score_2.append(roc_auc_score(y_test_new,predict))\n",
    "    predict=pd.DataFrame(predict,columns=['pred_class']) \n",
    "    predict.loc[predict[\"pred_class\"]<0.5, \"pred_class\"] = 0\n",
    "    predict.loc[predict[\"pred_class\"]>0.5, \"pred_class\"] = 1\n",
    "    predicted_class_2.append(predict)"
   ]
  },
  {
   "cell_type": "code",
   "execution_count": 617,
   "metadata": {},
   "outputs": [
    {
     "data": {
      "text/plain": [
       "[0.9598502051228178, 0.9616482285092434, 0.9587734113419584, 0.962227367128092]"
      ]
     },
     "execution_count": 617,
     "metadata": {},
     "output_type": "execute_result"
    }
   ],
   "source": [
    "score_2"
   ]
  },
  {
   "cell_type": "markdown",
   "metadata": {},
   "source": [
    "# now classifying objects for various ranges of F814W"
   ]
  },
  {
   "cell_type": "markdown",
   "metadata": {},
   "source": [
    "CNN"
   ]
  },
  {
   "cell_type": "code",
   "execution_count": 493,
   "metadata": {},
   "outputs": [
    {
     "name": "stdout",
     "output_type": "stream",
     "text": [
      "37/37 [==============================] - 0s 1ms/step\n",
      "15/15 [==============================] - 0s 1ms/step\n",
      "46/46 [==============================] - 0s 2ms/step\n",
      "45/45 [==============================] - 0s 1ms/step\n",
      "150/150 [==============================] - 0s 1ms/step\n"
     ]
    }
   ],
   "source": [
    "score_814=[]\n",
    "FPS_rate=[]\n",
    "TPS_rate=[]\n",
    "\n",
    "for i,j in zip([22.5,23,24,25,26],[0,22.5,23,24,0]):\n",
    "    \n",
    "    f5=f1.copy()\n",
    "    f5=f5[(f5['f814w']<=i)&(f5['f814w']>j)]\n",
    "\n",
    "    X=f5.drop([\"id\",'g/s','stellar_flag'],axis=1)\n",
    "    y=f5['g/s']\n",
    "    c=X.columns\n",
    "    X=MinMaxScaler(feature_range=(0,255)).fit_transform(X)\n",
    "    X=pd.DataFrame(data=X)\n",
    "    for i in range(25):\n",
    "       X.rename(columns={i:c[i]},inplace=True)\n",
    "    x_train,x_test,y_train,y_test=train_test_split(X,y,test_size=0.15,random_state=1)\n",
    "    \n",
    "    \n",
    "    model=Sequential()\n",
    "    model.add(Convolution2D(16,kernel_size=(5, 1), input_shape=(25,1,1),activation= 'LeakyReLU' ))\n",
    "    model.add(MaxPool2D(pool_size=(3,1)))\n",
    "    model.add(Convolution2D(32,kernel_size=(3, 1),activation= 'LeakyReLU' ))\n",
    "    model.add(MaxPool2D(pool_size=(2,1)))\n",
    "    model.add(Convolution2D(64,kernel_size=(2, 1),activation= 'LeakyReLU' ))\n",
    "    model.add(MaxPool2D(pool_size=(1,1)))\n",
    "    model.add(Dropout(0.3))\n",
    "    model.add(Flatten())\n",
    "    model.add(Dense(1,activation=\"sigmoid\"))\n",
    "    model.compile(loss=\"binary_crossentropy\",optimizer= Adam(learning_rate=0.03),metrics=[\"accuracy\"])\n",
    "\n",
    "    checkpoint= ModelCheckpoint(\"model_checkpoint.h5\",save_best_only=True)\n",
    "    early_stopping = EarlyStopping( patience=250, restore_best_weights=True)\n",
    "\n",
    "    x_train_new=x_train.values\n",
    "    x_test_new=x_test.values\n",
    "    y_train_new=y_train.values\n",
    "    y_test_new=y_test.values\n",
    "    \n",
    "    len_train=x_train_new.shape[0]\n",
    "    len_test=x_test_new.shape[0]\n",
    "\n",
    "    trainX = x_train_new.reshape(len_train,25,1)\n",
    "    trainX = trainX / 255.0\n",
    "    testX = x_test_new.reshape(len_test,25,1)\n",
    "    testX= testX / 255.0\n",
    "    \n",
    "    \n",
    "    \n",
    "    model.fit(trainX,y_train_new,epochs=1000,batch_size=500,verbose=0,validation_data=[testX,y_test_new],callbacks=[checkpoint,early_stopping])\n",
    "\n",
    "    predict=model.predict(testX)\n",
    "    score_814.append(roc_auc_score(y_test_new,predict))\n",
    "    false_positive_rate,true_positive_rate,thresholds= roc_curve(y_test,predict) \n",
    "    FPS_rate.append(false_positive_rate)\n",
    "    TPS_rate.append(true_positive_rate)\n",
    "\n",
    "    "
   ]
  },
  {
   "cell_type": "code",
   "execution_count": 494,
   "metadata": {},
   "outputs": [
    {
     "data": {
      "text/plain": [
       "[0.9855574548592672,\n",
       " 0.9024133307795441,\n",
       " 0.8903618861947118,\n",
       " 0.735934065934066,\n",
       " 0.9575942581773026]"
      ]
     },
     "execution_count": 494,
     "metadata": {},
     "output_type": "execute_result"
    }
   ],
   "source": [
    "score_814"
   ]
  },
  {
   "cell_type": "markdown",
   "metadata": {},
   "source": [
    "# RESULTS"
   ]
  },
  {
   "cell_type": "code",
   "execution_count": 612,
   "metadata": {},
   "outputs": [
    {
     "data": {
      "image/png": "[encoded data removed]",
      "text/plain": [
       "<Figure size 432x288 with 1 Axes>"
      ]
     },
     "metadata": {
      "needs_background": "light"
     },
     "output_type": "display_data"
    }
   ],
   "source": [
    "data_0=pd.DataFrame(data={\"features\":['optical bands','optical bands+NIR','optical bands+NIR+F814','optical bands+NIR+F814+FWHM'],\"ANN\":score_ann,\"Random Forest\":score_rf,\"Ada boost\":score_ada,\"CNN\":score_1,\"XG boost\":score_xg})\n",
    "plt.scatter(['optical bands','optical bands+NIR','optical bands+NIR+F814','optical bands+NIR+F814+FWHM'],score_ann,color=\"blue\",alpha=1,label=\"ANN\")\n",
    "plt.plot(['optical bands','optical bands+NIR','optical bands+NIR+F814','optical bands+NIR+F814+FWHM'],score_ann,color=\"blue\",alpha=1)\n",
    "plt.scatter(['optical bands','optical bands+NIR','optical bands+NIR+F814','optical bands+NIR+F814+FWHM'],score_rf,color=\"green\",alpha=1,label=\"random forest\")\n",
    "plt.plot(['optical bands','optical bands+NIR','optical bands+NIR+F814','optical bands+NIR+F814+FWHM'],score_rf,color=\"green\",alpha=1)\n",
    "plt.scatter(['optical bands','optical bands+NIR','optical bands+NIR+F814','optical bands+NIR+F814+FWHM'],score_ada,color=\"black\",alpha=1,label=\"ada boost\")\n",
    "plt.plot(['optical bands','optical bands+NIR','optical bands+NIR+F814','optical bands+NIR+F814+FWHM'],score_ada,color=\"black\",alpha=1)\n",
    "plt.scatter(['optical bands','optical bands+NIR','optical bands+NIR+F814','optical bands+NIR+F814+FWHM'],score_1,color=\"orange\",alpha=1,label=\"CNN\")\n",
    "plt.plot(['optical bands','optical bands+NIR','optical bands+NIR+F814','optical bands+NIR+F814+FWHM'],score_1,color=\"orange\",alpha=1)\n",
    "plt.scatter(['optical bands','optical bands+NIR','optical bands+NIR+F814','optical bands+NIR+F814+FWHM'],score_xg,color=\"red\",alpha=1,label=\"XGB\")\n",
    "plt.plot(['optical bands','optical bands+NIR','optical bands+NIR+F814','optical bands+NIR+F814+FWHM'],score_xg,color=\"red\",alpha=1)\n",
    "plt.ylabel('AUC score')\n",
    "plt.xlabel('Features')\n",
    "plt.xticks(rotation=20)\n",
    "plt.legend()\n",
    "plt.show()"
   ]
  },
  {
   "cell_type": "code",
   "execution_count": 613,
   "metadata": {},
   "outputs": [
    {
     "data": {
      "text/html": [
       "<div>\n",
       "<style scoped>\n",
       "    .dataframe tbody tr th:only-of-type {\n",
       "        vertical-align: middle;\n",
       "    }\n",
       "\n",
       "    .dataframe tbody tr th {\n",
       "        vertical-align: top;\n",
       "    }\n",
       "\n",
       "    .dataframe thead th {\n",
       "        text-align: right;\n",
       "    }\n",
       "</style>\n",
       "<table border=\"1\" class=\"dataframe\">\n",
       "  <thead>\n",
       "    <tr style=\"text-align: right;\">\n",
       "      <th></th>\n",
       "      <th>features</th>\n",
       "      <th>ANN</th>\n",
       "      <th>Random Forest</th>\n",
       "      <th>Ada boost</th>\n",
       "      <th>CNN</th>\n",
       "      <th>XG boost</th>\n",
       "    </tr>\n",
       "  </thead>\n",
       "  <tbody>\n",
       "    <tr>\n",
       "      <th>0</th>\n",
       "      <td>optical bands</td>\n",
       "      <td>0.953212</td>\n",
       "      <td>0.957266</td>\n",
       "      <td>0.917911</td>\n",
       "      <td>0.983217</td>\n",
       "      <td>0.969766</td>\n",
       "    </tr>\n",
       "    <tr>\n",
       "      <th>1</th>\n",
       "      <td>optical bands+NIR</td>\n",
       "      <td>0.974704</td>\n",
       "      <td>0.980848</td>\n",
       "      <td>0.966248</td>\n",
       "      <td>0.988387</td>\n",
       "      <td>0.983703</td>\n",
       "    </tr>\n",
       "    <tr>\n",
       "      <th>2</th>\n",
       "      <td>optical bands+NIR+F814</td>\n",
       "      <td>0.982823</td>\n",
       "      <td>0.980649</td>\n",
       "      <td>0.969908</td>\n",
       "      <td>0.987462</td>\n",
       "      <td>0.983885</td>\n",
       "    </tr>\n",
       "    <tr>\n",
       "      <th>3</th>\n",
       "      <td>optical bands+NIR+F814+FWHM</td>\n",
       "      <td>0.991781</td>\n",
       "      <td>0.992963</td>\n",
       "      <td>0.993387</td>\n",
       "      <td>0.987868</td>\n",
       "      <td>0.994366</td>\n",
       "    </tr>\n",
       "  </tbody>\n",
       "</table>\n",
       "</div>"
      ],
      "text/plain": [
       "                      features       ANN  Random Forest  Ada boost       CNN  \\\n",
       "0                optical bands  0.953212       0.957266   0.917911  0.983217   \n",
       "1            optical bands+NIR  0.974704       0.980848   0.966248  0.988387   \n",
       "2       optical bands+NIR+F814  0.982823       0.980649   0.969908  0.987462   \n",
       "3  optical bands+NIR+F814+FWHM  0.991781       0.992963   0.993387  0.987868   \n",
       "\n",
       "   XG boost  \n",
       "0  0.969766  \n",
       "1  0.983703  \n",
       "2  0.983885  \n",
       "3  0.994366  "
      ]
     },
     "execution_count": 613,
     "metadata": {},
     "output_type": "execute_result"
    }
   ],
   "source": [
    "data_0"
   ]
  },
  {
   "cell_type": "markdown",
   "metadata": {},
   "source": [
    "Auc score for different no. of features using CNN"
   ]
  },
  {
   "cell_type": "code",
   "execution_count": 618,
   "metadata": {},
   "outputs": [
    {
     "data": {
      "image/png": "[encoded data removed]",
      "text/plain": [
       "<Figure size 432x288 with 1 Axes>"
      ]
     },
     "metadata": {
      "needs_background": "light"
     },
     "output_type": "display_data"
    }
   ],
   "source": [
    "result_1=pd.DataFrame({'information used':['optical bands','optical bands+NIR','optical bands+NIR+F814','optical bands+NIR+F814+FWHM'],'F814<22.5':score_1,'F814<26':score_2})\n",
    "plt.scatter(['optical bands','optical bands+NIR','optical bands+NIR+F814','optical bands+NIR+F814+FWHM'],score_1,color=\"black\",alpha=1,label=\"F814<22.5\")\n",
    "plt.plot(['optical bands','optical bands+NIR','optical bands+NIR+F814','optical bands+NIR+F814+FWHM'],score_1,color=\"black\",alpha=1,ls='dashed')\n",
    "plt.scatter(['optical bands','optical bands+NIR','optical bands+NIR+F814','optical bands+NIR+F814+FWHM'],score_2,color=\"red\",alpha=1,label=\"F814<26\")\n",
    "plt.plot(['optical bands','optical bands+NIR','optical bands+NIR+F814','optical bands+NIR+F814+FWHM'],score_2,color=\"red\",alpha=1,ls='dashed')\n",
    "plt.ylim(ymin=0.95,ymax=1)\n",
    "plt.ylabel('AUC score')\n",
    "plt.xlabel('Features')\n",
    "plt.xticks(rotation=20)\n",
    "plt.legend()\n",
    "plt.show()"
   ]
  },
  {
   "cell_type": "code",
   "execution_count": 619,
   "metadata": {},
   "outputs": [
    {
     "data": {
      "text/html": [
       "<div>\n",
       "<style scoped>\n",
       "    .dataframe tbody tr th:only-of-type {\n",
       "        vertical-align: middle;\n",
       "    }\n",
       "\n",
       "    .dataframe tbody tr th {\n",
       "        vertical-align: top;\n",
       "    }\n",
       "\n",
       "    .dataframe thead th {\n",
       "        text-align: right;\n",
       "    }\n",
       "</style>\n",
       "<table border=\"1\" class=\"dataframe\">\n",
       "  <thead>\n",
       "    <tr style=\"text-align: right;\">\n",
       "      <th></th>\n",
       "      <th>information used</th>\n",
       "      <th>F814&lt;22.5</th>\n",
       "      <th>F814&lt;26</th>\n",
       "    </tr>\n",
       "  </thead>\n",
       "  <tbody>\n",
       "    <tr>\n",
       "      <th>0</th>\n",
       "      <td>optical bands</td>\n",
       "      <td>0.983217</td>\n",
       "      <td>0.959850</td>\n",
       "    </tr>\n",
       "    <tr>\n",
       "      <th>1</th>\n",
       "      <td>optical bands+NIR</td>\n",
       "      <td>0.988387</td>\n",
       "      <td>0.961648</td>\n",
       "    </tr>\n",
       "    <tr>\n",
       "      <th>2</th>\n",
       "      <td>optical bands+NIR+F814</td>\n",
       "      <td>0.987462</td>\n",
       "      <td>0.958773</td>\n",
       "    </tr>\n",
       "    <tr>\n",
       "      <th>3</th>\n",
       "      <td>optical bands+NIR+F814+FWHM</td>\n",
       "      <td>0.987868</td>\n",
       "      <td>0.962227</td>\n",
       "    </tr>\n",
       "  </tbody>\n",
       "</table>\n",
       "</div>"
      ],
      "text/plain": [
       "              information used  F814<22.5   F814<26\n",
       "0                optical bands   0.983217  0.959850\n",
       "1            optical bands+NIR   0.988387  0.961648\n",
       "2       optical bands+NIR+F814   0.987462  0.958773\n",
       "3  optical bands+NIR+F814+FWHM   0.987868  0.962227"
      ]
     },
     "execution_count": 619,
     "metadata": {},
     "output_type": "execute_result"
    }
   ],
   "source": [
    "result_1"
   ]
  },
  {
   "cell_type": "markdown",
   "metadata": {},
   "source": [
    "Roc curve for different ranges of F814 using CNN"
   ]
  },
  {
   "cell_type": "code",
   "execution_count": 590,
   "metadata": {},
   "outputs": [
    {
     "data": {
      "image/png": "[encoded data removed]",
      "text/plain": [
       "<Figure size 432x288 with 1 Axes>"
      ]
     },
     "metadata": {
      "needs_background": "light"
     },
     "output_type": "display_data"
    }
   ],
   "source": [
    "result_2=pd.DataFrame({'F814':[\"F814<22.5\",\"22.5<F814<23\",\"23<F814<24\",\"24<F814<25\",\"F814<26\"],'AUC score':score_814})\n",
    "plt.plot(FPS_rate[0],TPS_rate[0],color=\"black\",alpha=1,ls='dashed',label=\"F814<22.5\")\n",
    "plt.plot(FPS_rate[1],TPS_rate[1],color=\"purple\",alpha=1,ls='dashed',label=\"22.5<F814<23\")\n",
    "plt.plot(FPS_rate[2],TPS_rate[2],color=\"green\",alpha=1,ls='dashed',label=\"23<F814<24\")\n",
    "plt.plot(FPS_rate[3],TPS_rate[3],color=\"blue\",alpha=1,ls='dashed',label=\"24<F814<25\")\n",
    "plt.plot(FPS_rate[4],TPS_rate[4],color=\"red\",alpha=1,ls='dashed',label=\"F814<26\")\n",
    "plt.xlabel('False positive rate')\n",
    "plt.ylabel('True positive rate')\n",
    "\n",
    "plt.legend()\n",
    "plt.show()"
   ]
  },
  {
   "cell_type": "code",
   "execution_count": 591,
   "metadata": {},
   "outputs": [
    {
     "data": {
      "text/html": [
       "<div>\n",
       "<style scoped>\n",
       "    .dataframe tbody tr th:only-of-type {\n",
       "        vertical-align: middle;\n",
       "    }\n",
       "\n",
       "    .dataframe tbody tr th {\n",
       "        vertical-align: top;\n",
       "    }\n",
       "\n",
       "    .dataframe thead th {\n",
       "        text-align: right;\n",
       "    }\n",
       "</style>\n",
       "<table border=\"1\" class=\"dataframe\">\n",
       "  <thead>\n",
       "    <tr style=\"text-align: right;\">\n",
       "      <th></th>\n",
       "      <th>F814</th>\n",
       "      <th>AUC score</th>\n",
       "    </tr>\n",
       "  </thead>\n",
       "  <tbody>\n",
       "    <tr>\n",
       "      <th>0</th>\n",
       "      <td>F814&lt;22.5</td>\n",
       "      <td>0.985557</td>\n",
       "    </tr>\n",
       "    <tr>\n",
       "      <th>1</th>\n",
       "      <td>22.5&lt;F814&lt;23</td>\n",
       "      <td>0.902413</td>\n",
       "    </tr>\n",
       "    <tr>\n",
       "      <th>2</th>\n",
       "      <td>23&lt;F814&lt;24</td>\n",
       "      <td>0.890362</td>\n",
       "    </tr>\n",
       "    <tr>\n",
       "      <th>3</th>\n",
       "      <td>24&lt;F814&lt;25</td>\n",
       "      <td>0.735934</td>\n",
       "    </tr>\n",
       "    <tr>\n",
       "      <th>4</th>\n",
       "      <td>F814&lt;26</td>\n",
       "      <td>0.957594</td>\n",
       "    </tr>\n",
       "  </tbody>\n",
       "</table>\n",
       "</div>"
      ],
      "text/plain": [
       "           F814  AUC score\n",
       "0     F814<22.5   0.985557\n",
       "1  22.5<F814<23   0.902413\n",
       "2    23<F814<24   0.890362\n",
       "3    24<F814<25   0.735934\n",
       "4       F814<26   0.957594"
      ]
     },
     "execution_count": 591,
     "metadata": {},
     "output_type": "execute_result"
    }
   ],
   "source": [
    "result_2"
   ]
  },
  {
   "cell_type": "markdown",
   "metadata": {},
   "source": [
    "now comparing alhambras stellar flag and our predicted data"
   ]
  },
  {
   "cell_type": "code",
   "execution_count": 665,
   "metadata": {},
   "outputs": [],
   "source": [
    "f4=f1.copy(deep=True)\n",
    "f4=f4[f4['f814w']<=26]\n",
    "X=f4.drop(['g/s'],axis=1)\n",
    "y=f4['g/s']\n",
    "x_train,x_test,y_train,y_test=train_test_split(X,y,test_size=0.15,random_state=1)\n",
    "x_test=pd.DataFrame(data=x_test['stellar_flag'],columns=['stellar_flag'])\n",
    "x_test=x_test.reset_index()\n",
    "x_test.drop('index',axis=1,inplace=True)\n",
    "all_class=predicted_class_2[3].merge(x_test,left_index=True,right_index=True)\n",
    "all_class.drop(all_class[all_class['stellar_flag']==0.5].index,inplace=True)\n",
    "all_class.loc[all_class[\"stellar_flag\"]<0.5, \"stellar_flag\"] = 0\n",
    "all_class.loc[all_class[\"stellar_flag\"]>0.5, \"stellar_flag\"] = 1\n",
    "\n"
   ]
  },
  {
   "cell_type": "markdown",
   "metadata": {},
   "source": [
    "accuracy"
   ]
  },
  {
   "cell_type": "code",
   "execution_count": 666,
   "metadata": {},
   "outputs": [
    {
     "data": {
      "text/plain": [
       "0.9574283231972198"
      ]
     },
     "execution_count": 666,
     "metadata": {},
     "output_type": "execute_result"
    }
   ],
   "source": [
    "from sklearn.metrics import accuracy_score\n",
    "accuracy_score(all_class['stellar_flag'],all_class['pred_class'])"
   ]
  },
  {
   "cell_type": "markdown",
   "metadata": {},
   "source": [
    "XGboost"
   ]
  },
  {
   "cell_type": "code",
   "execution_count": 663,
   "metadata": {},
   "outputs": [],
   "source": [
    "f4=f1.copy(deep=True)\n",
    "f4=f4[f4['f814w']<=26]\n",
    "X=f4.drop(['g/s'],axis=1)\n",
    "y=f4['g/s']\n",
    "x_train,x_test,y_train,y_test=train_test_split(X,y,test_size=0.15,random_state=1)\n",
    "x_test=pd.DataFrame(data=x_test['stellar_flag'],columns=['stellar_flag'])\n",
    "x_test=x_test.reset_index()\n",
    "x_test.drop('index',axis=1,inplace=True)\n",
    "all_class=predicted_class_xg_2[3].merge(x_test,left_index=True,right_index=True)\n",
    "all_class.drop(all_class[all_class['stellar_flag']==0.5].index,inplace=True)\n",
    "all_class.loc[all_class[\"stellar_flag\"]<0.5, \"stellar_flag\"] = 0\n",
    "all_class.loc[all_class[\"stellar_flag\"]>0.5, \"stellar_flag\"] = 1"
   ]
  },
  {
   "cell_type": "code",
   "execution_count": 664,
   "metadata": {},
   "outputs": [
    {
     "data": {
      "text/plain": [
       "0.9782797567332754"
      ]
     },
     "execution_count": 664,
     "metadata": {},
     "output_type": "execute_result"
    }
   ],
   "source": [
    "from sklearn.metrics import accuracy_score\n",
    "accuracy_score(all_class['stellar_flag'],all_class['pred_class'])"
   ]
  },
  {
   "cell_type": "markdown",
   "metadata": {},
   "source": [
    "therefore we can see that alhambras classification and our classification is pretty much same"
   ]
  },
  {
   "cell_type": "markdown",
   "metadata": {},
   "source": [
    "# via ranking of features we can see that 20 narrow band magnitudes are not a good classifier of star and galaxy even after making them good learners by ada boost..although CNN was able to capture the relation very perfectly but it will be interesting to see if colors are more useful than magnitudes as they are often use to get the surface temperatures and other magnitudes of stars."
   ]
  },
  {
   "cell_type": "code",
   "execution_count": 786,
   "metadata": {},
   "outputs": [
    {
     "data": {
      "text/plain": [
       "(1165, 23)"
      ]
     },
     "execution_count": 786,
     "metadata": {},
     "output_type": "execute_result"
    }
   ],
   "source": [
    "f2=f1.copy(deep=True)\n",
    "f2=f2[f2['f814w']<=22.5]\n",
    "X=f2.drop([\"id\",'g/s','stellar_flag'],axis=1)\n",
    "y=f2['g/s']\n",
    "\n",
    "for i in range(19):\n",
    "    X[str(i)]=-X.iloc[:,i+1]+X.iloc[:,i]\n",
    "\n",
    "X['j-h']=X['j']-X['h']\n",
    "X['h-ks']=X['h']-X['ks']\n",
    "\n",
    "\n",
    "for i in (X.columns):\n",
    "   if i!='f814w': \n",
    "      X.drop(i,axis=1,inplace=True)\n",
    "   else:\n",
    "      break  \n",
    "\n",
    "\n",
    "X=MinMaxScaler(feature_range=(0,255)).fit_transform(X)\n",
    "\n",
    "x_train,x_test,y_train,y_test=train_test_split(X,y,test_size=0.15,random_state=1)\n",
    "\n",
    "x_test.shape"
   ]
  },
  {
   "cell_type": "code",
   "execution_count": 788,
   "metadata": {},
   "outputs": [],
   "source": [
    "trainX = x_train.reshape(6598,23,1)           \n",
    "x_train = trainX / 255.0\n",
    "testX = x_test.reshape(1165, 23,1)\n",
    "x_test = testX / 255.0"
   ]
  },
  {
   "cell_type": "code",
   "execution_count": 789,
   "metadata": {},
   "outputs": [],
   "source": [
    "model=Sequential()\n",
    "model.add(Convolution2D(18,kernel_size=(5, 1), input_shape=(23,1,1),activation= 'LeakyReLU' ))\n",
    "model.add(MaxPool2D(pool_size=(3,1)))\n",
    "model.add(Convolution2D(32,kernel_size=(3, 1),activation= 'LeakyReLU' ))\n",
    "model.add(MaxPool2D(pool_size=(1,1)))\n",
    "model.add(Convolution2D(64,kernel_size=(1, 1),activation= 'LeakyReLU' ))\n",
    "model.add(MaxPool2D(pool_size=(1,1)))\n",
    "model.add(Dropout(0.3))\n",
    "model.add(Flatten())\n",
    "model.add(Dense(1,activation=\"sigmoid\"))\n",
    "model.compile(loss=\"binary_crossentropy\",optimizer= Adam(learning_rate=0.03),metrics=[\"accuracy\"])"
   ]
  },
  {
   "cell_type": "code",
   "execution_count": 790,
   "metadata": {},
   "outputs": [],
   "source": [
    "from keras.callbacks import ModelCheckpoint\n",
    "from keras.callbacks import EarlyStopping\n",
    "\n",
    "checkpoint= ModelCheckpoint(\"model_checkpoint.h5\",save_best_only=True)\n",
    "early_stopping = EarlyStopping( patience=250, restore_best_weights=True)"
   ]
  },
  {
   "cell_type": "code",
   "execution_count": 791,
   "metadata": {},
   "outputs": [],
   "source": [
    "training_history=model.fit(x_train,y_train,epochs=1000,batch_size=500,verbose=0,validation_data=[x_test,y_test],callbacks=[checkpoint,early_stopping])"
   ]
  },
  {
   "cell_type": "code",
   "execution_count": 792,
   "metadata": {},
   "outputs": [
    {
     "data": {
      "image/png": "[encoded data removed]",
      "text/plain": [
       "<Figure size 432x288 with 1 Axes>"
      ]
     },
     "metadata": {
      "needs_background": "light"
     },
     "output_type": "display_data"
    },
    {
     "data": {
      "text/plain": [
       "dict_keys(['loss', 'accuracy', 'val_loss', 'val_accuracy'])"
      ]
     },
     "execution_count": 792,
     "metadata": {},
     "output_type": "execute_result"
    }
   ],
   "source": [
    "training_info=training_history.history\n",
    "plot_training(training_info)\n",
    "training_info.keys()"
   ]
  },
  {
   "cell_type": "code",
   "execution_count": 793,
   "metadata": {},
   "outputs": [
    {
     "name": "stdout",
     "output_type": "stream",
     "text": [
      "37/37 [==============================] - 0s 3ms/step\n"
     ]
    },
    {
     "data": {
      "text/plain": [
       "0.9944237918215613"
      ]
     },
     "execution_count": 793,
     "metadata": {},
     "output_type": "execute_result"
    }
   ],
   "source": [
    "predict=model.predict(x_test)\n",
    "auc_score=roc_auc_score(y_test,predict)\n",
    "auc_score"
   ]
  },
  {
   "cell_type": "markdown",
   "metadata": {},
   "source": [
    "x-------------------------x"
   ]
  },
  {
   "cell_type": "markdown",
   "metadata": {},
   "source": [
    "classifying by gradually adding features for F814w<22.5"
   ]
  },
  {
   "cell_type": "code",
   "execution_count": 904,
   "metadata": {},
   "outputs": [
    {
     "data": {
      "text/plain": [
       "(1165, 23)"
      ]
     },
     "execution_count": 904,
     "metadata": {},
     "output_type": "execute_result"
    }
   ],
   "source": [
    "\n",
    "f2=f1.copy(deep=True)\n",
    "f2=f2[f2['f814w']<=22.5]\n",
    "X=f2.drop([\"id\",'g/s','stellar_flag'],axis=1)\n",
    "y=f2['g/s']\n",
    "\n",
    "for i in range(19):\n",
    "    X[str(i)]=-X.iloc[:,i+1]+X.iloc[:,i]\n",
    "\n",
    "X['j-h']=X['j']-X['h']\n",
    "X['h-ks']=X['h']-X['ks']\n",
    "\n",
    "for i in (X.columns):\n",
    "   if i!='f814w': \n",
    "      X.drop(i,axis=1,inplace=True)\n",
    "   else:\n",
    "      break \n",
    "\n",
    "X=MinMaxScaler(feature_range=(0,255)).fit_transform(X)\n",
    "X=pd.DataFrame(X)\n",
    "x_train,x_test,y_train,y_test=train_test_split(X,y,test_size=0.15,random_state=1)\n",
    "\n",
    "x_test.shape"
   ]
  },
  {
   "cell_type": "code",
   "execution_count": 905,
   "metadata": {},
   "outputs": [
    {
     "data": {
      "text/plain": [
       "(6598, 23)"
      ]
     },
     "execution_count": 905,
     "metadata": {},
     "output_type": "execute_result"
    }
   ],
   "source": [
    "x_train.shape"
   ]
  },
  {
   "cell_type": "code",
   "execution_count": 906,
   "metadata": {},
   "outputs": [
    {
     "name": "stdout",
     "output_type": "stream",
     "text": [
      "37/37 [==============================] - 0s 1ms/step\n",
      "37/37 [==============================] - 0s 2ms/step\n",
      "37/37 [==============================] - 0s 2ms/step\n",
      "37/37 [==============================] - 0s 2ms/step\n"
     ]
    }
   ],
   "source": [
    "score_1=[]\n",
    "predicted_class_1=[]\n",
    "\n",
    "for i in (0,2,3,4):\n",
    "    if i==0: \n",
    "        k=4\n",
    "    else: \n",
    "        k=5\n",
    "    model=Sequential()\n",
    "    model.add(Convolution2D(18,kernel_size=(k, 1), input_shape=(19+i,1,1),activation= 'LeakyReLU' ))\n",
    "    model.add(MaxPool2D(pool_size=(3,1)))\n",
    "    model.add(Convolution2D(32,kernel_size=(3, 1),activation= 'LeakyReLU' ))\n",
    "    model.add(MaxPool2D(pool_size=(2,1)))\n",
    "    model.add(Convolution2D(64,kernel_size=(1, 1),activation= 'LeakyReLU' ))\n",
    "    model.add(MaxPool2D(pool_size=(1,1)))\n",
    "    model.add(Dropout(0.3))\n",
    "    model.add(Flatten())\n",
    "    model.add(Dense(1,activation=\"sigmoid\"))\n",
    "    model.compile(loss=\"binary_crossentropy\",optimizer= Adam(learning_rate=0.03),metrics=[\"accuracy\"])\n",
    "\n",
    "    checkpoint= ModelCheckpoint(\"model_checkpoint.h5\",save_best_only=True)\n",
    "    early_stopping = EarlyStopping( patience=250, restore_best_weights=True)\n",
    "    \n",
    "   \n",
    "    x_train_new=x_train.iloc[:,0:19+i].values\n",
    "    x_test_new=x_test.iloc[:,0:19+i].values\n",
    "    y_train_new=y_train.values\n",
    "    y_test_new=y_test.values\n",
    "\n",
    "    trainX = x_train_new.reshape(6598,19+i,1)\n",
    "    trainX = trainX / 255.0\n",
    "    testX = x_test_new.reshape(1165,19+i,1)\n",
    "    testX= testX / 255.0\n",
    "    \n",
    "    \n",
    "    \n",
    "    model.fit(trainX,y_train_new,epochs=1000,batch_size=500,verbose=0,validation_data=[testX,y_test_new],callbacks=[checkpoint,early_stopping])\n",
    "\n",
    "    predict=model.predict(testX)\n",
    "    score_1.append(roc_auc_score(y_test_new,predict))\n",
    "    predict=pd.DataFrame(predict,columns=['pred_class']) \n",
    "    predict.loc[predict[\"pred_class\"]<0.5, \"pred_class\"] = 0\n",
    "    predict.loc[predict[\"pred_class\"]>0.5, \"pred_class\"] = 1\n",
    "    predicted_class_1.append(predict)"
   ]
  },
  {
   "cell_type": "code",
   "execution_count": 907,
   "metadata": {},
   "outputs": [
    {
     "data": {
      "text/plain": [
       "[0.9955606080722251,\n",
       " 0.9951042219861923,\n",
       " 0.9911730781996814,\n",
       " 0.9898972716409985]"
      ]
     },
     "execution_count": 907,
     "metadata": {},
     "output_type": "execute_result"
    }
   ],
   "source": [
    "score_1"
   ]
  },
  {
   "cell_type": "markdown",
   "metadata": {},
   "source": [
    "classifying by gradually adding features for F814w<26"
   ]
  },
  {
   "cell_type": "code",
   "execution_count": 908,
   "metadata": {},
   "outputs": [
    {
     "data": {
      "text/plain": [
       "(4780, 23)"
      ]
     },
     "execution_count": 908,
     "metadata": {},
     "output_type": "execute_result"
    }
   ],
   "source": [
    "f2=f1.copy(deep=True)\n",
    "f2=f2[f2['f814w']<=26]\n",
    "X=f2.drop([\"id\",'g/s','stellar_flag'],axis=1)\n",
    "y=f2['g/s']\n",
    "\n",
    "for i in range(19):\n",
    "    X[str(i)]=-X.iloc[:,i+1]+X.iloc[:,i]\n",
    "\n",
    "X['j-h']=X['j']-X['h']\n",
    "X['h-ks']=X['h']-X['ks']\n",
    "\n",
    "\n",
    "for i in (X.columns):\n",
    "   if i!='f814w': \n",
    "      X.drop(i,axis=1,inplace=True)\n",
    "   else:\n",
    "      break  \n",
    "\n",
    "temp_cols=X.columns.tolist()\n",
    "new_cols=temp_cols[1:] + temp_cols[0:1]\n",
    "X=X[new_cols]\n",
    "\n",
    "temp_cols=X.columns.tolist()\n",
    "new_cols=temp_cols[1:] + temp_cols[0:1]\n",
    "X=X[new_cols]\n",
    "\n",
    "X=MinMaxScaler(feature_range=(0,255)).fit_transform(X)\n",
    "X=pd.DataFrame(X)\n",
    "x_train,x_test,y_train,y_test=train_test_split(X,y,test_size=0.15,random_state=1)\n",
    "\n",
    "x_test.shape"
   ]
  },
  {
   "cell_type": "code",
   "execution_count": 909,
   "metadata": {},
   "outputs": [
    {
     "data": {
      "text/plain": [
       "(27082, 23)"
      ]
     },
     "execution_count": 909,
     "metadata": {},
     "output_type": "execute_result"
    }
   ],
   "source": [
    "x_train.shape"
   ]
  },
  {
   "cell_type": "code",
   "execution_count": 910,
   "metadata": {},
   "outputs": [
    {
     "name": "stdout",
     "output_type": "stream",
     "text": [
      "150/150 [==============================] - 0s 2ms/step\n",
      "150/150 [==============================] - 0s 2ms/step\n",
      "150/150 [==============================] - 0s 2ms/step\n",
      "150/150 [==============================] - 0s 2ms/step\n"
     ]
    }
   ],
   "source": [
    "score_2=[]\n",
    "predicted_class_2=[]\n",
    "\n",
    "for i in (0,2,3,4):\n",
    "    if i==0: \n",
    "        k=3\n",
    "    else: \n",
    "        k=5\n",
    "    model=Sequential()\n",
    "    model.add(Convolution2D(18,kernel_size=(k, 1), input_shape=(19+i,1,1),activation= 'LeakyReLU' ))\n",
    "    model.add(MaxPool2D(pool_size=(3,1)))\n",
    "    model.add(Convolution2D(32,kernel_size=(3, 1),activation= 'LeakyReLU' ))\n",
    "    model.add(MaxPool2D(pool_size=(2,1)))\n",
    "    model.add(Convolution2D(64,kernel_size=(1, 1),activation= 'LeakyReLU' ))\n",
    "    model.add(MaxPool2D(pool_size=(1,1)))\n",
    "    model.add(Dropout(0.3))\n",
    "    model.add(Flatten())\n",
    "    model.add(Dense(1,activation=\"sigmoid\"))\n",
    "    model.compile(loss=\"binary_crossentropy\",optimizer= Adam(learning_rate=0.03),metrics=[\"accuracy\"])\n",
    "\n",
    "    checkpoint= ModelCheckpoint(\"model_checkpoint.h5\",save_best_only=True)\n",
    "    early_stopping = EarlyStopping( patience=250, restore_best_weights=True)\n",
    "    \n",
    "   \n",
    "    x_train_new=x_train.iloc[:,0:19+i].values\n",
    "    x_test_new=x_test.iloc[:,0:19+i].values\n",
    "    y_train_new=y_train.values\n",
    "    y_test_new=y_test.values\n",
    "\n",
    "    trainX = x_train_new.reshape(x_train_new.shape[0],19+i,1)\n",
    "    trainX = trainX / 255.0\n",
    "    testX = x_test_new.reshape(x_test_new.shape[0],19+i,1)\n",
    "    testX= testX / 255.0\n",
    "    \n",
    "    \n",
    "    \n",
    "    model.fit(trainX,y_train_new,epochs=1000,batch_size=500,verbose=0,validation_data=[testX,y_test_new],callbacks=[checkpoint,early_stopping])\n",
    "\n",
    "    predict=model.predict(testX)\n",
    "    score_2.append(roc_auc_score(y_test_new,predict))\n",
    "    predict=pd.DataFrame(predict,columns=['pred_class']) \n",
    "    predict.loc[predict[\"pred_class\"]<0.5, \"pred_class\"] = 0\n",
    "    predict.loc[predict[\"pred_class\"]>0.5, \"pred_class\"] = 1\n",
    "    predicted_class_2.append(predict)"
   ]
  },
  {
   "cell_type": "code",
   "execution_count": 911,
   "metadata": {},
   "outputs": [
    {
     "data": {
      "text/plain": [
       "[0.9415123868322733,\n",
       " 0.9400052795892696,\n",
       " 0.9593343677018433,\n",
       " 0.9510479715333168]"
      ]
     },
     "execution_count": 911,
     "metadata": {},
     "output_type": "execute_result"
    }
   ],
   "source": [
    "score_2"
   ]
  },
  {
   "cell_type": "markdown",
   "metadata": {},
   "source": [
    "x----------------------------x\n"
   ]
  },
  {
   "cell_type": "markdown",
   "metadata": {},
   "source": [
    "now classifying for various ranges of F814w"
   ]
  },
  {
   "cell_type": "code",
   "execution_count": 857,
   "metadata": {},
   "outputs": [
    {
     "name": "stdout",
     "output_type": "stream",
     "text": [
      "37/37 [==============================] - 0s 1ms/step\n",
      "15/15 [==============================] - 0s 2ms/step\n",
      "46/46 [==============================] - 0s 2ms/step\n",
      "45/45 [==============================] - 0s 2ms/step\n",
      "150/150 [==============================] - 0s 2ms/step\n"
     ]
    }
   ],
   "source": [
    "score_814=[]\n",
    "FPS_rate=[]\n",
    "TPS_rate=[]\n",
    "\n",
    "for i,j in zip([22.5,23,24,25,26],[0,22.5,23,24,0]):\n",
    "    \n",
    "    f2=f1.copy(deep=True)\n",
    "    f2=f2[(f2['f814w']<=i)&(f2['f814w']>j)]\n",
    "    X=f2.drop([\"id\",'g/s','stellar_flag'],axis=1)\n",
    "    y=f2['g/s']\n",
    "\n",
    "    for i in range(19):\n",
    "        X[str(i)]=-X.iloc[:,i+1]+X.iloc[:,i]\n",
    "\n",
    "    X['j-h']=X['j']-X['h']\n",
    "    X['h-ks']=X['h']-X['ks']\n",
    "\n",
    "\n",
    "    for i in (X.columns):\n",
    "      if i!='f814w': \n",
    "           X.drop(i,axis=1,inplace=True)\n",
    "      else:\n",
    "           break  \n",
    "\n",
    "    temp_cols=X.columns.tolist()\n",
    "    new_cols=temp_cols[1:] + temp_cols[0:1]\n",
    "    X=X[new_cols]\n",
    "\n",
    "    temp_cols=X.columns.tolist()\n",
    "    new_cols=temp_cols[1:] + temp_cols[0:1]\n",
    "    X=X[new_cols]\n",
    "\n",
    "    X=MinMaxScaler(feature_range=(0,255)).fit_transform(X)\n",
    "    X=pd.DataFrame(X)\n",
    "    x_train,x_test,y_train,y_test=train_test_split(X,y,test_size=0.15,random_state=1)\n",
    "\n",
    "       \n",
    "    \n",
    "    \n",
    "    model=Sequential()\n",
    "    model.add(Convolution2D(18,kernel_size=(5, 1), input_shape=(23,1,1),activation= 'LeakyReLU' ))\n",
    "    model.add(MaxPool2D(pool_size=(3,1)))\n",
    "    model.add(Convolution2D(32,kernel_size=(3, 1),activation= 'LeakyReLU' ))\n",
    "    model.add(MaxPool2D(pool_size=(1,1)))\n",
    "    model.add(Convolution2D(64,kernel_size=(1, 1),activation= 'LeakyReLU' ))\n",
    "    model.add(MaxPool2D(pool_size=(1,1)))\n",
    "    model.add(Dropout(0.3))\n",
    "    model.add(Flatten())\n",
    "    model.add(Dense(1,activation=\"sigmoid\"))\n",
    "    model.compile(loss=\"binary_crossentropy\",optimizer= Adam(learning_rate=0.03),metrics=[\"accuracy\"])\n",
    "\n",
    "    checkpoint= ModelCheckpoint(\"model_checkpoint.h5\",save_best_only=True)\n",
    "    early_stopping = EarlyStopping( patience=250, restore_best_weights=True)\n",
    "\n",
    "    x_train_new=x_train.values\n",
    "    x_test_new=x_test.values\n",
    "    y_train_new=y_train.values\n",
    "    y_test_new=y_test.values\n",
    "    \n",
    "    len_train=x_train_new.shape[0]\n",
    "    len_test=x_test_new.shape[0]\n",
    "\n",
    "    trainX = x_train_new.reshape(len_train,23,1)\n",
    "    trainX = trainX / 255.0\n",
    "    testX = x_test_new.reshape(len_test,23,1)\n",
    "    testX= testX / 255.0\n",
    "    \n",
    "    \n",
    "    \n",
    "    model.fit(trainX,y_train_new,epochs=1000,batch_size=500,verbose=0,validation_data=[testX,y_test_new],callbacks=[checkpoint,early_stopping])\n",
    "\n",
    "    predict=model.predict(testX)\n",
    "    score_814.append(roc_auc_score(y_test_new,predict))\n",
    "    false_positive_rate,true_positive_rate,thresholds= roc_curve(y_test,predict) \n",
    "    FPS_rate.append(false_positive_rate)\n",
    "    TPS_rate.append(true_positive_rate)"
   ]
  },
  {
   "cell_type": "code",
   "execution_count": 858,
   "metadata": {},
   "outputs": [
    {
     "data": {
      "text/plain": [
       "[0.9883040693043016,\n",
       " 0.9060524803677457,\n",
       " 0.7892043377604485,\n",
       " 0.7607692307692308,\n",
       " 0.9516183557311828]"
      ]
     },
     "execution_count": 858,
     "metadata": {},
     "output_type": "execute_result"
    }
   ],
   "source": [
    "score_814"
   ]
  },
  {
   "cell_type": "code",
   "execution_count": 912,
   "metadata": {},
   "outputs": [
    {
     "data": {
      "image/png": "[encoded data removed]",
      "text/plain": [
       "<Figure size 432x288 with 1 Axes>"
      ]
     },
     "metadata": {
      "needs_background": "light"
     },
     "output_type": "display_data"
    }
   ],
   "source": [
    "result_1=pd.DataFrame({'information used':['optical bands','optical bands+NIR','optical bands+NIR+F814','optical bands+NIR+F814+FWHM'],'F814<22.5':score_1,'F814<26':score_2})\n",
    "plt.scatter(['optical bands','optical bands+NIR','optical bands+NIR+F814','optical bands+NIR+F814+FWHM'],score_1,color=\"black\",alpha=1,label=\"F814<22.5\")\n",
    "plt.plot(['optical bands','optical bands+NIR','optical bands+NIR+F814','optical bands+NIR+F814+FWHM'],score_1,color=\"black\",alpha=1,ls='dashed')\n",
    "plt.scatter(['optical bands','optical bands+NIR','optical bands+NIR+F814','optical bands+NIR+F814+FWHM'],score_2,color=\"red\",alpha=1,label=\"F814<26\")\n",
    "plt.plot(['optical bands','optical bands+NIR','optical bands+NIR+F814','optical bands+NIR+F814+FWHM'],score_2,color=\"red\",alpha=1,ls='dashed')\n",
    "plt.ylim(ymax=1)\n",
    "plt.ylabel('AUC score')\n",
    "plt.xlabel('Features')\n",
    "plt.xticks(rotation=20)\n",
    "plt.legend()\n",
    "plt.show()"
   ]
  },
  {
   "cell_type": "code",
   "execution_count": 842,
   "metadata": {},
   "outputs": [
    {
     "data": {
      "text/html": [
       "<div>\n",
       "<style scoped>\n",
       "    .dataframe tbody tr th:only-of-type {\n",
       "        vertical-align: middle;\n",
       "    }\n",
       "\n",
       "    .dataframe tbody tr th {\n",
       "        vertical-align: top;\n",
       "    }\n",
       "\n",
       "    .dataframe thead th {\n",
       "        text-align: right;\n",
       "    }\n",
       "</style>\n",
       "<table border=\"1\" class=\"dataframe\">\n",
       "  <thead>\n",
       "    <tr style=\"text-align: right;\">\n",
       "      <th></th>\n",
       "      <th>information used</th>\n",
       "      <th>F814&lt;22.5</th>\n",
       "      <th>F814&lt;26</th>\n",
       "    </tr>\n",
       "  </thead>\n",
       "  <tbody>\n",
       "    <tr>\n",
       "      <th>0</th>\n",
       "      <td>optical bands</td>\n",
       "      <td>0.994283</td>\n",
       "      <td>0.951770</td>\n",
       "    </tr>\n",
       "    <tr>\n",
       "      <th>1</th>\n",
       "      <td>optical bands+NIR</td>\n",
       "      <td>0.994536</td>\n",
       "      <td>0.936749</td>\n",
       "    </tr>\n",
       "    <tr>\n",
       "      <th>2</th>\n",
       "      <td>optical bands+NIR+F814</td>\n",
       "      <td>0.995386</td>\n",
       "      <td>0.958924</td>\n",
       "    </tr>\n",
       "    <tr>\n",
       "      <th>3</th>\n",
       "      <td>optical bands+NIR+F814+FWHM</td>\n",
       "      <td>0.994602</td>\n",
       "      <td>0.953886</td>\n",
       "    </tr>\n",
       "  </tbody>\n",
       "</table>\n",
       "</div>"
      ],
      "text/plain": [
       "              information used  F814<22.5   F814<26\n",
       "0                optical bands   0.994283  0.951770\n",
       "1            optical bands+NIR   0.994536  0.936749\n",
       "2       optical bands+NIR+F814   0.995386  0.958924\n",
       "3  optical bands+NIR+F814+FWHM   0.994602  0.953886"
      ]
     },
     "execution_count": 842,
     "metadata": {},
     "output_type": "execute_result"
    }
   ],
   "source": [
    "result_1"
   ]
  },
  {
   "cell_type": "code",
   "execution_count": 843,
   "metadata": {},
   "outputs": [
    {
     "data": {
      "image/png": "[encoded data removed]",
      "text/plain": [
       "<Figure size 432x288 with 1 Axes>"
      ]
     },
     "metadata": {
      "needs_background": "light"
     },
     "output_type": "display_data"
    }
   ],
   "source": [
    "result_2=pd.DataFrame({'F814':[\"F814<22.5\",\"22.5<F814<23\",\"23<F814<24\",\"24<F814<25\",\"F814<26\"],'AUC score':score_814})\n",
    "plt.plot(FPS_rate[0],TPS_rate[0],color=\"black\",alpha=1,ls='dashed',label=\"F814<22.5\")\n",
    "plt.plot(FPS_rate[1],TPS_rate[1],color=\"purple\",alpha=1,ls='dashed',label=\"22.5<F814<23\")\n",
    "plt.plot(FPS_rate[2],TPS_rate[2],color=\"green\",alpha=1,ls='dashed',label=\"23<F814<24\")\n",
    "plt.plot(FPS_rate[3],TPS_rate[3],color=\"blue\",alpha=1,ls='dashed',label=\"24<F814<25\")\n",
    "plt.plot(FPS_rate[4],TPS_rate[4],color=\"red\",alpha=1,ls='dashed',label=\"F814<26\")\n",
    "plt.xlabel('False positive rate')\n",
    "plt.ylabel('True positive rate')\n",
    "\n",
    "plt.legend()\n",
    "plt.show()"
   ]
  },
  {
   "cell_type": "code",
   "execution_count": 844,
   "metadata": {},
   "outputs": [
    {
     "data": {
      "text/html": [
       "<div>\n",
       "<style scoped>\n",
       "    .dataframe tbody tr th:only-of-type {\n",
       "        vertical-align: middle;\n",
       "    }\n",
       "\n",
       "    .dataframe tbody tr th {\n",
       "        vertical-align: top;\n",
       "    }\n",
       "\n",
       "    .dataframe thead th {\n",
       "        text-align: right;\n",
       "    }\n",
       "</style>\n",
       "<table border=\"1\" class=\"dataframe\">\n",
       "  <thead>\n",
       "    <tr style=\"text-align: right;\">\n",
       "      <th></th>\n",
       "      <th>F814</th>\n",
       "      <th>AUC score</th>\n",
       "    </tr>\n",
       "  </thead>\n",
       "  <tbody>\n",
       "    <tr>\n",
       "      <th>0</th>\n",
       "      <td>F814&lt;22.5</td>\n",
       "      <td>0.988491</td>\n",
       "    </tr>\n",
       "    <tr>\n",
       "      <th>1</th>\n",
       "      <td>22.5&lt;F814&lt;23</td>\n",
       "      <td>0.898487</td>\n",
       "    </tr>\n",
       "    <tr>\n",
       "      <th>2</th>\n",
       "      <td>23&lt;F814&lt;24</td>\n",
       "      <td>0.818521</td>\n",
       "    </tr>\n",
       "    <tr>\n",
       "      <th>3</th>\n",
       "      <td>24&lt;F814&lt;25</td>\n",
       "      <td>0.700714</td>\n",
       "    </tr>\n",
       "    <tr>\n",
       "      <th>4</th>\n",
       "      <td>F814&lt;26</td>\n",
       "      <td>0.944958</td>\n",
       "    </tr>\n",
       "  </tbody>\n",
       "</table>\n",
       "</div>"
      ],
      "text/plain": [
       "           F814  AUC score\n",
       "0     F814<22.5   0.988491\n",
       "1  22.5<F814<23   0.898487\n",
       "2    23<F814<24   0.818521\n",
       "3    24<F814<25   0.700714\n",
       "4       F814<26   0.944958"
      ]
     },
     "execution_count": 844,
     "metadata": {},
     "output_type": "execute_result"
    }
   ],
   "source": [
    "result_2"
   ]
  },
  {
   "cell_type": "markdown",
   "metadata": {},
   "source": [
    "comparing our pridctions with ALHAMBRA stellar flags"
   ]
  },
  {
   "cell_type": "code",
   "execution_count": 867,
   "metadata": {},
   "outputs": [
    {
     "data": {
      "text/html": [
       "<div>\n",
       "<style scoped>\n",
       "    .dataframe tbody tr th:only-of-type {\n",
       "        vertical-align: middle;\n",
       "    }\n",
       "\n",
       "    .dataframe tbody tr th {\n",
       "        vertical-align: top;\n",
       "    }\n",
       "\n",
       "    .dataframe thead th {\n",
       "        text-align: right;\n",
       "    }\n",
       "</style>\n",
       "<table border=\"1\" class=\"dataframe\">\n",
       "  <thead>\n",
       "    <tr style=\"text-align: right;\">\n",
       "      <th></th>\n",
       "      <th>pred_class</th>\n",
       "      <th>stellar_flag</th>\n",
       "    </tr>\n",
       "  </thead>\n",
       "  <tbody>\n",
       "    <tr>\n",
       "      <th>4</th>\n",
       "      <td>0.0</td>\n",
       "      <td>0.0</td>\n",
       "    </tr>\n",
       "    <tr>\n",
       "      <th>15</th>\n",
       "      <td>0.0</td>\n",
       "      <td>0.0</td>\n",
       "    </tr>\n",
       "    <tr>\n",
       "      <th>19</th>\n",
       "      <td>0.0</td>\n",
       "      <td>0.0</td>\n",
       "    </tr>\n",
       "    <tr>\n",
       "      <th>31</th>\n",
       "      <td>0.0</td>\n",
       "      <td>0.0</td>\n",
       "    </tr>\n",
       "    <tr>\n",
       "      <th>34</th>\n",
       "      <td>0.0</td>\n",
       "      <td>0.0</td>\n",
       "    </tr>\n",
       "    <tr>\n",
       "      <th>...</th>\n",
       "      <td>...</td>\n",
       "      <td>...</td>\n",
       "    </tr>\n",
       "    <tr>\n",
       "      <th>4767</th>\n",
       "      <td>0.0</td>\n",
       "      <td>0.0</td>\n",
       "    </tr>\n",
       "    <tr>\n",
       "      <th>4771</th>\n",
       "      <td>1.0</td>\n",
       "      <td>1.0</td>\n",
       "    </tr>\n",
       "    <tr>\n",
       "      <th>4774</th>\n",
       "      <td>0.0</td>\n",
       "      <td>0.0</td>\n",
       "    </tr>\n",
       "    <tr>\n",
       "      <th>4777</th>\n",
       "      <td>0.0</td>\n",
       "      <td>0.0</td>\n",
       "    </tr>\n",
       "    <tr>\n",
       "      <th>4778</th>\n",
       "      <td>1.0</td>\n",
       "      <td>1.0</td>\n",
       "    </tr>\n",
       "  </tbody>\n",
       "</table>\n",
       "<p>1151 rows × 2 columns</p>\n",
       "</div>"
      ],
      "text/plain": [
       "      pred_class  stellar_flag\n",
       "4            0.0           0.0\n",
       "15           0.0           0.0\n",
       "19           0.0           0.0\n",
       "31           0.0           0.0\n",
       "34           0.0           0.0\n",
       "...          ...           ...\n",
       "4767         0.0           0.0\n",
       "4771         1.0           1.0\n",
       "4774         0.0           0.0\n",
       "4777         0.0           0.0\n",
       "4778         1.0           1.0\n",
       "\n",
       "[1151 rows x 2 columns]"
      ]
     },
     "execution_count": 867,
     "metadata": {},
     "output_type": "execute_result"
    }
   ],
   "source": [
    "f4=f1.copy(deep=True)\n",
    "f4=f4[f4['f814w']<26]\n",
    "X=f4.drop(['g/s'],axis=1)\n",
    "y=f4['g/s']\n",
    "x_train,x_test,y_train,y_test=train_test_split(X,y,test_size=0.15,random_state=1)\n",
    "x_test=pd.DataFrame(data=x_test['stellar_flag'],columns=['stellar_flag'])\n",
    "x_test=x_test.reset_index()\n",
    "x_test.drop('index',axis=1,inplace=True)\n",
    "all_class=predicted_class_2[3].merge(x_test,left_index=True,right_index=True)\n",
    "all_class.drop(all_class[all_class['stellar_flag']==0.5].index,inplace=True)\n",
    "all_class.loc[all_class[\"stellar_flag\"]<0.5, \"stellar_flag\"] = 0\n",
    "all_class.loc[all_class[\"stellar_flag\"]>0.5, \"stellar_flag\"] = 1\n",
    "\n",
    "all_class"
   ]
  },
  {
   "cell_type": "code",
   "execution_count": 868,
   "metadata": {},
   "outputs": [
    {
     "data": {
      "text/plain": [
       "0.9626411815812337"
      ]
     },
     "execution_count": 868,
     "metadata": {},
     "output_type": "execute_result"
    }
   ],
   "source": [
    "from sklearn.metrics import accuracy_score\n",
    "accuracy_score(all_class['stellar_flag'],all_class['pred_class'])"
   ]
  },
  {
   "cell_type": "markdown",
   "metadata": {},
   "source": [
    "# ranking of features"
   ]
  },
  {
   "cell_type": "code",
   "execution_count": 253,
   "metadata": {},
   "outputs": [
    {
     "data": {
      "image/png": "[encoded data removed]",
      "text/plain": [
       "<Figure size 432x288 with 1 Axes>"
      ]
     },
     "metadata": {
      "needs_background": "light"
     },
     "output_type": "display_data"
    }
   ],
   "source": [
    "f2=f1.copy(deep=True)\n",
    "f2=f2[f2['f814w']<=22.5]\n",
    "X=f2.drop([\"id\",'g/s','stellar_flag'],axis=1)\n",
    "y=f2['g/s']\n",
    "\n",
    "for i in range(19):\n",
    "    X[str(i)]=-X.iloc[:,i+1]+X.iloc[:,i]\n",
    "\n",
    "X['j-h']=X['j']-X['h']\n",
    "X['h-ks']=X['h']-X['ks']\n",
    "\n",
    "for i in (X.columns):\n",
    "   if i!='f814w': \n",
    "      X.drop(i,axis=1,inplace=True)\n",
    "   else:\n",
    "      break \n",
    "\n",
    "X=MinMaxScaler(feature_range=(0,255)).fit_transform(X)\n",
    "X=pd.DataFrame(X)\n",
    "x_train,x_test,y_train,y_test=train_test_split(X,y,test_size=0.15,random_state=1)\n",
    "\n",
    "\n",
    "\n",
    "\n",
    "\n",
    "ada=AdaBoostClassifier(n_estimators=100,base_estimator=(DecisionTreeClassifier(max_depth=4))).fit(x_train,y_train)\n",
    "feature_importances = pd.DataFrame(ada.feature_importances_, index =x_train.columns,  columns=['importance']).sort_values('importance', ascending=False)\n",
    "feature_importances.plot.bar()    # plotting ranking based on their importance   \n",
    "plt.show()"
   ]
  },
  {
   "cell_type": "code",
   "execution_count": 255,
   "metadata": {},
   "outputs": [
    {
     "data": {
      "image/png": "[encoded data removed]",
      "text/plain": [
       "<Figure size 432x288 with 1 Axes>"
      ]
     },
     "metadata": {
      "needs_background": "light"
     },
     "output_type": "display_data"
    }
   ],
   "source": [
    "f2=f1.copy(deep=True)\n",
    "f2=f2[f2['f814w']<=22.5]\n",
    "X=f2.drop([\"id\",'g/s','stellar_flag'],axis=1)\n",
    "y=f2['g/s']\n",
    "\n",
    "for i in range(19):\n",
    "    X[str(i)]=-X.iloc[:,i+1]+X.iloc[:,i]\n",
    "\n",
    "X['j-h']=X['j']-X['h']\n",
    "X['h-ks']=X['h']-X['ks']\n",
    "\n",
    "for i in (X.columns):\n",
    "   if i!='f814w': \n",
    "      X.drop(i,axis=1,inplace=True)\n",
    "   else:\n",
    "      break \n",
    "\n",
    "X=MinMaxScaler(feature_range=(0,255)).fit_transform(X)\n",
    "X=pd.DataFrame(X)\n",
    "x_train,x_test,y_train,y_test=train_test_split(X,y,test_size=0.15,random_state=1)\n",
    "\n",
    "\n",
    "\n",
    "rf=RandomForestClassifier(min_samples_split=2,n_jobs=-1).fit(x_train,y_train)\n",
    "feature_importances = pd.DataFrame(rf.feature_importances_, index =x_train.columns,  columns=['importance']).sort_values('importance', ascending=False)\n",
    "feature_importances.plot.bar()    # plotting ranking based on their importance   \n",
    "plt.show()"
   ]
  },
  {
   "cell_type": "markdown",
   "metadata": {},
   "source": [
    "in these ranking of features 0: f365-f396, 1: f396-f427, 3:f458-f459, 13: f768-f799, 21: f814w, 22: FWHM "
   ]
  },
  {
   "cell_type": "markdown",
   "metadata": {},
   "source": [
    "correlation of features"
   ]
  },
  {
   "cell_type": "code",
   "execution_count": 259,
   "metadata": {},
   "outputs": [
    {
     "data": {
      "text/plain": [
       "Index(['id', 'f365w', 'f396w', 'f427w', 'f458w', 'f489w', 'f520w', 'f551w',\n",
       "       'f582w', 'f613w', 'f644w', 'f675w', 'f706w', 'f737w', 'f768w', 'f799w',\n",
       "       'f830w', 'f861w', 'f892w', 'f923w', 'f954w', 'j', 'h', 'ks', 'f814w',\n",
       "       'fwhm', 'stellar_flag', 'g/s'],\n",
       "      dtype='object')"
      ]
     },
     "execution_count": 259,
     "metadata": {},
     "output_type": "execute_result"
    }
   ],
   "source": [
    "f1.columns"
   ]
  },
  {
   "cell_type": "code",
   "execution_count": 869,
   "metadata": {},
   "outputs": [],
   "source": [
    "f2=f1.copy(deep=True)\n",
    "f2=f2[f2['f814w']<=22.5]\n",
    "X=f2.drop([\"id\",'g/s','stellar_flag'],axis=1)\n",
    "y=f2['g/s']\n",
    "\n",
    "for i in range(19):\n",
    "    X[str(i)]=-X.iloc[:,i+1]+X.iloc[:,i]\n",
    "\n",
    "X['j-h']=X['j']-X['h']\n",
    "X['h-ks']=X['h']-X['ks']\n",
    "\n",
    "for i in (X.columns):\n",
    "   if i!='f814w': \n",
    "      X.drop(i,axis=1,inplace=True)\n",
    "   else:\n",
    "      break \n",
    "\n",
    "X=MinMaxScaler(feature_range=(0,255)).fit_transform(X)\n",
    "X=pd.DataFrame(X)\n",
    "X=X[[0,1,3,13,21,22]]\n",
    "x_train,x_test,y_train,y_test=train_test_split(X,y,test_size=0.15,random_state=1)"
   ]
  },
  {
   "cell_type": "code",
   "execution_count": 870,
   "metadata": {},
   "outputs": [
    {
     "name": "stdout",
     "output_type": "stream",
     "text": [
      "(6598, 6) (1165, 6)\n"
     ]
    }
   ],
   "source": [
    "print(x_train.shape,x_test.shape)"
   ]
  },
  {
   "cell_type": "code",
   "execution_count": 871,
   "metadata": {},
   "outputs": [],
   "source": [
    "x_train=x_train.values\n",
    "x_test=x_test.values\n",
    "\n",
    "\n",
    "trainX = x_train.reshape(6598,6,1)           \n",
    "x_train = trainX / 255.0\n",
    "testX = x_test.reshape(1165, 6,1)\n",
    "x_test = testX / 255.0"
   ]
  },
  {
   "cell_type": "code",
   "execution_count": 872,
   "metadata": {},
   "outputs": [],
   "source": [
    "model=Sequential()\n",
    "model.add(Convolution2D(32,kernel_size=(3, 1), input_shape=(6,1,1),activation= 'LeakyReLU' ))\n",
    "model.add(MaxPool2D(pool_size=(2,1)))\n",
    "model.add(Convolution2D(64,kernel_size=(2, 1),activation= 'LeakyReLU' ))\n",
    "model.add(MaxPool2D(pool_size=(1,1)))\n",
    "model.add(Dropout(0.3))\n",
    "model.add(Flatten())\n",
    "model.add(Dense(1,activation=\"sigmoid\"))\n",
    "model.compile(loss=\"binary_crossentropy\",optimizer= Adam(learning_rate=0.03),metrics=[\"accuracy\"])\n",
    "\n",
    "checkpoint= ModelCheckpoint(\"model_checkpoint.h5\",save_best_only=True)\n",
    "early_stopping = EarlyStopping( patience=250, restore_best_weights=True)"
   ]
  },
  {
   "cell_type": "code",
   "execution_count": 873,
   "metadata": {},
   "outputs": [],
   "source": [
    "training_history=model.fit(x_train,y_train,epochs=1000,batch_size=500,verbose=0,validation_data=[x_test,y_test],callbacks=[checkpoint,early_stopping])"
   ]
  },
  {
   "cell_type": "code",
   "execution_count": 874,
   "metadata": {},
   "outputs": [
    {
     "data": {
      "image/png": "[encoded data removed]",
      "text/plain": [
       "<Figure size 432x288 with 1 Axes>"
      ]
     },
     "metadata": {
      "needs_background": "light"
     },
     "output_type": "display_data"
    },
    {
     "data": {
      "text/plain": [
       "dict_keys(['loss', 'accuracy', 'val_loss', 'val_accuracy'])"
      ]
     },
     "execution_count": 874,
     "metadata": {},
     "output_type": "execute_result"
    }
   ],
   "source": [
    "training_info=training_history.history\n",
    "plot_training(training_info)\n",
    "training_info.keys()"
   ]
  },
  {
   "cell_type": "code",
   "execution_count": 875,
   "metadata": {},
   "outputs": [
    {
     "name": "stdout",
     "output_type": "stream",
     "text": [
      "37/37 [==============================] - 0s 989us/step\n"
     ]
    },
    {
     "data": {
      "text/plain": [
       "0.9949839020180562"
      ]
     },
     "execution_count": 875,
     "metadata": {},
     "output_type": "execute_result"
    }
   ],
   "source": [
    "predict=model.predict(x_test)\n",
    "auc_score=roc_auc_score(y_test,predict)\n",
    "auc_score"
   ]
  },
  {
   "cell_type": "markdown",
   "metadata": {},
   "source": [
    "x-----------------------------x"
   ]
  },
  {
   "cell_type": "markdown",
   "metadata": {},
   "source": [
    "XGBoost"
   ]
  },
  {
   "cell_type": "code",
   "execution_count": 883,
   "metadata": {},
   "outputs": [
    {
     "name": "stdout",
     "output_type": "stream",
     "text": [
      "(1165, 23) (6598, 23)\n"
     ]
    }
   ],
   "source": [
    "f2=f1.copy(deep=True)\n",
    "f2=f2[f2['f814w']<=22.5]\n",
    "X=f2.drop([\"id\",'g/s','stellar_flag'],axis=1)\n",
    "y=f2['g/s']\n",
    "\n",
    "for i in range(19):\n",
    "    X[str(i)]=-X.iloc[:,i+1]+X.iloc[:,i]\n",
    "\n",
    "X['j-h']=X['j']-X['h']\n",
    "X['h-ks']=X['h']-X['ks']\n",
    "\n",
    "\n",
    "for i in (X.columns):\n",
    "   if i!='f814w': \n",
    "      X.drop(i,axis=1,inplace=True)\n",
    "   else:\n",
    "      break  \n",
    "\n",
    "\n",
    "X=MinMaxScaler(feature_range=(0,255)).fit_transform(X)\n",
    "X=pd.DataFrame(X)\n",
    "x_train,x_test,y_train,y_test=train_test_split(X,y,test_size=0.15,random_state=1)\n",
    "\n",
    "\n",
    "print(x_test.shape,x_train.shape)"
   ]
  },
  {
   "cell_type": "code",
   "execution_count": 878,
   "metadata": {},
   "outputs": [
    {
     "name": "stdout",
     "output_type": "stream",
     "text": [
      "{'gamma': 0, 'learning_rate': 0.3, 'max_depth': 6, 'n_estimators': 80, 'reg_alpha': 0, 'scale_pos_weight': 3.5}\n"
     ]
    }
   ],
   "source": [
    "param_grid={\n",
    "    'n_estimators':[80,100,120],\n",
    "    'max_depth':[4,6,8],\n",
    "    'learning_rate':[0.1,0.3],\n",
    "    'gamma':[0,0.1,0.2],\n",
    "    'scale_pos_weight':[1,3.5],\n",
    "    'reg_alpha':[0,1,5]\n",
    "}\n",
    "\n",
    "cv=GridSearchCV(estimator=xgc(),param_grid=param_grid,cv=5,n_jobs=-1)\n",
    "cv.fit(x_train,y_train)\n",
    "print(cv.best_params_)"
   ]
  },
  {
   "cell_type": "code",
   "execution_count": 879,
   "metadata": {},
   "outputs": [
    {
     "data": {
      "text/plain": [
       "0.9953407129580457"
      ]
     },
     "execution_count": 879,
     "metadata": {},
     "output_type": "execute_result"
    }
   ],
   "source": [
    "XGC=xgc(gamma= 0, learning_rate= 0.3, max_depth= 6, n_estimators =80, reg_alpha= 0, scale_pos_weight= 3.5)\n",
    "XGC.fit(x_train,y_train)\n",
    "predict=XGC.predict_proba(x_test)\n",
    "\n",
    "predict=pd.DataFrame(data=predict)\n",
    "predict=predict[1].values\n",
    "auc_score=roc_auc_score(y_test,predict)\n",
    "auc_score"
   ]
  },
  {
   "cell_type": "markdown",
   "metadata": {},
   "source": [
    "for different features, f814w <22.5"
   ]
  },
  {
   "cell_type": "code",
   "execution_count": 900,
   "metadata": {},
   "outputs": [],
   "source": [
    "score_xg=[]\n",
    "predicted_class_xg=[]\n",
    "\n",
    "for i in (0,2,3,4):\n",
    "    if i==0: \n",
    "        k=3\n",
    "    else: \n",
    "        k=5\n",
    "\n",
    "    x_train_new=x_train.iloc[:,0:19+i]\n",
    "    x_test_new=x_test.iloc[:,0:19+i]\n",
    "    \n",
    "    \n",
    "    XGC=xgc(gamma= 0.2, learning_rate= 0.3, max_depth= 6, n_estimators =80, reg_alpha= 1, scale_pos_weight= 3.5)\n",
    "    XGC.fit(x_train_new,y_train)\n",
    "    predict=XGC.predict_proba(x_test_new)\n",
    "    predict=pd.DataFrame(data=predict)\n",
    "    predict=predict[1].values\n",
    "   \n",
    "\n",
    "    score_xg.append(roc_auc_score(y_test,predict))\n",
    "    predict=pd.DataFrame(predict,columns=['pred_class']) \n",
    "    predict.loc[predict[\"pred_class\"]<0.5, \"pred_class\"] = 0\n",
    "    predict.loc[predict[\"pred_class\"]>0.5, \"pred_class\"] = 1\n",
    "    predicted_class_xg.append(predict)"
   ]
  },
  {
   "cell_type": "code",
   "execution_count": 901,
   "metadata": {},
   "outputs": [
    {
     "data": {
      "text/plain": [
       "[0.9942121946362188,\n",
       " 0.9942412373871482,\n",
       " 0.9928056956983538,\n",
       " 0.9954402881040891]"
      ]
     },
     "execution_count": 901,
     "metadata": {},
     "output_type": "execute_result"
    }
   ],
   "source": [
    "score_xg"
   ]
  },
  {
   "cell_type": "markdown",
   "metadata": {},
   "source": [
    "for different ranges"
   ]
  },
  {
   "cell_type": "code",
   "execution_count": 902,
   "metadata": {},
   "outputs": [],
   "source": [
    "score_814_xg=[]\n",
    "FPS_rate_xg=[]\n",
    "TPS_rate_xg=[]\n",
    "\n",
    "for i,j in zip([22.5,23,24,25,26],[0,22.5,23,24,0]):\n",
    "   \n",
    "    f2=f1.copy(deep=True)\n",
    "    f2=f2[(f2['f814w']<=i)&(f2['f814w']>j)]\n",
    "    X=f2.drop([\"id\",'g/s','stellar_flag'],axis=1)\n",
    "    y=f2['g/s']\n",
    "\n",
    "    for i in range(19):\n",
    "        X[str(i)]=-X.iloc[:,i+1]+X.iloc[:,i]\n",
    "\n",
    "    X['j-h']=X['j']-X['h']\n",
    "    X['h-ks']=X['h']-X['ks']\n",
    "\n",
    "\n",
    "    for i in (X.columns):\n",
    "      if i!='f814w': \n",
    "           X.drop(i,axis=1,inplace=True)\n",
    "      else:\n",
    "           break  \n",
    "\n",
    "    temp_cols=X.columns.tolist()\n",
    "    new_cols=temp_cols[1:] + temp_cols[0:1]\n",
    "    X=X[new_cols]\n",
    "\n",
    "    temp_cols=X.columns.tolist()\n",
    "    new_cols=temp_cols[1:] + temp_cols[0:1]\n",
    "    X=X[new_cols]\n",
    "\n",
    "    X=MinMaxScaler(feature_range=(0,255)).fit_transform(X)\n",
    "    X=pd.DataFrame(X)\n",
    "    x_train,x_test,y_train,y_test=train_test_split(X,y,test_size=0.15,random_state=1)\n",
    "\n",
    "    \n",
    "    XGC=xgc(gamma= 0.2, learning_rate= 0.3, max_depth= 6, n_estimators =80, reg_alpha= 1, scale_pos_weight= 3.5)\n",
    "    XGC.fit(x_train,y_train)\n",
    "    predict=XGC.predict_proba(x_test)\n",
    "    predict=pd.DataFrame(data=predict)\n",
    "    predict=predict[1].values\n",
    "    \n",
    "    score_814_xg.append(roc_auc_score(y_test,predict))\n",
    "    false_positive_rate,true_positive_rate,thresholds= roc_curve(y_test,predict) \n",
    "    FPS_rate_xg.append(false_positive_rate)\n",
    "    TPS_rate_xg.append(true_positive_rate)"
   ]
  },
  {
   "cell_type": "code",
   "execution_count": 903,
   "metadata": {},
   "outputs": [
    {
     "data": {
      "text/plain": [
       "[0.995066881306426,\n",
       " 0.9303773223520398,\n",
       " 0.8711100280248568,\n",
       " 0.7913186813186813,\n",
       " 0.9714767496047041]"
      ]
     },
     "execution_count": 903,
     "metadata": {},
     "output_type": "execute_result"
    }
   ],
   "source": [
    "score_814_xg"
   ]
  },
  {
   "cell_type": "markdown",
   "metadata": {},
   "source": [
    "for f814w<=26"
   ]
  },
  {
   "cell_type": "code",
   "execution_count": 913,
   "metadata": {},
   "outputs": [
    {
     "name": "stdout",
     "output_type": "stream",
     "text": [
      "(4780, 23) (27082, 23)\n"
     ]
    }
   ],
   "source": [
    "f2=f1.copy(deep=True)\n",
    "f2=f2[f2['f814w']<=26]\n",
    "X=f2.drop([\"id\",'g/s','stellar_flag'],axis=1)\n",
    "y=f2['g/s']\n",
    "\n",
    "for i in range(19):\n",
    "    X[str(i)]=-X.iloc[:,i+1]+X.iloc[:,i]\n",
    "\n",
    "X['j-h']=X['j']-X['h']\n",
    "X['h-ks']=X['h']-X['ks']\n",
    "\n",
    "\n",
    "for i in (X.columns):\n",
    "   if i!='f814w': \n",
    "      X.drop(i,axis=1,inplace=True)\n",
    "   else:\n",
    "      break  \n",
    "\n",
    "\n",
    "X=MinMaxScaler(feature_range=(0,255)).fit_transform(X)\n",
    "X=pd.DataFrame(X)\n",
    "x_train,x_test,y_train,y_test=train_test_split(X,y,test_size=0.15,random_state=1)\n",
    "\n",
    "\n",
    "print(x_test.shape,x_train.shape)"
   ]
  },
  {
   "cell_type": "code",
   "execution_count": 918,
   "metadata": {},
   "outputs": [],
   "source": [
    "score_xg_2=[]\n",
    "predicted_class_xg_2=[]\n",
    "\n",
    "for i in (0,2,3,4):\n",
    "    if i==0: \n",
    "        k=3\n",
    "    else: \n",
    "        k=5\n",
    "\n",
    "    x_train_new=x_train.iloc[:,0:19+i]\n",
    "    x_test_new=x_test.iloc[:,0:19+i]\n",
    "    \n",
    "    \n",
    "    XGC=xgc()\n",
    "    XGC.fit(x_train_new,y_train)\n",
    "    predict=XGC.predict_proba(x_test_new)\n",
    "    predict=pd.DataFrame(data=predict)\n",
    "    predict=predict[1].values\n",
    "   \n",
    "\n",
    "    score_xg_2.append(roc_auc_score(y_test,predict))\n",
    "    predict=pd.DataFrame(predict,columns=['pred_class']) \n",
    "    predict.loc[predict[\"pred_class\"]<0.5, \"pred_class\"] = 0\n",
    "    predict.loc[predict[\"pred_class\"]>0.5, \"pred_class\"] = 1\n",
    "    predicted_class_xg_2.append(predict)"
   ]
  },
  {
   "cell_type": "code",
   "execution_count": 919,
   "metadata": {},
   "outputs": [
    {
     "data": {
      "text/plain": [
       "[0.9694127265038075,\n",
       " 0.9664389170377194,\n",
       " 0.9717131189712344,\n",
       " 0.9782230410972925]"
      ]
     },
     "execution_count": 919,
     "metadata": {},
     "output_type": "execute_result"
    }
   ],
   "source": [
    "score_xg_2"
   ]
  },
  {
   "cell_type": "code",
   "execution_count": 920,
   "metadata": {},
   "outputs": [
    {
     "data": {
      "image/png": "[encoded data removed]",
      "text/plain": [
       "<Figure size 432x288 with 1 Axes>"
      ]
     },
     "metadata": {
      "needs_background": "light"
     },
     "output_type": "display_data"
    }
   ],
   "source": [
    "result_1=pd.DataFrame({'information used':['optical bands','optical bands+NIR','optical bands+NIR+F814','optical bands+NIR+F814+FWHM'],'F814<22.5':score_xg,'F814<26':score_xg_2})\n",
    "plt.scatter(['optical bands','optical bands+NIR','optical bands+NIR+F814','optical bands+NIR+F814+FWHM'],score_xg,color=\"black\",alpha=1,label=\"F814<22.5\")\n",
    "plt.plot(['optical bands','optical bands+NIR','optical bands+NIR+F814','optical bands+NIR+F814+FWHM'],score_xg,color=\"black\",alpha=1,ls='dashed')\n",
    "plt.scatter(['optical bands','optical bands+NIR','optical bands+NIR+F814','optical bands+NIR+F814+FWHM'],score_xg_2,color=\"red\",alpha=1,label=\"F814<26\")\n",
    "plt.plot(['optical bands','optical bands+NIR','optical bands+NIR+F814','optical bands+NIR+F814+FWHM'],score_xg_2,color=\"red\",alpha=1,ls='dashed')\n",
    "plt.ylim(ymax=1)\n",
    "plt.ylabel('AUC score')\n",
    "plt.xlabel('Features')\n",
    "plt.xticks(rotation=20)\n",
    "plt.legend()\n",
    "plt.show()"
   ]
  },
  {
   "cell_type": "code",
   "execution_count": 921,
   "metadata": {},
   "outputs": [
    {
     "data": {
      "text/html": [
       "<div>\n",
       "<style scoped>\n",
       "    .dataframe tbody tr th:only-of-type {\n",
       "        vertical-align: middle;\n",
       "    }\n",
       "\n",
       "    .dataframe tbody tr th {\n",
       "        vertical-align: top;\n",
       "    }\n",
       "\n",
       "    .dataframe thead th {\n",
       "        text-align: right;\n",
       "    }\n",
       "</style>\n",
       "<table border=\"1\" class=\"dataframe\">\n",
       "  <thead>\n",
       "    <tr style=\"text-align: right;\">\n",
       "      <th></th>\n",
       "      <th>information used</th>\n",
       "      <th>F814&lt;22.5</th>\n",
       "      <th>F814&lt;26</th>\n",
       "    </tr>\n",
       "  </thead>\n",
       "  <tbody>\n",
       "    <tr>\n",
       "      <th>0</th>\n",
       "      <td>optical bands</td>\n",
       "      <td>0.994212</td>\n",
       "      <td>0.969413</td>\n",
       "    </tr>\n",
       "    <tr>\n",
       "      <th>1</th>\n",
       "      <td>optical bands+NIR</td>\n",
       "      <td>0.994241</td>\n",
       "      <td>0.966439</td>\n",
       "    </tr>\n",
       "    <tr>\n",
       "      <th>2</th>\n",
       "      <td>optical bands+NIR+F814</td>\n",
       "      <td>0.992806</td>\n",
       "      <td>0.971713</td>\n",
       "    </tr>\n",
       "    <tr>\n",
       "      <th>3</th>\n",
       "      <td>optical bands+NIR+F814+FWHM</td>\n",
       "      <td>0.995440</td>\n",
       "      <td>0.978223</td>\n",
       "    </tr>\n",
       "  </tbody>\n",
       "</table>\n",
       "</div>"
      ],
      "text/plain": [
       "              information used  F814<22.5   F814<26\n",
       "0                optical bands   0.994212  0.969413\n",
       "1            optical bands+NIR   0.994241  0.966439\n",
       "2       optical bands+NIR+F814   0.992806  0.971713\n",
       "3  optical bands+NIR+F814+FWHM   0.995440  0.978223"
      ]
     },
     "execution_count": 921,
     "metadata": {},
     "output_type": "execute_result"
    }
   ],
   "source": [
    "result_1"
   ]
  },
  {
   "cell_type": "code",
   "execution_count": 922,
   "metadata": {},
   "outputs": [
    {
     "data": {
      "image/png": "[encoded data removed]",
      "text/plain": [
       "<Figure size 432x288 with 1 Axes>"
      ]
     },
     "metadata": {
      "needs_background": "light"
     },
     "output_type": "display_data"
    }
   ],
   "source": [
    "result_2=pd.DataFrame({'F814':[\"F814<22.5\",\"22.5<F814<23\",\"23<F814<24\",\"24<F814<25\",\"F814<26\"],'AUC score':score_814_xg})\n",
    "plt.plot(FPS_rate_xg[0],TPS_rate_xg[0],color=\"black\",alpha=1,ls='dashed',label=\"F814<22.5\")\n",
    "plt.plot(FPS_rate_xg[1],TPS_rate_xg[1],color=\"purple\",alpha=1,ls='dashed',label=\"22.5<F814<23\")\n",
    "plt.plot(FPS_rate_xg[2],TPS_rate_xg[2],color=\"green\",alpha=1,ls='dashed',label=\"23<F814<24\")\n",
    "plt.plot(FPS_rate_xg[3],TPS_rate_xg[3],color=\"blue\",alpha=1,ls='dashed',label=\"24<F814<25\")\n",
    "plt.plot(FPS_rate_xg[4],TPS_rate_xg[4],color=\"red\",alpha=1,ls='dashed',label=\"F814<26\")\n",
    "plt.xlabel('False positive rate')\n",
    "plt.ylabel('True positive rate')\n",
    "\n",
    "plt.legend()\n",
    "plt.show()"
   ]
  },
  {
   "cell_type": "code",
   "execution_count": 923,
   "metadata": {},
   "outputs": [
    {
     "data": {
      "text/html": [
       "<div>\n",
       "<style scoped>\n",
       "    .dataframe tbody tr th:only-of-type {\n",
       "        vertical-align: middle;\n",
       "    }\n",
       "\n",
       "    .dataframe tbody tr th {\n",
       "        vertical-align: top;\n",
       "    }\n",
       "\n",
       "    .dataframe thead th {\n",
       "        text-align: right;\n",
       "    }\n",
       "</style>\n",
       "<table border=\"1\" class=\"dataframe\">\n",
       "  <thead>\n",
       "    <tr style=\"text-align: right;\">\n",
       "      <th></th>\n",
       "      <th>F814</th>\n",
       "      <th>AUC score</th>\n",
       "    </tr>\n",
       "  </thead>\n",
       "  <tbody>\n",
       "    <tr>\n",
       "      <th>0</th>\n",
       "      <td>F814&lt;22.5</td>\n",
       "      <td>0.995067</td>\n",
       "    </tr>\n",
       "    <tr>\n",
       "      <th>1</th>\n",
       "      <td>22.5&lt;F814&lt;23</td>\n",
       "      <td>0.930377</td>\n",
       "    </tr>\n",
       "    <tr>\n",
       "      <th>2</th>\n",
       "      <td>23&lt;F814&lt;24</td>\n",
       "      <td>0.871110</td>\n",
       "    </tr>\n",
       "    <tr>\n",
       "      <th>3</th>\n",
       "      <td>24&lt;F814&lt;25</td>\n",
       "      <td>0.791319</td>\n",
       "    </tr>\n",
       "    <tr>\n",
       "      <th>4</th>\n",
       "      <td>F814&lt;26</td>\n",
       "      <td>0.971477</td>\n",
       "    </tr>\n",
       "  </tbody>\n",
       "</table>\n",
       "</div>"
      ],
      "text/plain": [
       "           F814  AUC score\n",
       "0     F814<22.5   0.995067\n",
       "1  22.5<F814<23   0.930377\n",
       "2    23<F814<24   0.871110\n",
       "3    24<F814<25   0.791319\n",
       "4       F814<26   0.971477"
      ]
     },
     "execution_count": 923,
     "metadata": {},
     "output_type": "execute_result"
    }
   ],
   "source": [
    "result_2"
   ]
  },
  {
   "cell_type": "code",
   "execution_count": 924,
   "metadata": {},
   "outputs": [],
   "source": [
    "f4=f1.copy(deep=True)\n",
    "f4=f4[f4['f814w']<26]\n",
    "X=f4.drop(['g/s'],axis=1)\n",
    "y=f4['g/s']\n",
    "x_train,x_test,y_train,y_test=train_test_split(X,y,test_size=0.15,random_state=1)\n",
    "x_test=pd.DataFrame(data=x_test['stellar_flag'],columns=['stellar_flag'])\n",
    "x_test=x_test.reset_index()\n",
    "x_test.drop('index',axis=1,inplace=True)\n",
    "all_class=predicted_class_xg_2[3].merge(x_test,left_index=True,right_index=True)\n",
    "all_class.drop(all_class[all_class['stellar_flag']==0.5].index,inplace=True)\n",
    "all_class.loc[all_class[\"stellar_flag\"]<0.5, \"stellar_flag\"] = 0\n",
    "all_class.loc[all_class[\"stellar_flag\"]>0.5, \"stellar_flag\"] = 1"
   ]
  },
  {
   "cell_type": "code",
   "execution_count": 925,
   "metadata": {},
   "outputs": [
    {
     "data": {
      "text/plain": [
       "0.9869678540399652"
      ]
     },
     "execution_count": 925,
     "metadata": {},
     "output_type": "execute_result"
    }
   ],
   "source": [
    "from sklearn.metrics import accuracy_score\n",
    "accuracy_score(all_class['stellar_flag'],all_class['pred_class'])"
   ]
  },
  {
   "cell_type": "markdown",
   "metadata": {},
   "source": [
    "after reducing features"
   ]
  },
  {
   "cell_type": "code",
   "execution_count": 927,
   "metadata": {},
   "outputs": [],
   "source": [
    "f2=f1.copy(deep=True)\n",
    "f2=f2[f2['f814w']<=22.5]\n",
    "X=f2.drop([\"id\",'g/s','stellar_flag'],axis=1)\n",
    "y=f2['g/s']\n",
    "\n",
    "for i in range(19):\n",
    "    X[str(i)]=-X.iloc[:,i+1]+X.iloc[:,i]\n",
    "\n",
    "X['j-h']=X['j']-X['h']\n",
    "X['h-ks']=X['h']-X['ks']\n",
    "\n",
    "for i in (X.columns):\n",
    "   if i!='f814w': \n",
    "      X.drop(i,axis=1,inplace=True)\n",
    "   else:\n",
    "      break \n",
    "\n",
    "X=MinMaxScaler(feature_range=(0,255)).fit_transform(X)\n",
    "X=pd.DataFrame(X)\n",
    "X=X[[0,1,3,13,21,22]]\n",
    "x_train,x_test,y_train,y_test=train_test_split(X,y,test_size=0.15,random_state=1)"
   ]
  },
  {
   "cell_type": "code",
   "execution_count": 951,
   "metadata": {},
   "outputs": [
    {
     "data": {
      "text/plain": [
       "0.9946167186670207"
      ]
     },
     "execution_count": 951,
     "metadata": {},
     "output_type": "execute_result"
    }
   ],
   "source": [
    "XGC=xgc(gamma= 1, learning_rate= 0.03, max_depth= 8, n_estimators =100, reg_alpha= 1, scale_pos_weight= 3.5)\n",
    "XGC.fit(x_train,y_train)\n",
    "predict=XGC.predict_proba(x_test)\n",
    "\n",
    "predict=pd.DataFrame(data=predict)\n",
    "predict=predict[1].values\n",
    "auc_score=roc_auc_score(y_test,predict)\n",
    "auc_score"
   ]
  },
  {
   "cell_type": "code",
   "execution_count": null,
   "metadata": {},
   "outputs": [],
   "source": []
  }
 ],
 "metadata": {
  "kernelspec": {
   "display_name": "Python 3.10.4 64-bit",
   "language": "python",
   "name": "python3"
  },
  "language_info": {
   "codemirror_mode": {
    "name": "ipython",
    "version": 3
   },
   "file_extension": ".py",
   "mimetype": "text/x-python",
   "name": "python",
   "nbconvert_exporter": "python",
   "pygments_lexer": "ipython3",
   "version": "3.10.6"
  },
  "orig_nbformat": 4,
  "vscode": {
   "interpreter": {
    "hash": "916dbcbb3f70747c44a77c7bcd40155683ae19c65e1c03b4aa3499c5328201f1"
   }
  }
 },
 "nbformat": 4,
 "nbformat_minor": 2
}
