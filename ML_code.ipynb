{
 "cells": [
  {
   "cell_type": "code",
   "execution_count": 1,
   "metadata": {},
   "outputs": [
    {
     "name": "stderr",
     "output_type": "stream",
     "text": [
      "2022-10-08 14:02:09.787938: W tensorflow/stream_executor/platform/default/dso_loader.cc:64] Could not load dynamic library 'libcudart.so.11.0'; dlerror: libcudart.so.11.0: cannot open shared object file: No such file or directory\n",
      "2022-10-08 14:02:09.788075: I tensorflow/stream_executor/cuda/cudart_stub.cc:29] Ignore above cudart dlerror if you do not have a GPU set up on your machine.\n"
     ]
    }
   ],
   "source": [
    "import pandas as pd\n",
    "import numpy as np\n",
    "import matplotlib.pyplot as plt\n",
    "import seaborn as sns\n",
    "import sklearn\n",
    "import tensorflow\n",
    "import keras\n",
    "import seaborn as sns"
   ]
  },
  {
   "cell_type": "code",
   "execution_count": 2,
   "metadata": {},
   "outputs": [],
   "source": [
    "f1=pd.read_csv(\"final_raw_to_use.csv\")"
   ]
  },
  {
   "cell_type": "code",
   "execution_count": 3,
   "metadata": {},
   "outputs": [],
   "source": [
    "from cmath import nan\n",
    "\n",
    "\n",
    "f1=f1.replace(-99,nan)\n",
    "f1=f1.replace(99,nan)"
   ]
  },
  {
   "cell_type": "code",
   "execution_count": 4,
   "metadata": {},
   "outputs": [],
   "source": [
    "f1 = f1[f1.isnull().sum(axis=1) < 5] # taking only objects for which less than 5 band flux is unknown"
   ]
  },
  {
   "cell_type": "code",
   "execution_count": 5,
   "metadata": {},
   "outputs": [
    {
     "name": "stdout",
     "output_type": "stream",
     "text": [
      "<class 'pandas.core.frame.DataFrame'>\n",
      "Int64Index: 31870 entries, 0 to 38426\n",
      "Data columns (total 28 columns):\n",
      " #   Column        Non-Null Count  Dtype  \n",
      "---  ------        --------------  -----  \n",
      " 0   id            31870 non-null  int64  \n",
      " 1   f365w         24047 non-null  float64\n",
      " 2   f396w         25543 non-null  float64\n",
      " 3   f427w         30096 non-null  float64\n",
      " 4   f458w         27761 non-null  float64\n",
      " 5   f489w         31639 non-null  float64\n",
      " 6   f520w         31639 non-null  float64\n",
      " 7   f551w         29805 non-null  float64\n",
      " 8   f582w         31564 non-null  float64\n",
      " 9   f613w         31370 non-null  float64\n",
      " 10  f644w         31713 non-null  float64\n",
      " 11  f675w         31767 non-null  float64\n",
      " 12  f706w         31860 non-null  float64\n",
      " 13  f737w         31855 non-null  float64\n",
      " 14  f768w         31756 non-null  float64\n",
      " 15  f799w         31699 non-null  float64\n",
      " 16  f830w         31432 non-null  float64\n",
      " 17  f861w         31674 non-null  float64\n",
      " 18  f892w         29961 non-null  float64\n",
      " 19  f923w         31408 non-null  float64\n",
      " 20  f954w         29844 non-null  float64\n",
      " 21  j             30238 non-null  float64\n",
      " 22  h             28996 non-null  float64\n",
      " 23  ks            28775 non-null  float64\n",
      " 24  f814w         31870 non-null  float64\n",
      " 25  fwhm          31870 non-null  float64\n",
      " 26  stellar_flag  31870 non-null  float64\n",
      " 27  g/s           31870 non-null  int64  \n",
      "dtypes: float64(26), int64(2)\n",
      "memory usage: 7.1 MB\n"
     ]
    }
   ],
   "source": [
    "f1.info()"
   ]
  },
  {
   "cell_type": "code",
   "execution_count": 6,
   "metadata": {},
   "outputs": [],
   "source": [
    "f1.fillna(f1.median().round(3), inplace=True)"
   ]
  },
  {
   "cell_type": "code",
   "execution_count": 7,
   "metadata": {},
   "outputs": [
    {
     "data": {
      "text/plain": [
       "Index(['id', 'f365w', 'f396w', 'f427w', 'f458w', 'f489w', 'f520w', 'f551w',\n",
       "       'f582w', 'f613w', 'f644w', 'f675w', 'f706w', 'f737w', 'f768w', 'f799w',\n",
       "       'f830w', 'f861w', 'f892w', 'f923w', 'f954w', 'j', 'h', 'ks', 'f814w',\n",
       "       'fwhm', 'stellar_flag', 'g/s'],\n",
       "      dtype='object')"
      ]
     },
     "execution_count": 7,
     "metadata": {},
     "output_type": "execute_result"
    }
   ],
   "source": [
    "f1.columns"
   ]
  },
  {
   "cell_type": "code",
   "execution_count": 8,
   "metadata": {},
   "outputs": [
    {
     "data": {
      "text/plain": [
       "5991"
      ]
     },
     "execution_count": 8,
     "metadata": {},
     "output_type": "execute_result"
    }
   ],
   "source": [
    "len(f1[(f1[\"f814w\"]<22.5) & (f1[\"g/s\"]==0)])"
   ]
  },
  {
   "cell_type": "code",
   "execution_count": 9,
   "metadata": {},
   "outputs": [
    {
     "data": {
      "text/plain": [
       "2247"
      ]
     },
     "execution_count": 9,
     "metadata": {},
     "output_type": "execute_result"
    }
   ],
   "source": [
    "len(f1[(f1[\"f814w\"]<26) & (f1[\"g/s\"]==1)])"
   ]
  },
  {
   "cell_type": "code",
   "execution_count": 10,
   "metadata": {},
   "outputs": [],
   "source": [
    "f2=f1.copy(deep=True)\n",
    "f2=f2[f2['f814w']<22.5]\n",
    "\n",
    "X=f2.drop([\"id\",'g/s','stellar_flag'],axis=1)\n",
    "y=f2['g/s']"
   ]
  },
  {
   "cell_type": "code",
   "execution_count": 11,
   "metadata": {},
   "outputs": [
    {
     "data": {
      "text/plain": [
       "1764"
      ]
     },
     "execution_count": 11,
     "metadata": {},
     "output_type": "execute_result"
    }
   ],
   "source": [
    "len(y[y==1]) # no. of stars"
   ]
  },
  {
   "cell_type": "markdown",
   "metadata": {},
   "source": [
    "# checking best performing model "
   ]
  },
  {
   "cell_type": "markdown",
   "metadata": {},
   "source": [
    "## ANN"
   ]
  },
  {
   "cell_type": "code",
   "execution_count": 16,
   "metadata": {},
   "outputs": [],
   "source": [
    "from keras.layers import Dense, Activation,Dropout\n",
    "from keras.wrappers.scikit_learn import KerasClassifier\n",
    "from keras.models import Sequential\n",
    "from sklearn.preprocessing import MinMaxScaler\n",
    "from keras.optimizers import Adam\n",
    "from sklearn.metrics import accuracy_score\n",
    "from keras.layers import BatchNormalization\n",
    "from sklearn.model_selection import GridSearchCV\n",
    "from sklearn.metrics import roc_auc_score\n",
    "from sklearn.metrics import roc_curve\n",
    "from sklearn.metrics import auc"
   ]
  },
  {
   "cell_type": "code",
   "execution_count": 13,
   "metadata": {},
   "outputs": [],
   "source": [
    "from sklearn.model_selection import train_test_split\n",
    "x_train,x_test,y_train,y_test=train_test_split(X,y,test_size=0.15,random_state=1)"
   ]
  },
  {
   "cell_type": "code",
   "execution_count": 14,
   "metadata": {},
   "outputs": [],
   "source": [
    "def ANN(no_of_neurons,no_of_layers,dropout,activation,learning_rate):   # difining neural net\n",
    "    model=Sequential()\n",
    "    model.add(Dense(no_of_neurons,input_dim=x_train.shape[1],activation=activation))\n",
    "    model.add(BatchNormalization())\n",
    "    for i in range(no_of_layers):\n",
    "     model.add(Dense(no_of_neurons,activation))\n",
    "    model.add(Dropout(dropout))\n",
    "    model.add(Dense(1,activation=\"sigmoid\"))\n",
    "    model.compile(loss=\"binary_crossentropy\",optimizer= Adam(learning_rate=learning_rate),metrics=[\"accuracy\"])\n",
    "    return model"
   ]
  },
  {
   "cell_type": "code",
   "execution_count": 17,
   "metadata": {},
   "outputs": [],
   "source": [
    "def plot_training(training):               # function to check overfitting via graph\n",
    "    acc_values = training['accuracy']\n",
    "    val_acc_values = training['val_accuracy']\n",
    "    epochs = range(1, len(acc_values) + 1)\n",
    "\n",
    "    plt.plot(epochs, acc_values, 'bo', label='Training acc')\n",
    "    plt.plot(epochs, val_acc_values, 'b', label='Test accuracy')\n",
    "    plt.title('Training and validation accuracy')\n",
    "    plt.xlabel('Epochs')\n",
    "    plt.ylabel('Accuracy')\n",
    "    plt.legend()\n",
    "    plt.show()"
   ]
  },
  {
   "cell_type": "code",
   "execution_count": null,
   "metadata": {},
   "outputs": [],
   "source": [
    "test_model=KerasClassifier(build_fn=ANN)    # hyperparameterizing defined neural net\n",
    "param_grid={\n",
    "    'no_of_neurons':[25,40,75],\n",
    "    'no_of_layers':[2,3,4],\n",
    "    'dropout':[0.3,0.5,0.7],\n",
    "    \"activation\":['relu','LeakyRelu'],\n",
    "    \"learning_rate\":[0.003]\n",
    "}\n",
    "\n",
    "cv=GridSearchCV(estimator=test_model,param_grid=param_grid,cv=3,n_jobs=-1)\n",
    "cv.fit(x_train,y_train)\n",
    "print(cv.best_params_)"
   ]
  },
  {
   "cell_type": "code",
   "execution_count": 428,
   "metadata": {},
   "outputs": [],
   "source": [
    "model=ANN(no_of_neurons=25,no_of_layers=2,activation='relu',learning_rate=0.003,dropout=0.5)"
   ]
  },
  {
   "cell_type": "code",
   "execution_count": 18,
   "metadata": {},
   "outputs": [],
   "source": [
    "from keras.callbacks import ModelCheckpoint\n",
    "from keras.callbacks import EarlyStopping               # for getting the best accuracy in all epoches\n",
    "\n",
    "checkpoint= ModelCheckpoint(\"model_checkpoint.h5\",save_best_only=True)\n",
    "early_stopping = EarlyStopping( patience=200, restore_best_weights=True)"
   ]
  },
  {
   "cell_type": "code",
   "execution_count": 32,
   "metadata": {},
   "outputs": [],
   "source": [
    "training_history=model.fit(x_train,y_train,epochs=500,batch_size=500,verbose=0,validation_data=[x_test,y_test],callbacks=[checkpoint,early_stopping])"
   ]
  },
  {
   "cell_type": "code",
   "execution_count": 33,
   "metadata": {},
   "outputs": [
    {
     "data": {
      "image/png": "[encoded data removed]",
      "text/plain": [
       "<Figure size 432x288 with 1 Axes>"
      ]
     },
     "metadata": {
      "needs_background": "light"
     },
     "output_type": "display_data"
    },
    {
     "data": {
      "text/plain": [
       "dict_keys(['loss', 'accuracy', 'val_loss', 'val_accuracy'])"
      ]
     },
     "execution_count": 33,
     "metadata": {},
     "output_type": "execute_result"
    }
   ],
   "source": [
    "training_info=training_history.history\n",
    "plot_training(training_info)\n",
    "training_info.keys()"
   ]
  },
  {
   "cell_type": "markdown",
   "metadata": {},
   "source": [
    "we can see its highly prone to overfitting"
   ]
  },
  {
   "cell_type": "markdown",
   "metadata": {},
   "source": [
    "auc score"
   ]
  },
  {
   "cell_type": "code",
   "execution_count": 69,
   "metadata": {},
   "outputs": [
    {
     "data": {
      "text/plain": [
       "0.9912940431575884"
      ]
     },
     "execution_count": 69,
     "metadata": {},
     "output_type": "execute_result"
    }
   ],
   "source": [
    "predict=model.predict(x_test)\n",
    "auc_score=roc_auc_score(y_test,predict)\n",
    "auc_score"
   ]
  },
  {
   "cell_type": "markdown",
   "metadata": {},
   "source": [
    "now classifying by gradually adding features.Starting from 20 optical bands "
   ]
  },
  {
   "cell_type": "code",
   "execution_count": 434,
   "metadata": {},
   "outputs": [
    {
     "name": "stdout",
     "output_type": "stream",
     "text": [
      "37/37 [==============================] - 0s 2ms/step\n",
      "37/37 [==============================] - 0s 2ms/step\n",
      "37/37 [==============================] - 0s 2ms/step\n",
      "37/37 [==============================] - 0s 2ms/step\n"
     ]
    }
   ],
   "source": [
    "score_ann=[]\n",
    "predicted_class_ann=[]\n",
    "\n",
    "for i in (0,3,4,5):\n",
    "    if i==0: \n",
    "        k=3\n",
    "    else: \n",
    "        k=5\n",
    "\n",
    "    x_train_new=x_train.iloc[:,0:20+i]\n",
    "    x_test_new=x_test.iloc[:,0:20+i]\n",
    "    \n",
    "    \n",
    "    model=Sequential()\n",
    "    model.add(Dense(25,input_dim=x_train_new.shape[1],activation='relu'))\n",
    "    model.add(BatchNormalization())\n",
    "    for i in range(2):\n",
    "     model.add(Dense(30,activation='relu'))\n",
    "    model.add(Dropout(0.4))\n",
    "    model.add(Dense(1,activation=\"sigmoid\"))\n",
    "    model.compile(loss=\"binary_crossentropy\",optimizer= Adam(learning_rate=0.003),metrics=[\"accuracy\"])\n",
    "    \n",
    "    checkpoint= ModelCheckpoint(\"model_checkpoint.h5\",save_best_only=True)\n",
    "    early_stopping = EarlyStopping( patience=200, restore_best_weights=True)\n",
    "   \n",
    "    model.fit(x_train_new,y_train,epochs=500,batch_size=500,verbose=0,validation_data=[x_test_new,y_test],callbacks=[checkpoint,early_stopping])\n",
    "\n",
    "    predict=model.predict(x_test_new)\n",
    "    score_ann.append(roc_auc_score(y_test,predict))\n",
    "    predict=pd.DataFrame(predict,columns=['pred_class']) \n",
    "    predict.loc[predict[\"pred_class\"]<0.5, \"pred_class\"] = 0\n",
    "    predict.loc[predict[\"pred_class\"]>0.5, \"pred_class\"] = 1\n",
    "    predicted_class_ann.append(predict)"
   ]
  },
  {
   "cell_type": "code",
   "execution_count": 435,
   "metadata": {},
   "outputs": [
    {
     "data": {
      "text/plain": [
       "[0.8981723907798141,\n",
       " 0.9785966083132263,\n",
       " 0.9828105481116416,\n",
       " 0.9868833102315314]"
      ]
     },
     "execution_count": 435,
     "metadata": {},
     "output_type": "execute_result"
    }
   ],
   "source": [
    "score_ann"
   ]
  },
  {
   "cell_type": "code",
   "execution_count": 29,
   "metadata": {},
   "outputs": [
    {
     "name": "stdout",
     "output_type": "stream",
     "text": [
      "37/37 [==============================] - 0s 1ms/step\n",
      "15/15 [==============================] - 0s 2ms/step\n",
      "46/46 [==============================] - 0s 1ms/step\n",
      "45/45 [==============================] - 0s 1ms/step\n",
      "150/150 [==============================] - 0s 1ms/step\n"
     ]
    }
   ],
   "source": [
    "score_814_ann=[]\n",
    "FPS_rate_ann=[]\n",
    "TPS_rate_ann=[]\n",
    "\n",
    "for i,j in zip([22.5,23,24,25,26],[0,22.5,23,24,0]):\n",
    "    \n",
    "    f5=f1.copy()\n",
    "    f5=f5[(f5['f814w']<=i)&(f5['f814w']>j)]\n",
    "\n",
    "    X=f5.drop([\"id\",'g/s','stellar_flag'],axis=1)\n",
    "    y=f5['g/s']\n",
    "    \n",
    "    x_train,x_test,y_train,y_test=train_test_split(X,y,test_size=0.15,random_state=1)\n",
    "    \n",
    "    model=ANN(no_of_neurons=25,no_of_layers=2,activation='relu',learning_rate=0.003,dropout=0.5)\n",
    "    \n",
    "    training_history=model.fit(x_train,y_train,epochs=500,batch_size=500,verbose=0,validation_data=[x_test,y_test],callbacks=[checkpoint,early_stopping])\n",
    "    \n",
    "    \n",
    "\n",
    "    predict=model.predict(x_test)\n",
    "    score_814_ann.append(roc_auc_score(y_test,predict))\n",
    "    false_positive_rate,true_positive_rate,thresholds= roc_curve(y_test,predict) \n",
    "    FPS_rate_ann.append(false_positive_rate)\n",
    "    TPS_rate_ann.append(true_positive_rate)"
   ]
  },
  {
   "cell_type": "code",
   "execution_count": 31,
   "metadata": {},
   "outputs": [
    {
     "data": {
      "image/png": "[encoded data removed]",
      "text/plain": [
       "<Figure size 432x288 with 1 Axes>"
      ]
     },
     "metadata": {
      "needs_background": "light"
     },
     "output_type": "display_data"
    }
   ],
   "source": [
    "result=pd.DataFrame({'F814':[\"F814<22.5\",\"22.5<F814<23\",\"23<F814<24\",\"24<F814<25\",\"F814<26\"],'AUC score':score_814_ann})\n",
    "plt.plot(FPS_rate_ann[0],TPS_rate_ann[0],color=\"black\",alpha=1,ls='dashed',label=\"F814<22.5\")\n",
    "plt.plot(FPS_rate_ann[1],TPS_rate_ann[1],color=\"purple\",alpha=1,ls='dashed',label=\"22.5<F814<23\")\n",
    "plt.plot(FPS_rate_ann[2],TPS_rate_ann[2],color=\"green\",alpha=1,ls='dashed',label=\"23<F814<24\")\n",
    "plt.plot(FPS_rate_ann[3],TPS_rate_ann[3],color=\"blue\",alpha=1,ls='dashed',label=\"24<F814<25\")\n",
    "plt.plot(FPS_rate_ann[4],TPS_rate_ann[4],color=\"red\",alpha=1,ls='dashed',label=\"F814<26\")\n",
    "plt.xlabel('False positive rate')\n",
    "plt.ylabel('True positive rate')\n",
    "\n",
    "plt.legend()\n",
    "plt.show()"
   ]
  },
  {
   "cell_type": "code",
   "execution_count": 32,
   "metadata": {},
   "outputs": [
    {
     "data": {
      "text/html": [
       "<div>\n",
       "<style scoped>\n",
       "    .dataframe tbody tr th:only-of-type {\n",
       "        vertical-align: middle;\n",
       "    }\n",
       "\n",
       "    .dataframe tbody tr th {\n",
       "        vertical-align: top;\n",
       "    }\n",
       "\n",
       "    .dataframe thead th {\n",
       "        text-align: right;\n",
       "    }\n",
       "</style>\n",
       "<table border=\"1\" class=\"dataframe\">\n",
       "  <thead>\n",
       "    <tr style=\"text-align: right;\">\n",
       "      <th></th>\n",
       "      <th>F814</th>\n",
       "      <th>AUC score</th>\n",
       "    </tr>\n",
       "  </thead>\n",
       "  <tbody>\n",
       "    <tr>\n",
       "      <th>0</th>\n",
       "      <td>F814&lt;22.5</td>\n",
       "      <td>0.992743</td>\n",
       "    </tr>\n",
       "    <tr>\n",
       "      <th>1</th>\n",
       "      <td>22.5&lt;F814&lt;23</td>\n",
       "      <td>0.921950</td>\n",
       "    </tr>\n",
       "    <tr>\n",
       "      <th>2</th>\n",
       "      <td>23&lt;F814&lt;24</td>\n",
       "      <td>0.874205</td>\n",
       "    </tr>\n",
       "    <tr>\n",
       "      <th>3</th>\n",
       "      <td>24&lt;F814&lt;25</td>\n",
       "      <td>0.777582</td>\n",
       "    </tr>\n",
       "    <tr>\n",
       "      <th>4</th>\n",
       "      <td>F814&lt;26</td>\n",
       "      <td>0.968939</td>\n",
       "    </tr>\n",
       "  </tbody>\n",
       "</table>\n",
       "</div>"
      ],
      "text/plain": [
       "           F814  AUC score\n",
       "0     F814<22.5   0.992743\n",
       "1  22.5<F814<23   0.921950\n",
       "2    23<F814<24   0.874205\n",
       "3    24<F814<25   0.777582\n",
       "4       F814<26   0.968939"
      ]
     },
     "execution_count": 32,
     "metadata": {},
     "output_type": "execute_result"
    }
   ],
   "source": [
    "result"
   ]
  },
  {
   "cell_type": "markdown",
   "metadata": {},
   "source": [
    "# RANDOMFOREST"
   ]
  },
  {
   "cell_type": "code",
   "execution_count": 20,
   "metadata": {},
   "outputs": [],
   "source": [
    "from sklearn.ensemble import RandomForestClassifier"
   ]
  },
  {
   "cell_type": "code",
   "execution_count": 46,
   "metadata": {},
   "outputs": [
    {
     "data": {
      "image/png": "[encoded data removed]",
      "text/plain": [
       "<Figure size 432x288 with 1 Axes>"
      ]
     },
     "metadata": {
      "needs_background": "light"
     },
     "output_type": "display_data"
    }
   ],
   "source": [
    "n_estimators=[50,100,150,200,250]      # getting best no. of trees \n",
    "test_area=[]\n",
    "for estimator in n_estimators:\n",
    "    rf=RandomForestClassifier(n_estimators=estimator,n_jobs=-1)\n",
    "    rf.fit(x_train,y_train)\n",
    "    predict=rf.predict(x_test)\n",
    "    roc_auc=roc_auc_score(y_test,predict)\n",
    "    test_area.append(roc_auc)\n",
    "\n",
    "from matplotlib.legend_handler import HandlerLine2D\n",
    "line=plt.plot(n_estimators,test_area)\n",
    "plt.ylabel(\"AUC score\")\n",
    "plt.xlabel(\"n_estimators\")\n",
    "plt.show()\n"
   ]
  },
  {
   "cell_type": "code",
   "execution_count": 51,
   "metadata": {},
   "outputs": [
    {
     "name": "stdout",
     "output_type": "stream",
     "text": [
      "{'min_samples_split': 2, 'n_estimators': 200}\n"
     ]
    }
   ],
   "source": [
    "param_grid={\n",
    "    'n_estimators':[50,100,200],\n",
    "    'min_samples_split':[2,4]\n",
    "}\n",
    "\n",
    "cv=GridSearchCV(estimator=RandomForestClassifier(),param_grid=param_grid,cv=5,n_jobs=-1)\n",
    "cv.fit(x_train,y_train)\n",
    "print(cv.best_params_)"
   ]
  },
  {
   "cell_type": "code",
   "execution_count": 74,
   "metadata": {},
   "outputs": [],
   "source": [
    "rf=RandomForestClassifier(n_estimators=200,min_samples_split=2,n_jobs=-1)\n",
    "rf.fit(x_train,y_train)\n",
    "predict=rf.predict_proba(x_test)"
   ]
  },
  {
   "cell_type": "code",
   "execution_count": 81,
   "metadata": {},
   "outputs": [],
   "source": [
    "predict=pd.DataFrame(data=predict)\n",
    "predict=predict[1].values"
   ]
  },
  {
   "cell_type": "markdown",
   "metadata": {},
   "source": [
    "auc score"
   ]
  },
  {
   "cell_type": "code",
   "execution_count": 87,
   "metadata": {},
   "outputs": [
    {
     "data": {
      "text/plain": [
       "0.9898929616510086"
      ]
     },
     "execution_count": 87,
     "metadata": {},
     "output_type": "execute_result"
    }
   ],
   "source": [
    "auc_score=roc_auc_score(y_test,predict)\n",
    "auc_score"
   ]
  },
  {
   "cell_type": "markdown",
   "metadata": {},
   "source": [
    "running while gradually adding features"
   ]
  },
  {
   "cell_type": "code",
   "execution_count": 443,
   "metadata": {},
   "outputs": [],
   "source": [
    "score_rf=[]\n",
    "predicted_class_rf=[]\n",
    "\n",
    "for i in (0,3,4,5):\n",
    "    if i==0: \n",
    "        k=3\n",
    "    else: \n",
    "        k=5\n",
    "\n",
    "    x_train_new=x_train.iloc[:,0:20+i]\n",
    "    x_test_new=x_test.iloc[:,0:20+i]\n",
    "    \n",
    "    \n",
    "    rf=RandomForestClassifier(n_estimators=150+10*i,min_samples_split=2,n_jobs=-1)\n",
    "    rf.fit(x_train_new,y_train)\n",
    "    predict=rf.predict_proba(x_test_new)\n",
    "    predict=pd.DataFrame(data=predict)\n",
    "    predict=predict[1].values\n",
    "   \n",
    "\n",
    "    score_rf.append(roc_auc_score(y_test,predict))\n",
    "    predict=pd.DataFrame(predict,columns=['pred_class']) \n",
    "    predict.loc[predict[\"pred_class\"]<0.5, \"pred_class\"] = 0\n",
    "    predict.loc[predict[\"pred_class\"]>0.5, \"pred_class\"] = 1\n",
    "    predicted_class_rf.append(predict)"
   ]
  },
  {
   "cell_type": "code",
   "execution_count": 444,
   "metadata": {},
   "outputs": [
    {
     "data": {
      "text/plain": [
       "[0.9691762068552459,\n",
       " 0.9847271420504133,\n",
       " 0.9829902287934014,\n",
       " 0.9890309221897086]"
      ]
     },
     "execution_count": 444,
     "metadata": {},
     "output_type": "execute_result"
    }
   ],
   "source": [
    "score_rf"
   ]
  },
  {
   "cell_type": "code",
   "execution_count": 44,
   "metadata": {},
   "outputs": [],
   "source": [
    "score_814_rf=[]\n",
    "FPS_rate_rf=[]\n",
    "TPS_rate_rf=[]\n",
    "\n",
    "for i,j in zip([22.5,23,24,25,26],[0,22.5,23,24,0]):\n",
    "    \n",
    "    f5=f1.copy()\n",
    "    f5=f5[(f5['f814w']<=i)&(f5['f814w']>j)]\n",
    "\n",
    "    X=f5.drop([\"id\",'g/s','stellar_flag'],axis=1)\n",
    "    y=f5['g/s']\n",
    "    \n",
    "    x_train,x_test,y_train,y_test=train_test_split(X,y,test_size=0.15,random_state=1)\n",
    "\n",
    "    rf=RandomForestClassifier(min_samples_split=2,n_jobs=-1)\n",
    "    rf.fit(x_train,y_train)\n",
    "    predict=rf.predict_proba(x_test)\n",
    "    predict=pd.DataFrame(data=predict)\n",
    "    predict=predict[1].values\n",
    "    \n",
    "    score_814_rf.append(roc_auc_score(y_test,predict))\n",
    "    false_positive_rate,true_positive_rate,thresholds= roc_curve(y_test,predict) \n",
    "    FPS_rate_rf.append(false_positive_rate)\n",
    "    TPS_rate_rf.append(true_positive_rate)"
   ]
  },
  {
   "cell_type": "code",
   "execution_count": 45,
   "metadata": {},
   "outputs": [
    {
     "data": {
      "image/png": "[encoded data removed]",
      "text/plain": [
       "<Figure size 432x288 with 1 Axes>"
      ]
     },
     "metadata": {
      "needs_background": "light"
     },
     "output_type": "display_data"
    }
   ],
   "source": [
    "result=pd.DataFrame({'F814':[\"F814<22.5\",\"22.5<F814<23\",\"23<F814<24\",\"24<F814<25\",\"F814<26\"],'AUC score':score_814_rf})\n",
    "plt.plot(FPS_rate_rf[0],TPS_rate_rf[0],color=\"black\",alpha=1,ls='dashed',label=\"F814<22.5\")\n",
    "plt.plot(FPS_rate_rf[1],TPS_rate_rf[1],color=\"purple\",alpha=1,ls='dashed',label=\"22.5<F814<23\")\n",
    "plt.plot(FPS_rate_rf[2],TPS_rate_rf[2],color=\"green\",alpha=1,ls='dashed',label=\"23<F814<24\")\n",
    "plt.plot(FPS_rate_rf[3],TPS_rate_rf[3],color=\"blue\",alpha=1,ls='dashed',label=\"24<F814<25\")\n",
    "plt.plot(FPS_rate_rf[4],TPS_rate_rf[4],color=\"red\",alpha=1,ls='dashed',label=\"F814<26\")\n",
    "plt.xlabel('False positive rate')\n",
    "plt.ylabel('True positive rate')\n",
    "\n",
    "plt.legend()\n",
    "plt.show()"
   ]
  },
  {
   "cell_type": "code",
   "execution_count": 46,
   "metadata": {},
   "outputs": [
    {
     "data": {
      "text/html": [
       "<div>\n",
       "<style scoped>\n",
       "    .dataframe tbody tr th:only-of-type {\n",
       "        vertical-align: middle;\n",
       "    }\n",
       "\n",
       "    .dataframe tbody tr th {\n",
       "        vertical-align: top;\n",
       "    }\n",
       "\n",
       "    .dataframe thead th {\n",
       "        text-align: right;\n",
       "    }\n",
       "</style>\n",
       "<table border=\"1\" class=\"dataframe\">\n",
       "  <thead>\n",
       "    <tr style=\"text-align: right;\">\n",
       "      <th></th>\n",
       "      <th>F814</th>\n",
       "      <th>AUC score</th>\n",
       "    </tr>\n",
       "  </thead>\n",
       "  <tbody>\n",
       "    <tr>\n",
       "      <th>0</th>\n",
       "      <td>F814&lt;22.5</td>\n",
       "      <td>0.991298</td>\n",
       "    </tr>\n",
       "    <tr>\n",
       "      <th>1</th>\n",
       "      <td>22.5&lt;F814&lt;23</td>\n",
       "      <td>0.886995</td>\n",
       "    </tr>\n",
       "    <tr>\n",
       "      <th>2</th>\n",
       "      <td>23&lt;F814&lt;24</td>\n",
       "      <td>0.876654</td>\n",
       "    </tr>\n",
       "    <tr>\n",
       "      <th>3</th>\n",
       "      <td>24&lt;F814&lt;25</td>\n",
       "      <td>0.801374</td>\n",
       "    </tr>\n",
       "    <tr>\n",
       "      <th>4</th>\n",
       "      <td>F814&lt;26</td>\n",
       "      <td>0.965715</td>\n",
       "    </tr>\n",
       "  </tbody>\n",
       "</table>\n",
       "</div>"
      ],
      "text/plain": [
       "           F814  AUC score\n",
       "0     F814<22.5   0.991298\n",
       "1  22.5<F814<23   0.886995\n",
       "2    23<F814<24   0.876654\n",
       "3    24<F814<25   0.801374\n",
       "4       F814<26   0.965715"
      ]
     },
     "execution_count": 46,
     "metadata": {},
     "output_type": "execute_result"
    }
   ],
   "source": [
    "result"
   ]
  },
  {
   "cell_type": "code",
   "execution_count": 47,
   "metadata": {},
   "outputs": [
    {
     "data": {
      "image/png": "[encoded data removed]",
      "text/plain": [
       "<Figure size 432x288 with 1 Axes>"
      ]
     },
     "metadata": {
      "needs_background": "light"
     },
     "output_type": "display_data"
    }
   ],
   "source": [
    "X=f1.drop([\"id\",'g/s','stellar_flag'],axis=1)\n",
    "y=f1['g/s']\n",
    "x_train,x_test,y_train,y_test=train_test_split(X,y,test_size=0.15,random_state=1)\n",
    "\n",
    "rf=RandomForestClassifier(min_samples_split=2,n_jobs=-1).fit(x_train,y_train)\n",
    "feature_importances = pd.DataFrame(rf.feature_importances_, index =x_train.columns,  columns=['importance']).sort_values('importance', ascending=False)\n",
    "feature_importances.plot.bar()    # plotting ranking based on their importance   \n",
    "plt.show()"
   ]
  },
  {
   "cell_type": "markdown",
   "metadata": {},
   "source": [
    "# CNN"
   ]
  },
  {
   "cell_type": "code",
   "execution_count": 88,
   "metadata": {},
   "outputs": [],
   "source": [
    "from keras.layers import Convolution2D\n",
    "from keras.layers import MaxPool2D\n",
    "from keras.layers import Flatten\n",
    "from keras.layers import Dense, Activation,Dropout\n",
    "from keras.wrappers.scikit_learn import KerasClassifier\n",
    "from keras.models import Sequential\n",
    "from sklearn.preprocessing import MinMaxScaler\n",
    "from keras.optimizers import Adam\n",
    "from sklearn.metrics import accuracy_score\n",
    "from keras.layers import BatchNormalization\n",
    "from sklearn.model_selection import GridSearchCV\n",
    "from sklearn.metrics import roc_auc_score\n",
    "from sklearn.metrics import roc_curve\n",
    "from sklearn.metrics import auc\n"
   ]
  },
  {
   "cell_type": "code",
   "execution_count": 125,
   "metadata": {},
   "outputs": [],
   "source": [
    "X=f2.drop([\"id\",'g/s','stellar_flag'],axis=1).values\n",
    "y=f2['g/s'].values"
   ]
  },
  {
   "cell_type": "code",
   "execution_count": 126,
   "metadata": {},
   "outputs": [],
   "source": [
    "X=MinMaxScaler(feature_range=(0,255)).fit_transform(X)\n",
    "x_train,x_test,y_train,y_test=train_test_split(X,y,test_size=0.15,random_state=1)"
   ]
  },
  {
   "cell_type": "code",
   "execution_count": 128,
   "metadata": {},
   "outputs": [
    {
     "data": {
      "text/plain": [
       "(1164, 25)"
      ]
     },
     "execution_count": 128,
     "metadata": {},
     "output_type": "execute_result"
    }
   ],
   "source": [
    "x_test.shape"
   ]
  },
  {
   "cell_type": "code",
   "execution_count": 129,
   "metadata": {},
   "outputs": [],
   "source": [
    "trainX = x_train.reshape(6591,25,1)           \n",
    "x_train = trainX / 255.0\n",
    "testX = x_test.reshape(1164,25,1)\n",
    "x_test = testX / 255.0"
   ]
  },
  {
   "cell_type": "code",
   "execution_count": 267,
   "metadata": {},
   "outputs": [],
   "source": [
    "model=Sequential()\n",
    "model.add(Convolution2D(32,kernel_size=(5, 1), input_shape=(25,1,1),activation= 'LeakyReLU' ))\n",
    "model.add(MaxPool2D(pool_size=(3,1)))\n",
    "model.add(Convolution2D(32,kernel_size=(3, 1),activation= 'LeakyReLU' ))\n",
    "model.add(MaxPool2D(pool_size=(2,1)))\n",
    "model.add(Convolution2D(64,kernel_size=(2, 1),activation= 'LeakyReLU' ))\n",
    "model.add(MaxPool2D(pool_size=(1,1)))\n",
    "model.add(Dropout(0.3))\n",
    "model.add(Flatten())\n",
    "model.add(Dense(1,activation=\"sigmoid\"))\n",
    "model.compile(loss=\"binary_crossentropy\",optimizer= Adam(learning_rate=0.03),metrics=[\"accuracy\"])\n"
   ]
  },
  {
   "cell_type": "code",
   "execution_count": 268,
   "metadata": {},
   "outputs": [],
   "source": [
    "from keras.callbacks import ModelCheckpoint\n",
    "from keras.callbacks import EarlyStopping\n",
    "\n",
    "checkpoint= ModelCheckpoint(\"model_checkpoint.h5\",save_best_only=True)\n",
    "early_stopping = EarlyStopping( patience=250, restore_best_weights=True)"
   ]
  },
  {
   "cell_type": "code",
   "execution_count": 269,
   "metadata": {},
   "outputs": [],
   "source": [
    "training_history=model.fit(x_train,y_train,epochs=1000,batch_size=500,verbose=0,validation_data=[x_test,y_test],callbacks=[checkpoint,early_stopping])"
   ]
  },
  {
   "cell_type": "code",
   "execution_count": 270,
   "metadata": {},
   "outputs": [
    {
     "data": {
      "image/png": "[encoded data removed]",
      "text/plain": [
       "<Figure size 432x288 with 1 Axes>"
      ]
     },
     "metadata": {
      "needs_background": "light"
     },
     "output_type": "display_data"
    },
    {
     "data": {
      "text/plain": [
       "dict_keys(['loss', 'accuracy', 'val_loss', 'val_accuracy'])"
      ]
     },
     "execution_count": 270,
     "metadata": {},
     "output_type": "execute_result"
    }
   ],
   "source": [
    "training_info=training_history.history\n",
    "plot_training(training_info)\n",
    "training_info.keys()"
   ]
  },
  {
   "cell_type": "code",
   "execution_count": 271,
   "metadata": {},
   "outputs": [
    {
     "name": "stdout",
     "output_type": "stream",
     "text": [
      "37/37 [==============================] - 0s 1ms/step\n"
     ]
    }
   ],
   "source": [
    "predict=model.predict(x_test)"
   ]
  },
  {
   "cell_type": "markdown",
   "metadata": {},
   "source": [
    "auc score"
   ]
  },
  {
   "cell_type": "code",
   "execution_count": 272,
   "metadata": {},
   "outputs": [
    {
     "data": {
      "text/plain": [
       "0.9822030562828346"
      ]
     },
     "execution_count": 272,
     "metadata": {},
     "output_type": "execute_result"
    }
   ],
   "source": [
    "auc_score=roc_auc_score(y_test,predict)\n",
    "auc_score"
   ]
  },
  {
   "cell_type": "code",
   "execution_count": 273,
   "metadata": {},
   "outputs": [],
   "source": [
    "predict=pd.DataFrame(predict,columns=['pred_class'])\n",
    "\n",
    "predict.loc[predict[\"pred_class\"]<0.5, \"pred_class\"] = 0\n",
    "predict.loc[predict[\"pred_class\"]>0.5, \"pred_class\"] = 1"
   ]
  },
  {
   "cell_type": "markdown",
   "metadata": {},
   "source": [
    "# Ada Boost"
   ]
  },
  {
   "cell_type": "code",
   "execution_count": 63,
   "metadata": {},
   "outputs": [],
   "source": [
    "from sklearn.ensemble import AdaBoostClassifier\n",
    "from sklearn.model_selection import GridSearchCV\n",
    "from sklearn.tree import ExtraTreeClassifier\n",
    "from sklearn.tree import DecisionTreeClassifier"
   ]
  },
  {
   "cell_type": "code",
   "execution_count": 57,
   "metadata": {},
   "outputs": [],
   "source": [
    "X=f2.drop([\"id\",'g/s','stellar_flag'],axis=1)\n",
    "y=f2['g/s']"
   ]
  },
  {
   "cell_type": "code",
   "execution_count": 486,
   "metadata": {},
   "outputs": [],
   "source": [
    "x_train,x_test,y_train,y_test=train_test_split(X,y,test_size=0.15,random_state=1)"
   ]
  },
  {
   "cell_type": "code",
   "execution_count": 120,
   "metadata": {},
   "outputs": [
    {
     "name": "stdout",
     "output_type": "stream",
     "text": [
      "{'base_estimator': DecisionTreeClassifier(max_depth=4), 'n_estimators': 100}\n"
     ]
    }
   ],
   "source": [
    "param_grid={\n",
    "    'n_estimators':[10,50,100],\n",
    "    'base_estimator':[DecisionTreeClassifier(max_depth=1),DecisionTreeClassifier(max_depth=2),DecisionTreeClassifier(max_depth=4)]\n",
    "}\n",
    "CV_etr = GridSearchCV(estimator=AdaBoostClassifier(), param_grid=param_grid, cv=5,n_jobs=-1)\n",
    "CV_etr.fit(x_train, y_train)\n",
    "print(CV_etr.best_params_)"
   ]
  },
  {
   "cell_type": "code",
   "execution_count": 121,
   "metadata": {},
   "outputs": [
    {
     "data": {
      "text/html": [
       "<style>#sk-container-id-2 {color: black;background-color: white;}#sk-container-id-2 pre{padding: 0;}#sk-container-id-2 div.sk-toggleable {background-color: white;}#sk-container-id-2 label.sk-toggleable__label {cursor: pointer;display: block;width: 100%;margin-bottom: 0;padding: 0.3em;box-sizing: border-box;text-align: center;}#sk-container-id-2 label.sk-toggleable__label-arrow:before {content: \"▸\";float: left;margin-right: 0.25em;color: #696969;}#sk-container-id-2 label.sk-toggleable__label-arrow:hover:before {color: black;}#sk-container-id-2 div.sk-estimator:hover label.sk-toggleable__label-arrow:before {color: black;}#sk-container-id-2 div.sk-toggleable__content {max-height: 0;max-width: 0;overflow: hidden;text-align: left;background-color: #f0f8ff;}#sk-container-id-2 div.sk-toggleable__content pre {margin: 0.2em;color: black;border-radius: 0.25em;background-color: #f0f8ff;}#sk-container-id-2 input.sk-toggleable__control:checked~div.sk-toggleable__content {max-height: 200px;max-width: 100%;overflow: auto;}#sk-container-id-2 input.sk-toggleable__control:checked~label.sk-toggleable__label-arrow:before {content: \"▾\";}#sk-container-id-2 div.sk-estimator input.sk-toggleable__control:checked~label.sk-toggleable__label {background-color: #d4ebff;}#sk-container-id-2 div.sk-label input.sk-toggleable__control:checked~label.sk-toggleable__label {background-color: #d4ebff;}#sk-container-id-2 input.sk-hidden--visually {border: 0;clip: rect(1px 1px 1px 1px);clip: rect(1px, 1px, 1px, 1px);height: 1px;margin: -1px;overflow: hidden;padding: 0;position: absolute;width: 1px;}#sk-container-id-2 div.sk-estimator {font-family: monospace;background-color: #f0f8ff;border: 1px dotted black;border-radius: 0.25em;box-sizing: border-box;margin-bottom: 0.5em;}#sk-container-id-2 div.sk-estimator:hover {background-color: #d4ebff;}#sk-container-id-2 div.sk-parallel-item::after {content: \"\";width: 100%;border-bottom: 1px solid gray;flex-grow: 1;}#sk-container-id-2 div.sk-label:hover label.sk-toggleable__label {background-color: #d4ebff;}#sk-container-id-2 div.sk-serial::before {content: \"\";position: absolute;border-left: 1px solid gray;box-sizing: border-box;top: 0;bottom: 0;left: 50%;z-index: 0;}#sk-container-id-2 div.sk-serial {display: flex;flex-direction: column;align-items: center;background-color: white;padding-right: 0.2em;padding-left: 0.2em;position: relative;}#sk-container-id-2 div.sk-item {position: relative;z-index: 1;}#sk-container-id-2 div.sk-parallel {display: flex;align-items: stretch;justify-content: center;background-color: white;position: relative;}#sk-container-id-2 div.sk-item::before, #sk-container-id-2 div.sk-parallel-item::before {content: \"\";position: absolute;border-left: 1px solid gray;box-sizing: border-box;top: 0;bottom: 0;left: 50%;z-index: -1;}#sk-container-id-2 div.sk-parallel-item {display: flex;flex-direction: column;z-index: 1;position: relative;background-color: white;}#sk-container-id-2 div.sk-parallel-item:first-child::after {align-self: flex-end;width: 50%;}#sk-container-id-2 div.sk-parallel-item:last-child::after {align-self: flex-start;width: 50%;}#sk-container-id-2 div.sk-parallel-item:only-child::after {width: 0;}#sk-container-id-2 div.sk-dashed-wrapped {border: 1px dashed gray;margin: 0 0.4em 0.5em 0.4em;box-sizing: border-box;padding-bottom: 0.4em;background-color: white;}#sk-container-id-2 div.sk-label label {font-family: monospace;font-weight: bold;display: inline-block;line-height: 1.2em;}#sk-container-id-2 div.sk-label-container {text-align: center;}#sk-container-id-2 div.sk-container {/* jupyter's `normalize.less` sets `[hidden] { display: none; }` but bootstrap.min.css set `[hidden] { display: none !important; }` so we also need the `!important` here to be able to override the default hidden behavior on the sphinx rendered scikit-learn.org. See: https://github.com/scikit-learn/scikit-learn/issues/21755 */display: inline-block !important;position: relative;}#sk-container-id-2 div.sk-text-repr-fallback {display: none;}</style><div id=\"sk-container-id-2\" class=\"sk-top-container\"><div class=\"sk-text-repr-fallback\"><pre>AdaBoostClassifier(base_estimator=DecisionTreeClassifier(max_depth=4),\n",
       "                   n_estimators=100)</pre><b>In a Jupyter environment, please rerun this cell to show the HTML representation or trust the notebook. <br />On GitHub, the HTML representation is unable to render, please try loading this page with nbviewer.org.</b></div><div class=\"sk-container\" hidden><div class=\"sk-item sk-dashed-wrapped\"><div class=\"sk-label-container\"><div class=\"sk-label sk-toggleable\"><input class=\"sk-toggleable__control sk-hidden--visually\" id=\"sk-estimator-id-4\" type=\"checkbox\" ><label for=\"sk-estimator-id-4\" class=\"sk-toggleable__label sk-toggleable__label-arrow\">AdaBoostClassifier</label><div class=\"sk-toggleable__content\"><pre>AdaBoostClassifier(base_estimator=DecisionTreeClassifier(max_depth=4),\n",
       "                   n_estimators=100)</pre></div></div></div><div class=\"sk-parallel\"><div class=\"sk-parallel-item\"><div class=\"sk-item\"><div class=\"sk-label-container\"><div class=\"sk-label sk-toggleable\"><input class=\"sk-toggleable__control sk-hidden--visually\" id=\"sk-estimator-id-5\" type=\"checkbox\" ><label for=\"sk-estimator-id-5\" class=\"sk-toggleable__label sk-toggleable__label-arrow\">base_estimator: DecisionTreeClassifier</label><div class=\"sk-toggleable__content\"><pre>DecisionTreeClassifier(max_depth=4)</pre></div></div></div><div class=\"sk-serial\"><div class=\"sk-item\"><div class=\"sk-estimator sk-toggleable\"><input class=\"sk-toggleable__control sk-hidden--visually\" id=\"sk-estimator-id-6\" type=\"checkbox\" ><label for=\"sk-estimator-id-6\" class=\"sk-toggleable__label sk-toggleable__label-arrow\">DecisionTreeClassifier</label><div class=\"sk-toggleable__content\"><pre>DecisionTreeClassifier(max_depth=4)</pre></div></div></div></div></div></div></div></div></div></div>"
      ],
      "text/plain": [
       "AdaBoostClassifier(base_estimator=DecisionTreeClassifier(max_depth=4),\n",
       "                   n_estimators=100)"
      ]
     },
     "execution_count": 121,
     "metadata": {},
     "output_type": "execute_result"
    }
   ],
   "source": [
    "ada=AdaBoostClassifier(n_estimators=100,base_estimator=(DecisionTreeClassifier(max_depth=4)) )\n",
    "ada.fit(x_train,y_train)"
   ]
  },
  {
   "cell_type": "code",
   "execution_count": 122,
   "metadata": {},
   "outputs": [],
   "source": [
    "predict=ada.predict_proba(x_test)"
   ]
  },
  {
   "cell_type": "code",
   "execution_count": 123,
   "metadata": {},
   "outputs": [],
   "source": [
    "predict=pd.DataFrame(data=predict)\n",
    "predict=predict[1].values"
   ]
  },
  {
   "cell_type": "markdown",
   "metadata": {},
   "source": [
    "auc"
   ]
  },
  {
   "cell_type": "code",
   "execution_count": 124,
   "metadata": {},
   "outputs": [
    {
     "data": {
      "text/plain": [
       "0.9893089994352894"
      ]
     },
     "execution_count": 124,
     "metadata": {},
     "output_type": "execute_result"
    }
   ],
   "source": [
    "auc_score=roc_auc_score(y_test,predict)\n",
    "auc_score"
   ]
  },
  {
   "cell_type": "markdown",
   "metadata": {},
   "source": [
    "running while adding features"
   ]
  },
  {
   "cell_type": "code",
   "execution_count": 490,
   "metadata": {},
   "outputs": [],
   "source": [
    "score_ada=[]\n",
    "predicted_class_ada=[]\n",
    "\n",
    "for i in (0,3,4,5):\n",
    "    if i==0: \n",
    "        k=3\n",
    "    else: \n",
    "        k=5\n",
    "\n",
    "    x_train_new=x_train.iloc[:,0:20+i]\n",
    "    x_test_new=x_test.iloc[:,0:20+i]\n",
    "    \n",
    "    \n",
    "    ada=AdaBoostClassifier(n_estimators=50+10*i,base_estimator=(DecisionTreeClassifier(max_depth=4)) )\n",
    "    ada.fit(x_train_new,y_train)\n",
    "\n",
    "    predict=ada.predict_proba(x_test_new)\n",
    "   \n",
    "    predict=pd.DataFrame(data=predict)\n",
    "    predict=predict[1].values\n",
    "\n",
    "    score_ada.append(roc_auc_score(y_test,predict))\n",
    "    predict=pd.DataFrame(predict,columns=['pred_class']) \n",
    "    predict.loc[predict[\"pred_class\"]<0.5, \"pred_class\"] = 0\n",
    "    predict.loc[predict[\"pred_class\"]>0.5, \"pred_class\"] = 1\n",
    "    predicted_class_ada.append(predict)"
   ]
  },
  {
   "cell_type": "code",
   "execution_count": 491,
   "metadata": {},
   "outputs": [
    {
     "data": {
      "text/plain": [
       "[0.9022579872341152, 0.972175162996047, 0.967276725362356, 0.986019131714496]"
      ]
     },
     "execution_count": 491,
     "metadata": {},
     "output_type": "execute_result"
    }
   ],
   "source": [
    "score_ada"
   ]
  },
  {
   "cell_type": "code",
   "execution_count": 50,
   "metadata": {},
   "outputs": [],
   "source": [
    "score_814_ada=[]\n",
    "FPS_rate_ada=[]\n",
    "TPS_rate_ada=[]\n",
    "\n",
    "for i,j in zip([22.5,23,24,25,26],[0,22.5,23,24,0]):\n",
    "    \n",
    "    f5=f1.copy()\n",
    "    f5=f5[(f5['f814w']<=i)&(f5['f814w']>j)]\n",
    "\n",
    "    X=f5.drop([\"id\",'g/s','stellar_flag'],axis=1)\n",
    "    y=f5['g/s']\n",
    "    \n",
    "    x_train,x_test,y_train,y_test=train_test_split(X,y,test_size=0.15,random_state=1)\n",
    "\n",
    "    ada=AdaBoostClassifier(base_estimator=(DecisionTreeClassifier(max_depth=4)))\n",
    "    ada.fit(x_train,y_train)\n",
    "   \n",
    "    predict=ada.predict_proba(x_test)\n",
    "    predict=pd.DataFrame(data=predict)\n",
    "    predict=predict[1].values\n",
    "    \n",
    "    score_814_ada.append(roc_auc_score(y_test,predict))\n",
    "    false_positive_rate,true_positive_rate,thresholds= roc_curve(y_test,predict) \n",
    "    FPS_rate_ada.append(false_positive_rate)\n",
    "    TPS_rate_ada.append(true_positive_rate)"
   ]
  },
  {
   "cell_type": "code",
   "execution_count": 51,
   "metadata": {},
   "outputs": [
    {
     "data": {
      "image/png": "[encoded data removed]",
      "text/plain": [
       "<Figure size 432x288 with 1 Axes>"
      ]
     },
     "metadata": {
      "needs_background": "light"
     },
     "output_type": "display_data"
    }
   ],
   "source": [
    "result=pd.DataFrame({'F814':[\"F814<22.5\",\"22.5<F814<23\",\"23<F814<24\",\"24<F814<25\",\"F814<26\"],'AUC score':score_814_ada})\n",
    "plt.plot(FPS_rate_ada[0],TPS_rate_ada[0],color=\"black\",alpha=1,ls='dashed',label=\"F814<22.5\")\n",
    "plt.plot(FPS_rate_ada[1],TPS_rate_ada[1],color=\"purple\",alpha=1,ls='dashed',label=\"22.5<F814<23\")\n",
    "plt.plot(FPS_rate_ada[2],TPS_rate_ada[2],color=\"green\",alpha=1,ls='dashed',label=\"23<F814<24\")\n",
    "plt.plot(FPS_rate_ada[3],TPS_rate_ada[3],color=\"blue\",alpha=1,ls='dashed',label=\"24<F814<25\")\n",
    "plt.plot(FPS_rate_ada[4],TPS_rate_ada[4],color=\"red\",alpha=1,ls='dashed',label=\"F814<26\")\n",
    "plt.xlabel('False positive rate')\n",
    "plt.ylabel('True positive rate')\n",
    "\n",
    "plt.legend()\n",
    "plt.show()"
   ]
  },
  {
   "cell_type": "code",
   "execution_count": 52,
   "metadata": {},
   "outputs": [
    {
     "data": {
      "text/html": [
       "<div>\n",
       "<style scoped>\n",
       "    .dataframe tbody tr th:only-of-type {\n",
       "        vertical-align: middle;\n",
       "    }\n",
       "\n",
       "    .dataframe tbody tr th {\n",
       "        vertical-align: top;\n",
       "    }\n",
       "\n",
       "    .dataframe thead th {\n",
       "        text-align: right;\n",
       "    }\n",
       "</style>\n",
       "<table border=\"1\" class=\"dataframe\">\n",
       "  <thead>\n",
       "    <tr style=\"text-align: right;\">\n",
       "      <th></th>\n",
       "      <th>F814</th>\n",
       "      <th>AUC score</th>\n",
       "    </tr>\n",
       "  </thead>\n",
       "  <tbody>\n",
       "    <tr>\n",
       "      <th>0</th>\n",
       "      <td>F814&lt;22.5</td>\n",
       "      <td>0.987068</td>\n",
       "    </tr>\n",
       "    <tr>\n",
       "      <th>1</th>\n",
       "      <td>22.5&lt;F814&lt;23</td>\n",
       "      <td>0.901168</td>\n",
       "    </tr>\n",
       "    <tr>\n",
       "      <th>2</th>\n",
       "      <td>23&lt;F814&lt;24</td>\n",
       "      <td>0.725283</td>\n",
       "    </tr>\n",
       "    <tr>\n",
       "      <th>3</th>\n",
       "      <td>24&lt;F814&lt;25</td>\n",
       "      <td>0.712473</td>\n",
       "    </tr>\n",
       "    <tr>\n",
       "      <th>4</th>\n",
       "      <td>F814&lt;26</td>\n",
       "      <td>0.927744</td>\n",
       "    </tr>\n",
       "  </tbody>\n",
       "</table>\n",
       "</div>"
      ],
      "text/plain": [
       "           F814  AUC score\n",
       "0     F814<22.5   0.987068\n",
       "1  22.5<F814<23   0.901168\n",
       "2    23<F814<24   0.725283\n",
       "3    24<F814<25   0.712473\n",
       "4       F814<26   0.927744"
      ]
     },
     "execution_count": 52,
     "metadata": {},
     "output_type": "execute_result"
    }
   ],
   "source": [
    "result"
   ]
  },
  {
   "cell_type": "code",
   "execution_count": 64,
   "metadata": {},
   "outputs": [
    {
     "data": {
      "image/png": "[encoded data removed]",
      "text/plain": [
       "<Figure size 432x288 with 1 Axes>"
      ]
     },
     "metadata": {
      "needs_background": "light"
     },
     "output_type": "display_data"
    }
   ],
   "source": [
    "X=f1.drop([\"id\",'g/s','stellar_flag'],axis=1)\n",
    "y=f1['g/s']\n",
    "x_train,x_test,y_train,y_test=train_test_split(X,y,test_size=0.15,random_state=1)\n",
    "\n",
    "ada=AdaBoostClassifier(n_estimators=100,base_estimator=(DecisionTreeClassifier(max_depth=4))).fit(x_train,y_train)\n",
    "feature_importances = pd.DataFrame(ada.feature_importances_, index =x_train.columns,  columns=['importance']).sort_values('importance', ascending=False)\n",
    "feature_importances.plot.bar()    # plotting ranking based on their importance   \n",
    "plt.show()"
   ]
  },
  {
   "cell_type": "code",
   "execution_count": null,
   "metadata": {},
   "outputs": [],
   "source": []
  },
  {
   "cell_type": "code",
   "execution_count": 15,
   "metadata": {},
   "outputs": [
    {
     "data": {
      "text/plain": [
       "<AxesSubplot:>"
      ]
     },
     "execution_count": 15,
     "metadata": {},
     "output_type": "execute_result"
    },
    {
     "data": {
      "image/png": "[encoded data removed]",
      "text/plain": [
       "<Figure size 1440x720 with 2 Axes>"
      ]
     },
     "metadata": {
      "needs_background": "light"
     },
     "output_type": "display_data"
    }
   ],
   "source": [
    "fcor=f1.drop([\"id\",'g/s','stellar_flag'],axis=1)\n",
    "# Correlation between different variables\n",
    "#\n",
    "corr = fcor.corr()\n",
    "#\n",
    "# Set up the matplotlib plot configuration\n",
    "#\n",
    "f, ax = plt.subplots(figsize=(20, 10))\n",
    "#\n",
    "# Generate a mask for upper traingle\n",
    "#\n",
    "mask = np.triu(np.ones_like(corr, dtype=bool))\n",
    "#\n",
    "# Configure a custom diverging colormap\n",
    "#\n",
    "cmap = sns.diverging_palette(230, 20, as_cmap=True)\n",
    "#\n",
    "# Draw the heatmap\n",
    "#\n",
    "sns.heatmap(corr, annot=True, mask = mask, cmap=cmap)"
   ]
  },
  {
   "cell_type": "code",
   "execution_count": 28,
   "metadata": {},
   "outputs": [],
   "source": [
    "f2=f1.copy(deep=True)\n",
    "\n",
    "\n",
    "X=f2.drop([\"id\",'g/s','stellar_flag','f923w','f892w','f861w','f830w','f799w','f768w','f737w','f706w','f675w','f644w','f613w','f489w'],axis=1)\n",
    "y=f2['g/s']"
   ]
  },
  {
   "cell_type": "code",
   "execution_count": 29,
   "metadata": {},
   "outputs": [],
   "source": [
    "from sklearn.model_selection import train_test_split\n",
    "x_train,x_test,y_train,y_test=train_test_split(X,y,test_size=0.15,random_state=1)"
   ]
  },
  {
   "cell_type": "code",
   "execution_count": 30,
   "metadata": {},
   "outputs": [],
   "source": [
    "def ANN(no_of_neurons,no_of_layers,dropout,activation,learning_rate):   # difining neural net\n",
    "    model=Sequential()\n",
    "    model.add(Dense(no_of_neurons,input_dim=x_train.shape[1],activation=activation))\n",
    "    model.add(BatchNormalization())\n",
    "    for i in range(no_of_layers):\n",
    "     model.add(Dense(no_of_neurons,activation))\n",
    "    model.add(Dropout(dropout))\n",
    "    model.add(Dense(1,activation=\"sigmoid\"))\n",
    "    model.compile(loss=\"binary_crossentropy\",optimizer= Adam(learning_rate=learning_rate),metrics=[\"accuracy\"])\n",
    "    return model"
   ]
  },
  {
   "cell_type": "code",
   "execution_count": 31,
   "metadata": {},
   "outputs": [
    {
     "name": "stderr",
     "output_type": "stream",
     "text": [
      "/tmp/ipykernel_465260/2137459607.py:1: DeprecationWarning: KerasClassifier is deprecated, use Sci-Keras (https://github.com/adriangb/scikeras) instead. See https://www.adriangb.com/scikeras/stable/migration.html for help migrating.\n",
      "  test_model=KerasClassifier(build_fn=ANN)    # hyperparameterizing defined neural net\n"
     ]
    },
    {
     "name": "stdout",
     "output_type": "stream",
     "text": [
      "565/565 [==============================] - 4s 4ms/step - loss: 0.1521 - accuracy: 0.9557\n",
      "565/565 [==============================] - 4s 5ms/step - loss: 0.1682 - accuracy: 0.9442\n",
      "283/283 [==============================] - 1s 4ms/step - loss: 0.5623 - accuracy: 0.9297\n",
      "565/565 [==============================] - 5s 5ms/step - loss: 0.1469 - accuracy: 0.9543\n",
      "565/565 [==============================] - 5s 5ms/step - loss: 0.1401 - accuracy: 0.9597\n",
      "283/283 [==============================] - 1s 3ms/step - loss: 0.3182 - accuracy: 0.8817\n",
      "283/283 [==============================] - 1s 3ms/step - loss: 1.5179 - accuracy: 0.5195\n",
      "283/283 [==============================] - 1s 4ms/step - loss: 0.5694 - accuracy: 0.9297\n",
      "565/565 [==============================] - 4s 4ms/step - loss: 0.1383 - accuracy: 0.9578\n",
      "283/283 [==============================] - 1s 3ms/step - loss: 0.1321 - accuracy: 0.9626\n",
      "565/565 [==============================] - 5s 5ms/step - loss: 0.1455 - accuracy: 0.9538\n",
      "565/565 [==============================] - 5s 6ms/step - loss: 0.1299 - accuracy: 0.9607\n",
      "565/565 [==============================] - 5s 6ms/step - loss: 0.1324 - accuracy: 0.9592\n",
      "283/283 [==============================] - 1s 4ms/step - loss: 0.1258 - accuracy: 0.9623\n",
      "283/283 [==============================] - 1s 3ms/step - loss: 0.3959 - accuracy: 0.9312\n",
      "283/283 [==============================] - 1s 4ms/step - loss: 0.3380 - accuracy: 0.8641\n",
      "565/565 [==============================] - 4s 5ms/step - loss: 0.1255 - accuracy: 0.9604\n",
      "565/565 [==============================] - 4s 5ms/step - loss: 0.1500 - accuracy: 0.9548\n",
      "283/283 [==============================] - 1s 4ms/step - loss: 0.4695 - accuracy: 0.9327\n",
      "565/565 [==============================] - 4s 5ms/step - loss: 0.1478 - accuracy: 0.9532\n",
      "565/565 [==============================] - 5s 4ms/step - loss: 0.1471 - accuracy: 0.9554\n",
      "283/283 [==============================] - 1s 2ms/step - loss: 0.1012 - accuracy: 0.9683\n",
      "283/283 [==============================] - 1s 2ms/step - loss: 0.2738 - accuracy: 0.9297\n",
      "283/283 [==============================] - 1s 3ms/step - loss: 0.4919 - accuracy: 0.9297\n",
      "565/565 [==============================] - 3s 4ms/step - loss: 0.1383 - accuracy: 0.9594\n",
      "283/283 [==============================] - 1s 4ms/step - loss: 0.4215 - accuracy: 0.8604\n",
      "565/565 [==============================] - 4s 4ms/step - loss: 0.1326 - accuracy: 0.9601\n",
      "565/565 [==============================] - 4s 5ms/step - loss: 0.1311 - accuracy: 0.9591\n",
      "283/283 [==============================] - 2s 4ms/step - loss: 0.2850 - accuracy: 0.9369\n",
      "283/283 [==============================] - 1s 3ms/step - loss: 0.4416 - accuracy: 0.9300\n",
      "565/565 [==============================] - 5s 6ms/step - loss: 0.1311 - accuracy: 0.9608\n",
      "565/565 [==============================] - 5s 4ms/step - loss: 0.1398 - accuracy: 0.9570\n",
      "283/283 [==============================] - 1s 3ms/step - loss: 1.4850 - accuracy: 0.4081\n",
      "283/283 [==============================] - 2s 5ms/step - loss: 1.2618 - accuracy: 0.9295\n",
      "565/565 [==============================] - 4s 5ms/step - loss: 0.1352 - accuracy: 0.9604\n",
      "565/565 [==============================] - 5s 5ms/step - loss: 0.1215 - accuracy: 0.9631\n",
      "283/283 [==============================] - 1s 3ms/step - loss: 0.3756 - accuracy: 0.9363\n",
      "565/565 [==============================] - 3s 4ms/step - loss: 0.1376 - accuracy: 0.9592\n",
      "283/283 [==============================] - 1s 4ms/step - loss: 0.1448 - accuracy: 0.9470\n",
      "283/283 [==============================] - 2s 5ms/step - loss: 0.1767 - accuracy: 0.9495\n",
      "565/565 [==============================] - 4s 5ms/step - loss: 0.1486 - accuracy: 0.9550\n",
      "565/565 [==============================] - 4s 5ms/step - loss: 0.1370 - accuracy: 0.9580\n",
      "283/283 [==============================] - 2s 4ms/step - loss: 0.1176 - accuracy: 0.9651\n",
      "565/565 [==============================] - 4s 4ms/step - loss: 0.1348 - accuracy: 0.9615\n",
      "565/565 [==============================] - 4s 4ms/step - loss: 0.1379 - accuracy: 0.9589\n",
      "283/283 [==============================] - 2s 4ms/step - loss: 0.2747 - accuracy: 0.8966\n",
      "283/283 [==============================] - 2s 4ms/step - loss: 0.2100 - accuracy: 0.9352\n",
      "283/283 [==============================] - 1s 3ms/step - loss: 0.1722 - accuracy: 0.9442\n",
      "565/565 [==============================] - 5s 6ms/step - loss: 0.1374 - accuracy: 0.9579\n",
      "565/565 [==============================] - 5s 6ms/step - loss: 0.1353 - accuracy: 0.9602\n",
      "565/565 [==============================] - 4s 5ms/step - loss: 0.1643 - accuracy: 0.9455\n",
      "283/283 [==============================] - 1s 3ms/step - loss: 0.2940 - accuracy: 0.9114\n",
      "565/565 [==============================] - 5s 6ms/step - loss: 0.1362 - accuracy: 0.9564\n",
      "283/283 [==============================] - 1s 2ms/step - loss: 0.5650 - accuracy: 0.9297\n",
      "283/283 [==============================] - 1s 3ms/step - loss: 0.1966 - accuracy: 0.9245\n",
      "283/283 [==============================] - 1s 3ms/step - loss: 3.6677 - accuracy: 0.0758\n",
      "565/565 [==============================] - 3s 4ms/step - loss: 0.1638 - accuracy: 0.9494\n",
      "565/565 [==============================] - 4s 5ms/step - loss: 0.1738 - accuracy: 0.9452\n",
      "283/283 [==============================] - 1s 3ms/step - loss: 0.2245 - accuracy: 0.9003\n",
      "565/565 [==============================] - 4s 4ms/step - loss: 0.1434 - accuracy: 0.9560\n",
      "565/565 [==============================] - 4s 5ms/step - loss: 0.1480 - accuracy: 0.9564\n",
      "283/283 [==============================] - 1s 3ms/step - loss: 0.1454 - accuracy: 0.9625\n",
      "283/283 [==============================] - 1s 3ms/step - loss: 0.2657 - accuracy: 0.9384\n",
      "565/565 [==============================] - 4s 4ms/step - loss: 0.1405 - accuracy: 0.9569\n",
      "283/283 [==============================] - 1s 3ms/step - loss: 0.7230 - accuracy: 0.6177\n",
      "283/283 [==============================] - 2s 4ms/step - loss: 0.1642 - accuracy: 0.9385\n",
      "565/565 [==============================] - 4s 5ms/step - loss: 0.1442 - accuracy: 0.9559\n",
      "565/565 [==============================] - 4s 6ms/step - loss: 0.1399 - accuracy: 0.9565\n",
      "283/283 [==============================] - 2s 3ms/step - loss: 0.6993 - accuracy: 0.9297\n",
      "565/565 [==============================] - 5s 4ms/step - loss: 0.1349 - accuracy: 0.9588\n",
      "565/565 [==============================] - 4s 4ms/step - loss: 0.1587 - accuracy: 0.9564\n",
      "283/283 [==============================] - 1s 4ms/step - loss: 1.0708 - accuracy: 0.4986\n",
      "283/283 [==============================] - 1s 4ms/step - loss: 0.1483 - accuracy: 0.9502\n",
      "283/283 [==============================] - 1s 3ms/step - loss: 0.7248 - accuracy: 0.9297\n",
      "565/565 [==============================] - 4s 5ms/step - loss: 0.1428 - accuracy: 0.9601\n",
      "565/565 [==============================] - 4s 5ms/step - loss: 0.1402 - accuracy: 0.9588\n",
      "565/565 [==============================] - 5s 4ms/step - loss: 0.1457 - accuracy: 0.9548\n",
      "565/565 [==============================] - 5s 5ms/step - loss: 0.1598 - accuracy: 0.9499\n",
      "283/283 [==============================] - 1s 3ms/step - loss: 0.3457 - accuracy: 0.9306\n",
      "283/283 [==============================] - 1s 3ms/step - loss: 0.1693 - accuracy: 0.9463\n",
      "283/283 [==============================] - 1s 2ms/step - loss: 0.3592 - accuracy: 0.9351\n",
      "283/283 [==============================] - 1s 3ms/step - loss: 0.2879 - accuracy: 0.8909\n",
      "565/565 [==============================] - 4s 6ms/step - loss: 0.1331 - accuracy: 0.9615\n",
      "565/565 [==============================] - 5s 6ms/step - loss: 0.1382 - accuracy: 0.9582\n",
      "565/565 [==============================] - 5s 6ms/step - loss: 0.1274 - accuracy: 0.9621\n",
      "565/565 [==============================] - 4s 5ms/step - loss: 0.1323 - accuracy: 0.9596\n",
      "283/283 [==============================] - 1s 2ms/step - loss: 0.6321 - accuracy: 0.9299\n",
      "283/283 [==============================] - 1s 3ms/step - loss: 0.1971 - accuracy: 0.9461\n",
      "283/283 [==============================] - 1s 4ms/step - loss: 0.3309 - accuracy: 0.9298\n",
      "283/283 [==============================] - 1s 4ms/step - loss: 0.2700 - accuracy: 0.9299\n",
      "565/565 [==============================] - 4s 5ms/step - loss: 0.1453 - accuracy: 0.9574\n",
      "283/283 [==============================] - 2s 5ms/step - loss: 2.2647 - accuracy: 0.9295\n",
      "565/565 [==============================] - 5s 5ms/step - loss: 0.1565 - accuracy: 0.9558\n",
      "565/565 [==============================] - 5s 6ms/step - loss: 0.1561 - accuracy: 0.9522\n",
      "565/565 [==============================] - 6s 6ms/step - loss: 0.1385 - accuracy: 0.9586\n",
      "283/283 [==============================] - 2s 5ms/step - loss: 2.3548 - accuracy: 0.1755\n",
      "283/283 [==============================] - 1s 4ms/step - loss: 2.8782 - accuracy: 0.0969\n",
      "283/283 [==============================] - 1s 3ms/step - loss: 2.2009 - accuracy: 0.1466\n",
      "565/565 [==============================] - 4s 5ms/step - loss: 0.1421 - accuracy: 0.9579\n",
      "283/283 [==============================] - 1s 3ms/step - loss: 0.4067 - accuracy: 0.8020\n",
      "565/565 [==============================] - 5s 6ms/step - loss: 0.1382 - accuracy: 0.9597\n",
      "565/565 [==============================] - 5s 7ms/step - loss: 0.1423 - accuracy: 0.9571\n",
      "565/565 [==============================] - 6s 8ms/step - loss: 0.1420 - accuracy: 0.9577\n",
      "283/283 [==============================] - 2s 4ms/step - loss: 0.1920 - accuracy: 0.9213\n",
      "283/283 [==============================] - 1s 4ms/step - loss: 0.1341 - accuracy: 0.9563\n",
      "565/565 [==============================] - 6s 6ms/step - loss: 0.1333 - accuracy: 0.9599\n",
      "283/283 [==============================] - 1s 3ms/step - loss: 1.8810 - accuracy: 0.1547\n",
      "283/283 [==============================] - 2s 4ms/step - loss: 0.3358 - accuracy: 0.8394\n",
      "565/565 [==============================] - 5s 5ms/step - loss: 0.1781 - accuracy: 0.9482\n",
      "565/565 [==============================] - 4s 5ms/step - loss: 0.1908 - accuracy: 0.9442\n",
      "283/283 [==============================] - 1s 3ms/step - loss: 0.1997 - accuracy: 0.9447\n",
      "565/565 [==============================] - 4s 5ms/step - loss: 0.1911 - accuracy: 0.9474\n",
      "283/283 [==============================] - 1s 3ms/step - loss: 0.3766 - accuracy: 0.9299\n",
      "565/565 [==============================] - 5s 4ms/step - loss: 0.1567 - accuracy: 0.9567\n",
      "283/283 [==============================] - 1s 4ms/step - loss: 0.4912 - accuracy: 0.7712\n",
      "283/283 [==============================] - 2s 4ms/step - loss: 0.1605 - accuracy: 0.9563\n",
      "565/565 [==============================] - 5s 6ms/step - loss: 0.1644 - accuracy: 0.9502\n",
      "565/565 [==============================] - 4s 5ms/step - loss: 0.1580 - accuracy: 0.9527\n",
      "283/283 [==============================] - 1s 3ms/step - loss: 0.4000 - accuracy: 0.9347\n",
      "565/565 [==============================] - 4s 5ms/step - loss: 0.1571 - accuracy: 0.9534\n",
      "283/283 [==============================] - 2s 5ms/step - loss: 0.1431 - accuracy: 0.9525\n",
      "283/283 [==============================] - 2s 4ms/step - loss: 0.1223 - accuracy: 0.9676\n",
      "565/565 [==============================] - 5s 5ms/step - loss: 0.1564 - accuracy: 0.9523\n",
      "565/565 [==============================] - 5s 5ms/step - loss: 0.1475 - accuracy: 0.9566\n",
      "565/565 [==============================] - 4s 5ms/step - loss: 0.1797 - accuracy: 0.9494\n",
      "283/283 [==============================] - 2s 4ms/step - loss: 1.8607 - accuracy: 0.1906\n",
      "283/283 [==============================] - 1s 3ms/step - loss: 0.3033 - accuracy: 0.9300\n",
      "565/565 [==============================] - 5s 4ms/step - loss: 0.1735 - accuracy: 0.9479\n",
      "283/283 [==============================] - 2s 4ms/step - loss: 0.1219 - accuracy: 0.9574\n",
      "283/283 [==============================] - 2s 5ms/step - loss: 0.1204 - accuracy: 0.9698\n",
      "565/565 [==============================] - 4s 5ms/step - loss: 0.1652 - accuracy: 0.9428\n",
      "565/565 [==============================] - 4s 5ms/step - loss: 0.1569 - accuracy: 0.9568\n",
      "283/283 [==============================] - 2s 4ms/step - loss: 1.6955 - accuracy: 0.0738\n",
      "565/565 [==============================] - 4s 5ms/step - loss: 0.1616 - accuracy: 0.9528\n",
      "565/565 [==============================] - 5s 5ms/step - loss: 0.1481 - accuracy: 0.9538\n",
      "283/283 [==============================] - 2s 4ms/step - loss: 0.3632 - accuracy: 0.9363\n",
      "283/283 [==============================] - 2s 4ms/step - loss: 0.1821 - accuracy: 0.9495\n",
      "565/565 [==============================] - 4s 5ms/step - loss: 0.1567 - accuracy: 0.9539\n",
      "283/283 [==============================] - 1s 4ms/step - loss: 0.1128 - accuracy: 0.9657\n",
      "565/565 [==============================] - 4s 5ms/step - loss: 0.1516 - accuracy: 0.9564\n",
      "565/565 [==============================] - 5s 5ms/step - loss: 0.1443 - accuracy: 0.9587\n",
      "283/283 [==============================] - 2s 3ms/step - loss: 2.4140 - accuracy: 0.1615\n",
      "283/283 [==============================] - 1s 3ms/step - loss: 0.3896 - accuracy: 0.8554\n",
      "283/283 [==============================] - 1s 3ms/step - loss: 0.1811 - accuracy: 0.9565\n",
      "565/565 [==============================] - 5s 5ms/step - loss: 0.1862 - accuracy: 0.9502\n",
      "565/565 [==============================] - 4s 5ms/step - loss: 0.1801 - accuracy: 0.9441\n",
      "283/283 [==============================] - 2s 4ms/step - loss: 0.2145 - accuracy: 0.9141\n",
      "565/565 [==============================] - 5s 5ms/step - loss: 0.1902 - accuracy: 0.9491\n",
      "565/565 [==============================] - 4s 4ms/step - loss: 0.1736 - accuracy: 0.9478\n",
      "283/283 [==============================] - 1s 3ms/step - loss: 0.4811 - accuracy: 0.7292\n",
      "283/283 [==============================] - 1s 4ms/step - loss: 0.3982 - accuracy: 0.9371\n",
      "565/565 [==============================] - 5s 5ms/step - loss: 0.1605 - accuracy: 0.9534\n",
      "283/283 [==============================] - 1s 3ms/step - loss: 0.1884 - accuracy: 0.9471\n",
      "565/565 [==============================] - 5s 5ms/step - loss: 0.1394 - accuracy: 0.9615\n",
      "283/283 [==============================] - 2s 4ms/step - loss: 0.3784 - accuracy: 0.8156\n",
      "565/565 [==============================] - 5s 6ms/step - loss: 0.1538 - accuracy: 0.9552\n",
      "565/565 [==============================] - 5s 5ms/step - loss: 0.1476 - accuracy: 0.9568\n",
      "283/283 [==============================] - 1s 3ms/step - loss: 0.1688 - accuracy: 0.9432\n",
      "283/283 [==============================] - 1s 3ms/step - loss: 0.4000 - accuracy: 0.7807\n",
      "283/283 [==============================] - 2s 3ms/step - loss: 0.6240 - accuracy: 0.9297\n",
      "565/565 [==============================] - 4s 5ms/step - loss: 0.1542 - accuracy: 0.9535\n",
      "283/283 [==============================] - 1s 1ms/step - loss: 0.3266 - accuracy: 0.9299\n"
     ]
    },
    {
     "name": "stderr",
     "output_type": "stream",
     "text": [
      "/home/pratyaksh/.local/lib/python3.10/site-packages/sklearn/model_selection/_validation.py:378: FitFailedWarning: \n",
      "81 fits failed out of a total of 162.\n",
      "The score on these train-test partitions for these parameters will be set to nan.\n",
      "If these failures are not expected, you can try to debug them by setting error_score='raise'.\n",
      "\n",
      "Below are more details about the failures:\n",
      "--------------------------------------------------------------------------------\n",
      "81 fits failed with the following error:\n",
      "Traceback (most recent call last):\n",
      "  File \"/home/pratyaksh/.local/lib/python3.10/site-packages/sklearn/model_selection/_validation.py\", line 686, in _fit_and_score\n",
      "    estimator.fit(X_train, y_train, **fit_params)\n",
      "  File \"/home/pratyaksh/.local/lib/python3.10/site-packages/keras/wrappers/scikit_learn.py\", line 236, in fit\n",
      "    return super(KerasClassifier, self).fit(x, y, **kwargs)\n",
      "  File \"/home/pratyaksh/.local/lib/python3.10/site-packages/keras/wrappers/scikit_learn.py\", line 155, in fit\n",
      "    self.model = self.build_fn(**self.filter_sk_params(self.build_fn))\n",
      "  File \"/tmp/ipykernel_465260/3099064428.py\", line 3, in ANN\n",
      "  File \"/home/pratyaksh/.local/lib/python3.10/site-packages/keras/dtensor/utils.py\", line 95, in _wrap_function\n",
      "    init_method(layer_instance, *args, **kwargs)\n",
      "  File \"/home/pratyaksh/.local/lib/python3.10/site-packages/keras/layers/core/dense.py\", line 120, in __init__\n",
      "    self.activation = activations.get(activation)\n",
      "  File \"/home/pratyaksh/.local/lib/python3.10/site-packages/tensorflow/python/util/traceback_utils.py\", line 153, in error_handler\n",
      "    raise e.with_traceback(filtered_tb) from None\n",
      "  File \"/home/pratyaksh/.local/lib/python3.10/site-packages/keras/activations.py\", line 595, in get\n",
      "    return deserialize(identifier)\n",
      "  File \"/home/pratyaksh/.local/lib/python3.10/site-packages/keras/activations.py\", line 555, in deserialize\n",
      "    return deserialize_keras_object(\n",
      "  File \"/home/pratyaksh/.local/lib/python3.10/site-packages/keras/utils/generic_utils.py\", line 709, in deserialize_keras_object\n",
      "    raise ValueError(\n",
      "ValueError: Unknown activation function: LeakyRelu. Please ensure this object is passed to the `custom_objects` argument. See https://www.tensorflow.org/guide/keras/save_and_serialize#registering_the_custom_object for details.\n",
      "\n",
      "  warnings.warn(some_fits_failed_message, FitFailedWarning)\n",
      "/home/pratyaksh/.local/lib/python3.10/site-packages/sklearn/model_selection/_search.py:953: UserWarning: One or more of the test scores are non-finite: [0.77698485 0.95153056 0.90933675 0.94256067 0.90907826 0.75795261\n",
      " 0.95385621 0.92532094 0.6372121  0.9308218  0.83154734 0.79279995\n",
      " 0.93550869 0.91863896 0.93525026 0.40063402 0.62328983 0.65012328\n",
      " 0.88194646 0.95282151 0.70014608 0.65784695 0.95049705 0.6577688\n",
      " 0.86345319 0.89863209 0.88010077        nan        nan        nan\n",
      "        nan        nan        nan        nan        nan        nan\n",
      "        nan        nan        nan        nan        nan        nan\n",
      "        nan        nan        nan        nan        nan        nan\n",
      "        nan        nan        nan        nan        nan        nan]\n",
      "  warnings.warn(\n"
     ]
    },
    {
     "name": "stdout",
     "output_type": "stream",
     "text": [
      "847/847 [==============================] - 3s 3ms/step - loss: 0.1371 - accuracy: 0.9570\n",
      "{'activation': 'relu', 'dropout': 0.3, 'learning_rate': 0.003, 'no_of_layers': 4, 'no_of_neurons': 25}\n"
     ]
    }
   ],
   "source": [
    "test_model=KerasClassifier(build_fn=ANN)    # hyperparameterizing defined neural net\n",
    "param_grid={\n",
    "    'no_of_neurons':[25,40,75],\n",
    "    'no_of_layers':[2,3,4],\n",
    "    'dropout':[0.3,0.5,0.7],\n",
    "    \"activation\":['relu','LeakyRelu'],\n",
    "    \"learning_rate\":[0.003]\n",
    "}\n",
    "\n",
    "cv=GridSearchCV(estimator=test_model,param_grid=param_grid,cv=3,n_jobs=-1)\n",
    "cv.fit(x_train,y_train)\n",
    "print(cv.best_params_)"
   ]
  },
  {
   "cell_type": "code",
   "execution_count": 32,
   "metadata": {},
   "outputs": [],
   "source": [
    "model=ANN(no_of_neurons=25,no_of_layers=4,activation='relu',learning_rate=0.003,dropout=0.3)"
   ]
  },
  {
   "cell_type": "code",
   "execution_count": 33,
   "metadata": {},
   "outputs": [],
   "source": [
    "training_history=model.fit(x_train,y_train,epochs=500,batch_size=500,verbose=0,validation_data=[x_test,y_test],callbacks=[checkpoint,early_stopping])"
   ]
  },
  {
   "cell_type": "code",
   "execution_count": 34,
   "metadata": {},
   "outputs": [
    {
     "data": {
      "image/png": "[encoded data removed]",
      "text/plain": [
       "<Figure size 432x288 with 1 Axes>"
      ]
     },
     "metadata": {
      "needs_background": "light"
     },
     "output_type": "display_data"
    },
    {
     "data": {
      "text/plain": [
       "dict_keys(['loss', 'accuracy', 'val_loss', 'val_accuracy'])"
      ]
     },
     "execution_count": 34,
     "metadata": {},
     "output_type": "execute_result"
    }
   ],
   "source": [
    "training_info=training_history.history\n",
    "plot_training(training_info)\n",
    "training_info.keys()"
   ]
  },
  {
   "cell_type": "code",
   "execution_count": 35,
   "metadata": {},
   "outputs": [
    {
     "name": "stdout",
     "output_type": "stream",
     "text": [
      "150/150 [==============================] - 0s 1ms/step\n"
     ]
    },
    {
     "data": {
      "text/plain": [
       "0.9745984884114619"
      ]
     },
     "execution_count": 35,
     "metadata": {},
     "output_type": "execute_result"
    }
   ],
   "source": [
    "predict=model.predict(x_test)\n",
    "auc_score=roc_auc_score(y_test,predict)\n",
    "auc_score"
   ]
  },
  {
   "cell_type": "markdown",
   "metadata": {},
   "source": [
    "# Therefore we can see that CNN is giving best performance with least overfitting"
   ]
  },
  {
   "cell_type": "markdown",
   "metadata": {},
   "source": [
    "# classifying by gradually adding features for F814<22.5"
   ]
  },
  {
   "cell_type": "code",
   "execution_count": 372,
   "metadata": {},
   "outputs": [],
   "source": [
    "f3=f1.copy(deep=True)\n",
    "\n",
    "f3=f3[f3['f814w']<22.5]\n",
    "\n",
    "X=f3.drop([\"id\",'g/s','stellar_flag'],axis=1)\n",
    "y=f3['g/s']\n",
    "\n",
    "c=X.columns\n",
    "X=MinMaxScaler(feature_range=(0,255)).fit_transform(X)\n",
    "X=pd.DataFrame(data=X)\n",
    "for i in range(25):\n",
    " X.rename(columns={i:c[i]},inplace=True)\n",
    "x_train,x_test,y_train,y_test=train_test_split(X,y,test_size=0.15,random_state=1)"
   ]
  },
  {
   "cell_type": "code",
   "execution_count": 373,
   "metadata": {},
   "outputs": [
    {
     "name": "stdout",
     "output_type": "stream",
     "text": [
      "37/37 [==============================] - 0s 1ms/step\n",
      "37/37 [==============================] - 0s 2ms/step\n",
      "37/37 [==============================] - 0s 2ms/step\n",
      "37/37 [==============================] - 0s 2ms/step\n"
     ]
    }
   ],
   "source": [
    "score_1=[]\n",
    "predicted_class_1=[]\n",
    "\n",
    "for i in (0,3,4,5):\n",
    "    if i==0: \n",
    "        k=3\n",
    "    else: \n",
    "        k=5\n",
    "    model=Sequential()\n",
    "    model.add(Convolution2D(32,kernel_size=(k, 1), input_shape=(20+i,1,1),activation= 'LeakyReLU' ))\n",
    "    model.add(MaxPool2D(pool_size=(3,1)))\n",
    "    model.add(Convolution2D(32,kernel_size=(3, 1),activation= 'LeakyReLU' ))\n",
    "    model.add(MaxPool2D(pool_size=(2,1)))\n",
    "    model.add(Convolution2D(64,kernel_size=(2, 1),activation= 'LeakyReLU' ))\n",
    "    model.add(MaxPool2D(pool_size=(1,1)))\n",
    "    model.add(Dropout(0.3))\n",
    "    model.add(Flatten())\n",
    "    model.add(Dense(1,activation=\"sigmoid\"))\n",
    "    model.compile(loss=\"binary_crossentropy\",optimizer= Adam(learning_rate=0.03),metrics=[\"accuracy\"])\n",
    "\n",
    "    checkpoint= ModelCheckpoint(\"model_checkpoint.h5\",save_best_only=True)\n",
    "    early_stopping = EarlyStopping( patience=250, restore_best_weights=True)\n",
    "\n",
    "    x_train_new=x_train.iloc[:,0:20+i].values\n",
    "    x_test_new=x_test.iloc[:,0:20+i].values\n",
    "    y_train_new=y_train.values\n",
    "    y_test_new=y_test.values\n",
    "\n",
    "    trainX = x_train_new.reshape(6591,20+i,1)\n",
    "    trainX = trainX / 255.0\n",
    "    testX = x_test_new.reshape(1164,20+i,1)\n",
    "    testX= testX / 255.0\n",
    "    \n",
    "    \n",
    "    \n",
    "    model.fit(trainX,y_train_new,epochs=1000,batch_size=500,verbose=0,validation_data=[testX,y_test_new],callbacks=[checkpoint,early_stopping])\n",
    "\n",
    "    predict=model.predict(testX)\n",
    "    score_1.append(roc_auc_score(y_test_new,predict))\n",
    "    predict=pd.DataFrame(predict,columns=['pred_class']) \n",
    "    predict.loc[predict[\"pred_class\"]<0.5, \"pred_class\"] = 0\n",
    "    predict.loc[predict[\"pred_class\"]>0.5, \"pred_class\"] = 1\n",
    "    predicted_class_1.append(predict)\n",
    "    \n"
   ]
  },
  {
   "cell_type": "code",
   "execution_count": 374,
   "metadata": {},
   "outputs": [
    {
     "data": {
      "text/plain": [
       "[0.983674726628677, 0.9834180399404486, 0.9857581669147971, 0.9864768896418366]"
      ]
     },
     "execution_count": 374,
     "metadata": {},
     "output_type": "execute_result"
    }
   ],
   "source": [
    "score_1"
   ]
  },
  {
   "cell_type": "markdown",
   "metadata": {},
   "source": [
    "# classifying by gradually adding features for F814<26"
   ]
  },
  {
   "cell_type": "code",
   "execution_count": 563,
   "metadata": {},
   "outputs": [],
   "source": [
    "f4=f1.copy(deep=True)\n",
    "\n",
    "f4=f4[f4['f814w']<26]\n",
    "\n",
    "X=f4.drop([\"id\",'g/s','stellar_flag'],axis=1)\n",
    "y=f4['g/s']\n",
    "\n",
    "c=X.columns\n",
    "X=MinMaxScaler(feature_range=(0,255)).fit_transform(X)\n",
    "X=pd.DataFrame(data=X)\n",
    "for i in range(25):\n",
    " X.rename(columns={i:c[i]},inplace=True)\n",
    "x_train,x_test,y_train,y_test=train_test_split(X,y,test_size=0.15,random_state=1)"
   ]
  },
  {
   "cell_type": "code",
   "execution_count": 376,
   "metadata": {},
   "outputs": [
    {
     "name": "stdout",
     "output_type": "stream",
     "text": [
      "150/150 [==============================] - 0s 2ms/step\n",
      "150/150 [==============================] - 0s 2ms/step\n",
      "150/150 [==============================] - 0s 2ms/step\n",
      "150/150 [==============================] - 0s 2ms/step\n"
     ]
    }
   ],
   "source": [
    "score_2=[]\n",
    "predicted_class_2=[]\n",
    "\n",
    "for i in (0,3,4,5):\n",
    "    if i==0: \n",
    "        k=3\n",
    "    else: \n",
    "        k=5\n",
    "    model=Sequential()\n",
    "    model.add(Convolution2D(32,kernel_size=(k, 1), input_shape=(20+i,1,1),activation= 'LeakyReLU' ))\n",
    "    model.add(MaxPool2D(pool_size=(3,1)))\n",
    "    model.add(Convolution2D(64,kernel_size=(3, 1),activation= 'LeakyReLU' ))\n",
    "    model.add(MaxPool2D(pool_size=(2,1)))\n",
    "    model.add(Convolution2D(64,kernel_size=(2, 1),activation= 'LeakyReLU' ))\n",
    "    model.add(MaxPool2D(pool_size=(1,1)))\n",
    "    model.add(Dropout(0.3))\n",
    "    model.add(Flatten())\n",
    "    model.add(Dense(1,activation=\"sigmoid\"))\n",
    "    model.compile(loss=\"binary_crossentropy\",optimizer= Adam(learning_rate=0.03),metrics=[\"accuracy\"])\n",
    "\n",
    "    checkpoint= ModelCheckpoint(\"model_checkpoint.h5\",save_best_only=True)\n",
    "    early_stopping = EarlyStopping( patience=250, restore_best_weights=True)\n",
    "\n",
    "    x_train_new=x_train.iloc[:,0:20+i].values\n",
    "    x_test_new=x_test.iloc[:,0:20+i].values\n",
    "    y_train_new=y_train.values\n",
    "    y_test_new=y_test.values\n",
    "\n",
    "    trainX = x_train_new.reshape(27082,20+i,1)\n",
    "    trainX = trainX / 255.0\n",
    "    testX = x_test_new.reshape(4780,20+i,1)\n",
    "    testX= testX / 255.0\n",
    "    \n",
    "    \n",
    "    \n",
    "    model.fit(trainX,y_train_new,epochs=1000,batch_size=500,verbose=0,validation_data=[testX,y_test_new],callbacks=[checkpoint,early_stopping])\n",
    "\n",
    "    predict=model.predict(testX)\n",
    "    score_2.append(roc_auc_score(y_test_new,predict))\n",
    "    predict=pd.DataFrame(predict,columns=['pred_class']) \n",
    "    predict.loc[predict[\"pred_class\"]<0.5, \"pred_class\"] = 0\n",
    "    predict.loc[predict[\"pred_class\"]>0.5, \"pred_class\"] = 1\n",
    "    predicted_class_2.append(predict)"
   ]
  },
  {
   "cell_type": "code",
   "execution_count": 377,
   "metadata": {},
   "outputs": [
    {
     "data": {
      "text/plain": [
       "[0.9616374538372648,\n",
       " 0.9662914387150126,\n",
       " 0.9665547447614893,\n",
       " 0.9664961574826056]"
      ]
     },
     "execution_count": 377,
     "metadata": {},
     "output_type": "execute_result"
    }
   ],
   "source": [
    "score_2"
   ]
  },
  {
   "cell_type": "markdown",
   "metadata": {},
   "source": [
    "# now classifying objects for various ranges of F814W"
   ]
  },
  {
   "cell_type": "code",
   "execution_count": 539,
   "metadata": {},
   "outputs": [
    {
     "name": "stdout",
     "output_type": "stream",
     "text": [
      "37/37 [==============================] - 0s 1ms/step\n",
      "15/15 [==============================] - 0s 2ms/step\n",
      "46/46 [==============================] - 0s 2ms/step\n",
      "45/45 [==============================] - 0s 2ms/step\n",
      "150/150 [==============================] - 0s 2ms/step\n"
     ]
    }
   ],
   "source": [
    "score_814=[]\n",
    "FPS_rate=[]\n",
    "TPS_rate=[]\n",
    "\n",
    "for i,j in zip([22.5,23,24,25,26],[0,22.5,23,24,0]):\n",
    "    \n",
    "    f5=f1.copy()\n",
    "    f5=f5[(f5['f814w']<=i)&(f5['f814w']>j)]\n",
    "\n",
    "    X=f5.drop([\"id\",'g/s','stellar_flag'],axis=1)\n",
    "    y=f5['g/s']\n",
    "    c=X.columns\n",
    "    X=MinMaxScaler(feature_range=(0,255)).fit_transform(X)\n",
    "    X=pd.DataFrame(data=X)\n",
    "    for i in range(25):\n",
    "       X.rename(columns={i:c[i]},inplace=True)\n",
    "    x_train,x_test,y_train,y_test=train_test_split(X,y,test_size=0.15,random_state=1)\n",
    "    \n",
    "    \n",
    "    model=Sequential()\n",
    "    model.add(Convolution2D(32,kernel_size=(5, 1), input_shape=(25,1,1),activation= 'LeakyReLU' ))\n",
    "    model.add(MaxPool2D(pool_size=(3,1)))\n",
    "    model.add(Convolution2D(32,kernel_size=(3, 1),activation= 'LeakyReLU' ))\n",
    "    model.add(MaxPool2D(pool_size=(2,1)))\n",
    "    model.add(Convolution2D(64,kernel_size=(2, 1),activation= 'LeakyReLU' ))\n",
    "    model.add(MaxPool2D(pool_size=(1,1)))\n",
    "    model.add(Dropout(0.3))\n",
    "    model.add(Flatten())\n",
    "    model.add(Dense(1,activation=\"sigmoid\"))\n",
    "    model.compile(loss=\"binary_crossentropy\",optimizer= Adam(learning_rate=0.03),metrics=[\"accuracy\"])\n",
    "\n",
    "    checkpoint= ModelCheckpoint(\"model_checkpoint.h5\",save_best_only=True)\n",
    "    early_stopping = EarlyStopping( patience=250, restore_best_weights=True)\n",
    "\n",
    "    x_train_new=x_train.values\n",
    "    x_test_new=x_test.values\n",
    "    y_train_new=y_train.values\n",
    "    y_test_new=y_test.values\n",
    "    \n",
    "    len_train=x_train_new.shape[0]\n",
    "    len_test=x_test_new.shape[0]\n",
    "\n",
    "    trainX = x_train_new.reshape(len_train,25,1)\n",
    "    trainX = trainX / 255.0\n",
    "    testX = x_test_new.reshape(len_test,25,1)\n",
    "    testX= testX / 255.0\n",
    "    \n",
    "    \n",
    "    \n",
    "    model.fit(trainX,y_train_new,epochs=1000,batch_size=500,verbose=0,validation_data=[testX,y_test_new],callbacks=[checkpoint,early_stopping])\n",
    "\n",
    "    predict=model.predict(testX)\n",
    "    score_814.append(roc_auc_score(y_test_new,predict))\n",
    "    false_positive_rate,true_positive_rate,thresholds= roc_curve(y_test,predict) \n",
    "    FPS_rate.append(false_positive_rate)\n",
    "    TPS_rate.append(true_positive_rate)\n",
    "\n",
    "    "
   ]
  },
  {
   "cell_type": "code",
   "execution_count": 540,
   "metadata": {},
   "outputs": [
    {
     "data": {
      "text/plain": [
       "[0.9812840215082316,\n",
       " 0.8778011875119709,\n",
       " 0.8301937370537347,\n",
       " 0.7146703296703297,\n",
       " 0.9625357921134787]"
      ]
     },
     "execution_count": 540,
     "metadata": {},
     "output_type": "execute_result"
    }
   ],
   "source": [
    "score_814"
   ]
  },
  {
   "cell_type": "markdown",
   "metadata": {},
   "source": [
    "# RESULTS"
   ]
  },
  {
   "cell_type": "code",
   "execution_count": 503,
   "metadata": {},
   "outputs": [
    {
     "data": {
      "image/png": "[encoded data removed]",
      "text/plain": [
       "<Figure size 432x288 with 1 Axes>"
      ]
     },
     "metadata": {
      "needs_background": "light"
     },
     "output_type": "display_data"
    }
   ],
   "source": [
    "data_0=pd.DataFrame(data={\"features\":['optical bands','optical bands+NIR','optical bands+NIR+F814','optical bands+NIR+F814+FWHM'],\"ANN\":score_ann,\"Random Forest\":score_rf,\"Ada boost\":score_ada,\"CNN\":score_1})\n",
    "plt.scatter(['optical bands','optical bands+NIR','optical bands+NIR+F814','optical bands+NIR+F814+FWHM'],score_ann,color=\"blue\",alpha=1,label=\"ANN\")\n",
    "plt.plot(['optical bands','optical bands+NIR','optical bands+NIR+F814','optical bands+NIR+F814+FWHM'],score_ann,color=\"blue\",alpha=1)\n",
    "plt.scatter(['optical bands','optical bands+NIR','optical bands+NIR+F814','optical bands+NIR+F814+FWHM'],score_rf,color=\"green\",alpha=1,label=\"random forest\")\n",
    "plt.plot(['optical bands','optical bands+NIR','optical bands+NIR+F814','optical bands+NIR+F814+FWHM'],score_rf,color=\"green\",alpha=1)\n",
    "plt.scatter(['optical bands','optical bands+NIR','optical bands+NIR+F814','optical bands+NIR+F814+FWHM'],score_ada,color=\"red\",alpha=1,label=\"ada boost\")\n",
    "plt.plot(['optical bands','optical bands+NIR','optical bands+NIR+F814','optical bands+NIR+F814+FWHM'],score_ada,color=\"red\",alpha=1)\n",
    "plt.scatter(['optical bands','optical bands+NIR','optical bands+NIR+F814','optical bands+NIR+F814+FWHM'],score_1,color=\"black\",alpha=1,label=\"CNN\")\n",
    "plt.plot(['optical bands','optical bands+NIR','optical bands+NIR+F814','optical bands+NIR+F814+FWHM'],score_1,color=\"black\",alpha=1)\n",
    "plt.ylabel('AUC score')\n",
    "plt.xlabel('Features')\n",
    "plt.xticks(rotation=20)\n",
    "plt.legend()\n",
    "plt.show()"
   ]
  },
  {
   "cell_type": "code",
   "execution_count": 558,
   "metadata": {},
   "outputs": [
    {
     "data": {
      "text/html": [
       "<div>\n",
       "<style scoped>\n",
       "    .dataframe tbody tr th:only-of-type {\n",
       "        vertical-align: middle;\n",
       "    }\n",
       "\n",
       "    .dataframe tbody tr th {\n",
       "        vertical-align: top;\n",
       "    }\n",
       "\n",
       "    .dataframe thead th {\n",
       "        text-align: right;\n",
       "    }\n",
       "</style>\n",
       "<table border=\"1\" class=\"dataframe\">\n",
       "  <thead>\n",
       "    <tr style=\"text-align: right;\">\n",
       "      <th></th>\n",
       "      <th>features</th>\n",
       "      <th>ANN</th>\n",
       "      <th>Random Forest</th>\n",
       "      <th>Ada boost</th>\n",
       "      <th>CNN</th>\n",
       "    </tr>\n",
       "  </thead>\n",
       "  <tbody>\n",
       "    <tr>\n",
       "      <th>0</th>\n",
       "      <td>optical bands</td>\n",
       "      <td>0.898172</td>\n",
       "      <td>0.969176</td>\n",
       "      <td>0.902258</td>\n",
       "      <td>0.983675</td>\n",
       "    </tr>\n",
       "    <tr>\n",
       "      <th>1</th>\n",
       "      <td>optical bands+NIR</td>\n",
       "      <td>0.978597</td>\n",
       "      <td>0.984727</td>\n",
       "      <td>0.972175</td>\n",
       "      <td>0.983418</td>\n",
       "    </tr>\n",
       "    <tr>\n",
       "      <th>2</th>\n",
       "      <td>optical bands+NIR+F814</td>\n",
       "      <td>0.982811</td>\n",
       "      <td>0.982990</td>\n",
       "      <td>0.967277</td>\n",
       "      <td>0.985758</td>\n",
       "    </tr>\n",
       "    <tr>\n",
       "      <th>3</th>\n",
       "      <td>optical bands+NIR+F814+FWHM</td>\n",
       "      <td>0.986883</td>\n",
       "      <td>0.989031</td>\n",
       "      <td>0.986019</td>\n",
       "      <td>0.986477</td>\n",
       "    </tr>\n",
       "  </tbody>\n",
       "</table>\n",
       "</div>"
      ],
      "text/plain": [
       "                      features       ANN  Random Forest  Ada boost       CNN\n",
       "0                optical bands  0.898172       0.969176   0.902258  0.983675\n",
       "1            optical bands+NIR  0.978597       0.984727   0.972175  0.983418\n",
       "2       optical bands+NIR+F814  0.982811       0.982990   0.967277  0.985758\n",
       "3  optical bands+NIR+F814+FWHM  0.986883       0.989031   0.986019  0.986477"
      ]
     },
     "execution_count": 558,
     "metadata": {},
     "output_type": "execute_result"
    }
   ],
   "source": [
    "data_0"
   ]
  },
  {
   "cell_type": "markdown",
   "metadata": {},
   "source": [
    "Auc score for different no. of features using CNN"
   ]
  },
  {
   "cell_type": "code",
   "execution_count": 521,
   "metadata": {},
   "outputs": [
    {
     "data": {
      "image/png": "[encoded data removed]",
      "text/plain": [
       "<Figure size 432x288 with 1 Axes>"
      ]
     },
     "metadata": {
      "needs_background": "light"
     },
     "output_type": "display_data"
    }
   ],
   "source": [
    "result_1=pd.DataFrame({'information used':['optical bands','optical bands+NIR','optical bands+NIR+F814','optical bands+NIR+F814+FWHM'],'F814<22.5':score_1,'F814<26':score_2})\n",
    "plt.scatter(['optical bands','optical bands+NIR','optical bands+NIR+F814','optical bands+NIR+F814+FWHM'],score_1,color=\"black\",alpha=1,label=\"F814<22.5\")\n",
    "plt.plot(['optical bands','optical bands+NIR','optical bands+NIR+F814','optical bands+NIR+F814+FWHM'],score_1,color=\"black\",alpha=1,ls='dashed')\n",
    "plt.scatter(['optical bands','optical bands+NIR','optical bands+NIR+F814','optical bands+NIR+F814+FWHM'],score_2,color=\"red\",alpha=1,label=\"F814<26\")\n",
    "plt.plot(['optical bands','optical bands+NIR','optical bands+NIR+F814','optical bands+NIR+F814+FWHM'],score_2,color=\"red\",alpha=1,ls='dashed')\n",
    "plt.ylim(ymin=0.95,ymax=1)\n",
    "plt.ylabel('AUC score')\n",
    "plt.xlabel('Features')\n",
    "plt.xticks(rotation=20)\n",
    "plt.legend()\n",
    "plt.show()"
   ]
  },
  {
   "cell_type": "code",
   "execution_count": 555,
   "metadata": {},
   "outputs": [
    {
     "data": {
      "text/html": [
       "<div>\n",
       "<style scoped>\n",
       "    .dataframe tbody tr th:only-of-type {\n",
       "        vertical-align: middle;\n",
       "    }\n",
       "\n",
       "    .dataframe tbody tr th {\n",
       "        vertical-align: top;\n",
       "    }\n",
       "\n",
       "    .dataframe thead th {\n",
       "        text-align: right;\n",
       "    }\n",
       "</style>\n",
       "<table border=\"1\" class=\"dataframe\">\n",
       "  <thead>\n",
       "    <tr style=\"text-align: right;\">\n",
       "      <th></th>\n",
       "      <th>information used</th>\n",
       "      <th>F814&lt;22.5</th>\n",
       "      <th>F814&lt;26</th>\n",
       "    </tr>\n",
       "  </thead>\n",
       "  <tbody>\n",
       "    <tr>\n",
       "      <th>0</th>\n",
       "      <td>optical bands</td>\n",
       "      <td>0.983675</td>\n",
       "      <td>0.961637</td>\n",
       "    </tr>\n",
       "    <tr>\n",
       "      <th>1</th>\n",
       "      <td>optical bands+NIR</td>\n",
       "      <td>0.983418</td>\n",
       "      <td>0.966291</td>\n",
       "    </tr>\n",
       "    <tr>\n",
       "      <th>2</th>\n",
       "      <td>optical bands+NIR+F814</td>\n",
       "      <td>0.985758</td>\n",
       "      <td>0.966555</td>\n",
       "    </tr>\n",
       "    <tr>\n",
       "      <th>3</th>\n",
       "      <td>optical bands+NIR+F814+FWHM</td>\n",
       "      <td>0.986477</td>\n",
       "      <td>0.966496</td>\n",
       "    </tr>\n",
       "  </tbody>\n",
       "</table>\n",
       "</div>"
      ],
      "text/plain": [
       "              information used  F814<22.5   F814<26\n",
       "0                optical bands   0.983675  0.961637\n",
       "1            optical bands+NIR   0.983418  0.966291\n",
       "2       optical bands+NIR+F814   0.985758  0.966555\n",
       "3  optical bands+NIR+F814+FWHM   0.986477  0.966496"
      ]
     },
     "execution_count": 555,
     "metadata": {},
     "output_type": "execute_result"
    }
   ],
   "source": [
    "result_1"
   ]
  },
  {
   "cell_type": "markdown",
   "metadata": {},
   "source": [
    "Roc curve for different ranges of F814 using CNN"
   ]
  },
  {
   "cell_type": "code",
   "execution_count": 545,
   "metadata": {},
   "outputs": [
    {
     "data": {
      "image/png": "[encoded data removed]",
      "text/plain": [
       "<Figure size 432x288 with 1 Axes>"
      ]
     },
     "metadata": {
      "needs_background": "light"
     },
     "output_type": "display_data"
    }
   ],
   "source": [
    "result_2=pd.DataFrame({'F814':[\"F814<22.5\",\"22.5<F814<23\",\"23<F814<24\",\"24<F814<25\",\"F814<26\"],'AUC score':score_814})\n",
    "plt.plot(FPS_rate[0],TPS_rate[0],color=\"black\",alpha=1,ls='dashed',label=\"F814<22.5\")\n",
    "plt.plot(FPS_rate[1],TPS_rate[1],color=\"purple\",alpha=1,ls='dashed',label=\"22.5<F814<23\")\n",
    "plt.plot(FPS_rate[2],TPS_rate[2],color=\"green\",alpha=1,ls='dashed',label=\"23<F814<24\")\n",
    "plt.plot(FPS_rate[3],TPS_rate[3],color=\"blue\",alpha=1,ls='dashed',label=\"24<F814<25\")\n",
    "plt.plot(FPS_rate[4],TPS_rate[4],color=\"red\",alpha=1,ls='dashed',label=\"F814<26\")\n",
    "plt.xlabel('False positive rate')\n",
    "plt.ylabel('True positive rate')\n",
    "\n",
    "plt.legend()\n",
    "plt.show()"
   ]
  },
  {
   "cell_type": "code",
   "execution_count": 556,
   "metadata": {},
   "outputs": [
    {
     "data": {
      "text/html": [
       "<div>\n",
       "<style scoped>\n",
       "    .dataframe tbody tr th:only-of-type {\n",
       "        vertical-align: middle;\n",
       "    }\n",
       "\n",
       "    .dataframe tbody tr th {\n",
       "        vertical-align: top;\n",
       "    }\n",
       "\n",
       "    .dataframe thead th {\n",
       "        text-align: right;\n",
       "    }\n",
       "</style>\n",
       "<table border=\"1\" class=\"dataframe\">\n",
       "  <thead>\n",
       "    <tr style=\"text-align: right;\">\n",
       "      <th></th>\n",
       "      <th>F814</th>\n",
       "      <th>AUC score</th>\n",
       "    </tr>\n",
       "  </thead>\n",
       "  <tbody>\n",
       "    <tr>\n",
       "      <th>0</th>\n",
       "      <td>F814&lt;22.5</td>\n",
       "      <td>0.981284</td>\n",
       "    </tr>\n",
       "    <tr>\n",
       "      <th>1</th>\n",
       "      <td>22.5&lt;F814&lt;23</td>\n",
       "      <td>0.877801</td>\n",
       "    </tr>\n",
       "    <tr>\n",
       "      <th>2</th>\n",
       "      <td>23&lt;F814&lt;24</td>\n",
       "      <td>0.830194</td>\n",
       "    </tr>\n",
       "    <tr>\n",
       "      <th>3</th>\n",
       "      <td>24&lt;F814&lt;25</td>\n",
       "      <td>0.714670</td>\n",
       "    </tr>\n",
       "    <tr>\n",
       "      <th>4</th>\n",
       "      <td>F814&lt;26</td>\n",
       "      <td>0.962536</td>\n",
       "    </tr>\n",
       "  </tbody>\n",
       "</table>\n",
       "</div>"
      ],
      "text/plain": [
       "           F814  AUC score\n",
       "0     F814<22.5   0.981284\n",
       "1  22.5<F814<23   0.877801\n",
       "2    23<F814<24   0.830194\n",
       "3    24<F814<25   0.714670\n",
       "4       F814<26   0.962536"
      ]
     },
     "execution_count": 556,
     "metadata": {},
     "output_type": "execute_result"
    }
   ],
   "source": [
    "result_2"
   ]
  },
  {
   "cell_type": "markdown",
   "metadata": {},
   "source": [
    "now comparing alhambras stellar flag and our predicted data"
   ]
  },
  {
   "cell_type": "code",
   "execution_count": 577,
   "metadata": {},
   "outputs": [],
   "source": [
    "f4=f1.copy(deep=True)\n",
    "f4=f4[f4['f814w']<26]\n",
    "X=f4.drop(['g/s'],axis=1)\n",
    "y=f4['g/s']\n",
    "x_train,x_test,y_train,y_test=train_test_split(X,y,test_size=0.15,random_state=1)\n",
    "x_test=pd.DataFrame(data=x_test['stellar_flag'],columns=['stellar_flag'])\n",
    "x_test=x_test.reset_index()\n",
    "x_test.drop('index',axis=1,inplace=True)\n",
    "all_class=predicted_class_2[0].merge(x_test,left_index=True,right_index=True)\n",
    "all_class.drop(all_class[all_class['stellar_flag']==0.5].index,inplace=True)\n",
    "all_class.loc[all_class[\"stellar_flag\"]<0.5, \"stellar_flag\"] = 0\n",
    "all_class.loc[all_class[\"stellar_flag\"]>0.5, \"stellar_flag\"] = 1\n",
    "\n"
   ]
  },
  {
   "cell_type": "code",
   "execution_count": 603,
   "metadata": {},
   "outputs": [
    {
     "data": {
      "text/html": [
       "<div>\n",
       "<style scoped>\n",
       "    .dataframe tbody tr th:only-of-type {\n",
       "        vertical-align: middle;\n",
       "    }\n",
       "\n",
       "    .dataframe tbody tr th {\n",
       "        vertical-align: top;\n",
       "    }\n",
       "\n",
       "    .dataframe thead th {\n",
       "        text-align: right;\n",
       "    }\n",
       "</style>\n",
       "<table border=\"1\" class=\"dataframe\">\n",
       "  <thead>\n",
       "    <tr style=\"text-align: right;\">\n",
       "      <th></th>\n",
       "      <th>pred_class</th>\n",
       "      <th>stellar_flag</th>\n",
       "    </tr>\n",
       "  </thead>\n",
       "  <tbody>\n",
       "    <tr>\n",
       "      <th>4</th>\n",
       "      <td>0.0</td>\n",
       "      <td>0.0</td>\n",
       "    </tr>\n",
       "    <tr>\n",
       "      <th>15</th>\n",
       "      <td>0.0</td>\n",
       "      <td>0.0</td>\n",
       "    </tr>\n",
       "    <tr>\n",
       "      <th>19</th>\n",
       "      <td>0.0</td>\n",
       "      <td>0.0</td>\n",
       "    </tr>\n",
       "    <tr>\n",
       "      <th>31</th>\n",
       "      <td>0.0</td>\n",
       "      <td>0.0</td>\n",
       "    </tr>\n",
       "    <tr>\n",
       "      <th>34</th>\n",
       "      <td>0.0</td>\n",
       "      <td>0.0</td>\n",
       "    </tr>\n",
       "    <tr>\n",
       "      <th>...</th>\n",
       "      <td>...</td>\n",
       "      <td>...</td>\n",
       "    </tr>\n",
       "    <tr>\n",
       "      <th>4767</th>\n",
       "      <td>0.0</td>\n",
       "      <td>0.0</td>\n",
       "    </tr>\n",
       "    <tr>\n",
       "      <th>4771</th>\n",
       "      <td>1.0</td>\n",
       "      <td>1.0</td>\n",
       "    </tr>\n",
       "    <tr>\n",
       "      <th>4774</th>\n",
       "      <td>0.0</td>\n",
       "      <td>0.0</td>\n",
       "    </tr>\n",
       "    <tr>\n",
       "      <th>4777</th>\n",
       "      <td>0.0</td>\n",
       "      <td>0.0</td>\n",
       "    </tr>\n",
       "    <tr>\n",
       "      <th>4778</th>\n",
       "      <td>1.0</td>\n",
       "      <td>1.0</td>\n",
       "    </tr>\n",
       "  </tbody>\n",
       "</table>\n",
       "<p>1151 rows × 2 columns</p>\n",
       "</div>"
      ],
      "text/plain": [
       "      pred_class  stellar_flag\n",
       "4            0.0           0.0\n",
       "15           0.0           0.0\n",
       "19           0.0           0.0\n",
       "31           0.0           0.0\n",
       "34           0.0           0.0\n",
       "...          ...           ...\n",
       "4767         0.0           0.0\n",
       "4771         1.0           1.0\n",
       "4774         0.0           0.0\n",
       "4777         0.0           0.0\n",
       "4778         1.0           1.0\n",
       "\n",
       "[1151 rows x 2 columns]"
      ]
     },
     "execution_count": 603,
     "metadata": {},
     "output_type": "execute_result"
    }
   ],
   "source": [
    "all_class"
   ]
  },
  {
   "cell_type": "markdown",
   "metadata": {},
   "source": [
    "accuracy"
   ]
  },
  {
   "cell_type": "code",
   "execution_count": 610,
   "metadata": {},
   "outputs": [
    {
     "data": {
      "text/plain": [
       "0.9556907037358818"
      ]
     },
     "execution_count": 610,
     "metadata": {},
     "output_type": "execute_result"
    }
   ],
   "source": [
    "from sklearn.metrics import accuracy_score\n",
    "accuracy_score(all_class['stellar_flag'],all_class['pred_class'],)"
   ]
  },
  {
   "cell_type": "markdown",
   "metadata": {},
   "source": [
    "therefore we can see that alhambras classification and our classification is pretty much same"
   ]
  }
 ],
 "metadata": {
  "kernelspec": {
   "display_name": "Python 3.10.4 64-bit",
   "language": "python",
   "name": "python3"
  },
  "language_info": {
   "codemirror_mode": {
    "name": "ipython",
    "version": 3
   },
   "file_extension": ".py",
   "mimetype": "text/x-python",
   "name": "python",
   "nbconvert_exporter": "python",
   "pygments_lexer": "ipython3",
   "version": "3.10.4"
  },
  "orig_nbformat": 4,
  "vscode": {
   "interpreter": {
    "hash": "916dbcbb3f70747c44a77c7bcd40155683ae19c65e1c03b4aa3499c5328201f1"
   }
  }
 },
 "nbformat": 4,
 "nbformat_minor": 2
}
